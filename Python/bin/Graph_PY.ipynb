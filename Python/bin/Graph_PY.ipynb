{
 "cells": [
  {
   "cell_type": "markdown",
   "metadata": {},
   "source": [
    "## DataStucture: Read DataSet"
   ]
  },
  {
   "cell_type": "code",
   "execution_count": 1,
   "metadata": {},
   "outputs": [],
   "source": [
    "import csv\n",
    "anime_title = []\n",
    "users = []\n",
    "with open('AnimeList.csv', 'r', encoding=\"utf8\") as f:\n",
    "    reader = csv.DictReader(f)\n",
    "    data = list(reader)\n",
    "    anime_title.extend(i['title'] for i in data)\n",
    "with open('UserList.csv', 'r', encoding=\"utf8\") as f:\n",
    "    reader = csv.DictReader(f)\n",
    "    data = list(reader)\n",
    "    users.extend(i['username'] for i in data)\n"
   ]
  },
  {
   "cell_type": "markdown",
   "metadata": {},
   "source": [
    "## DataStucture: BinarySearchTree"
   ]
  },
  {
   "cell_type": "markdown",
   "metadata": {},
   "source": [
    "## DataStucture: Graph"
   ]
  },
  {
   "cell_type": "code",
   "execution_count": 2,
   "metadata": {},
   "outputs": [],
   "source": [
    "class Graph :\n",
    "    def __init__(self, directed=False):\n",
    "        self.Directed = directed\n",
    "        self.nodes = {}\n",
    "    def add_node(self, name):\n",
    "        if name not in self.nodes:\n",
    "            self.nodes[name] = {}\n",
    "    def add_edge(self, node1, node2, weight=1): \n",
    "        if node1 in self.nodes and node2 in self.nodes:\n",
    "            self.nodes[node1][node2] = weight\n",
    "            if not self.Directed :\n",
    "                self.nodes[node2][node1] = weight\n",
    "    def remove_node(self,name) :\n",
    "        if name in self.nodes :\n",
    "            del self.nodes[name]\n",
    "            for k in self.nodes :\n",
    "                if name in self.nodes[k] :\n",
    "                    del self.nodes[k][name]\n",
    "    def remove_edge(self,node1,node2):\n",
    "        if node1 in self.nodes and node2 in self.nodes[node1]:\n",
    "            del self.nodes[node1][node2]\n",
    "            if not self.Directed :\n",
    "                del self.nodes[node2][node1]\n",
    "    def print_graph(self):\n",
    "        for k in self.nodes:\n",
    "            print(k , \": \", self.nodes[k])"
   ]
  },
  {
   "cell_type": "code",
   "execution_count": 3,
   "metadata": {},
   "outputs": [
    {
     "name": "stdout",
     "output_type": "stream",
     "text": [
      "A :  {'B': 4, 'H': 8}\n",
      "B :  {'A': 4, 'C': 8, 'H': 11}\n",
      "C :  {'B': 8, 'D': 7, 'F': 4, 'I': 2}\n",
      "D :  {'C': 7, 'E': 9, 'F': 14}\n",
      "E :  {'D': 9, 'F': 10}\n",
      "F :  {'C': 4, 'D': 14, 'E': 10, 'G': 8, 'H': 8}\n",
      "G :  {'F': 8, 'H': 1, 'I': 6}\n",
      "H :  {'A': 8, 'B': 11, 'F': 8, 'G': 1, 'I': 7}\n",
      "I :  {'C': 2, 'G': 6, 'H': 7}\n",
      "==============================\n",
      "A :  {}\n",
      "B :  {}\n",
      "C :  {}\n",
      "D :  {'E': 9, 'F': 14}\n",
      "E :  {'D': 9, 'F': 10}\n",
      "F :  {'D': 14, 'E': 10, 'G': 8, 'H': 8}\n",
      "G :  {'F': 8, 'H': 1, 'I': 6}\n",
      "H :  {'F': 8, 'G': 1, 'I': 7}\n",
      "I :  {'G': 6, 'H': 7}\n",
      "==============================\n",
      "D :  {'E': 9, 'F': 14}\n",
      "E :  {'D': 9, 'F': 10}\n",
      "F :  {'D': 14, 'E': 10, 'G': 8, 'H': 8}\n",
      "G :  {'F': 8, 'H': 1, 'I': 6}\n",
      "H :  {'F': 8, 'G': 1, 'I': 7}\n",
      "I :  {'G': 6, 'H': 7}\n"
     ]
    }
   ],
   "source": [
    "g = Graph()\n",
    "\n",
    "node = ['A','B','C','D','E','F','G','H','I']\n",
    "for n in node :\n",
    "    g.add_node(n)\n",
    "edge = [\n",
    "    ('A','B',4),('A','H',8),\n",
    "    ('B','C',8),('B','H',11),\n",
    "    ('C','D',7),('C','F',4),('C','I',2),\n",
    "    ('D','E',9),('D','F',14),\n",
    "    ('E','F',10),\n",
    "    ('F','G',8),('F','H',8),\n",
    "    ('G','H',1),('G','I',6),\n",
    "    ('H','I',7)\n",
    "]\n",
    "\n",
    "for e in edge:\n",
    "    if len(e) == 2 :\n",
    "        g.add_edge(e[0],e[1])\n",
    "    else :\n",
    "        g.add_edge(e[0],e[1],e[2])\n",
    "\n",
    "g.print_graph()\n",
    "print(\"==============================\")\n",
    "\n",
    "remove_edge = [\n",
    "    ('A','B'),('A','H'),\n",
    "    ('B','C'),('B','H'),\n",
    "    ('C','D'),('C','F'),('C','I'),\n",
    "]\n",
    "\n",
    "for r in remove_edge :\n",
    "    g.remove_edge(r[0],r[1])\n",
    "\n",
    "g.print_graph()\n",
    "print(\"==============================\")\n",
    "\n",
    "remove_node = [\n",
    "    'A','B','C'\n",
    "]\n",
    "\n",
    "for r in remove_node :\n",
    "    g.remove_node(r)\n",
    "\n",
    "g.print_graph()\n"
   ]
  },
  {
   "cell_type": "markdown",
   "metadata": {},
   "source": [
    "## DataStucture: Heaps"
   ]
  },
  {
   "cell_type": "code",
   "execution_count": 4,
   "metadata": {},
   "outputs": [],
   "source": [
    "class Heap:\n",
    "    def __init__(self, data=None):\n",
    "        self.data = []\n",
    "        if data:\n",
    "            self.data = data\n",
    "            self.heapify()\n",
    "    def heapify(self):\n",
    "        for i in range(len(self.data)-1, -1, -1):\n",
    "            self.sift_down(i)\n",
    "    def sift_down(self, i):\n",
    "        while i*2+1 < len(self.data):\n",
    "            left = i*2+1\n",
    "            right = i*2+2\n",
    "            if right < len(self.data) and self.data[right] < self.data[left]:\n",
    "                left = right\n",
    "            if self.data[i] < self.data[left]:\n",
    "                break\n",
    "            self.data[i], self.data[left] = self.data[left], self.data[i]\n",
    "            i = left\n",
    "    def sift_up(self, i):\n",
    "        while i > 0:\n",
    "            parent = (i-1)//2\n",
    "            if self.data[parent] < self.data[i]:\n",
    "                break\n",
    "            self.data[i], self.data[parent] = self.data[parent], self.data[i]\n",
    "            i = parent\n",
    "    def insert(self, value):\n",
    "        self.data.append(value)\n",
    "        self.sift_up(len(self.data)-1)\n",
    "    def extract_min(self):\n",
    "        self.data[0], self.data[-1] = self.data[-1], self.data[0]\n",
    "        value = self.data.pop()\n",
    "        self.sift_down(0)\n",
    "        return value\n",
    "    def __len__(self):\n",
    "        return len(self.data)\n",
    "    def __str__(self):\n",
    "        return str(self.data)"
   ]
  },
  {
   "cell_type": "code",
   "execution_count": 5,
   "metadata": {},
   "outputs": [
    {
     "name": "stdout",
     "output_type": "stream",
     "text": [
      "1\n",
      "2\n",
      "3\n",
      "4\n",
      "5\n",
      "8\n"
     ]
    }
   ],
   "source": [
    "heap = Heap([5, 3, 8, 4, 1, 2])\n",
    "print(heap.extract_min())\n",
    "print(heap.extract_min())\n",
    "print(heap.extract_min())\n",
    "print(heap.extract_min())\n",
    "print(heap.extract_min())\n",
    "print(heap.extract_min())"
   ]
  },
  {
   "cell_type": "markdown",
   "metadata": {},
   "source": [
    "## DataStucture: Tries"
   ]
  },
  {
   "cell_type": "code",
   "execution_count": 6,
   "metadata": {},
   "outputs": [],
   "source": [
    "class Node:\n",
    "    def __init__(self):\n",
    "        self.chliden = {}\n",
    "        self.flag = False\n",
    "\n",
    "    def add(self, c):\n",
    "        self.chliden[c] = Node()\n",
    "class Tries:\n",
    "    def __init__(self):\n",
    "        self.root = Node()\n",
    "\n",
    "    def getRoot(self):\n",
    "        return self.root\n",
    "\n",
    "    def printTries(self):\n",
    "        last = False\n",
    "        for i, key in enumerate(self.root.chliden):\n",
    "            print(\"+--%c\" % key)\n",
    "            if i == len(self.root.chliden) - 1:\n",
    "                last = True\n",
    "            self.printTrie(self.root.chliden[key], \"\", last)\n",
    "\n",
    "    def printTrie(self, dic, indent, last):\n",
    "        tmp = False\n",
    "        indent += \"   \" if last else \"|  \"\n",
    "        for i, key in enumerate(dic.chliden):\n",
    "            print(f\"{indent}+--{key}\")\n",
    "            if i == len(dic.chliden) - 1:\n",
    "                tmp = True\n",
    "            self.printTrie(dic.chliden[key], indent, tmp)\n",
    "\n",
    "    def contains(self, word):\n",
    "        current = self.root\n",
    "        for c in word:\n",
    "            if c not in current.chliden:\n",
    "                return False\n",
    "            current = current.chliden[c]\n",
    "        return current.flag\n",
    "\n",
    "    def recomment_word(self, cut_word):\n",
    "        cur_word = list(cut_word)\n",
    "        current = self.root\n",
    "        for c in cur_word:\n",
    "            if c not in current.chliden:\n",
    "                return []\n",
    "            current = current.chliden[c]\n",
    "        return self.recomment(current, cut_word)\n",
    "\n",
    "    def inseart(self, text):\n",
    "        i = 0\n",
    "        current = self.root\n",
    "        while i < len(text):\n",
    "            if text[i] not in current.chliden:\n",
    "                current.add(text[i])\n",
    "            current = current.chliden[text[i]]\n",
    "            i += 1\n",
    "        current.flag = True"
   ]
  },
  {
   "cell_type": "markdown",
   "metadata": {},
   "source": [
    "### Trie: Anime_title"
   ]
  },
  {
   "cell_type": "code",
   "execution_count": 16,
   "metadata": {},
   "outputs": [],
   "source": [
    "tries_anime_title = Tries() # insert word to tries\n",
    "for t in anime_title:\n",
    "    tries_anime_title.inseart(t)"
   ]
  },
  {
   "cell_type": "code",
   "execution_count": 36,
   "metadata": {},
   "outputs": [
    {
     "name": "stdout",
     "output_type": "stream",
     "text": [
      "True\n"
     ]
    }
   ],
   "source": [
    "print(tries_anime_title.contains(\"Inu x Boku SS\"))\n",
    "# print(tries_anime_title.recomment_word(\"Inu x Boku SS\"))\n",
    "# print(tries_anime_title.printTries())\n"
   ]
  },
  {
   "cell_type": "markdown",
   "metadata": {},
   "source": [
    "### Trie: Users"
   ]
  },
  {
   "cell_type": "code",
   "execution_count": 42,
   "metadata": {},
   "outputs": [],
   "source": [
    "tries_users = Tries() # insert word to tries\n",
    "for t in users:\n",
    "    tries_users.inseart(t)"
   ]
  },
  {
   "cell_type": "code",
   "execution_count": 50,
   "metadata": {},
   "outputs": [
    {
     "name": "stdout",
     "output_type": "stream",
     "text": [
      "False\n",
      "False\n"
     ]
    }
   ],
   "source": [
    "print(tries_users.contains(\"Inu x Boku SS\"))\n",
    "print(tries_users.contains(\"Senjou no Valkyria Special\"))"
   ]
  },
  {
   "cell_type": "markdown",
   "metadata": {},
   "source": [
    "## Python: Short Circuit Evaluation"
   ]
  },
  {
   "cell_type": "code",
   "execution_count": 39,
   "metadata": {},
   "outputs": [
    {
     "name": "stdout",
     "output_type": "stream",
     "text": [
      "nAmiLesi.tscv\n"
     ]
    }
   ],
   "source": [
    "# s = input('input char : ')\n",
    "s = \"AnimeList.csv\"\n",
    "t = ''.join([s[x:x+2][::-1] for x in range(0, len(s), 2) ])\n",
    "print(t)"
   ]
  },
  {
   "cell_type": "code",
   "execution_count": 41,
   "metadata": {},
   "outputs": [
    {
     "name": "stdout",
     "output_type": "stream",
     "text": [
      "['apple', 'banana', 'mango']\n"
     ]
    }
   ],
   "source": [
    "#newlist = [expression for item in iterable if condition == True]\n",
    "\n",
    "fruits = [\"apple\", \"banana\", \"cherry\", \"kiwi\", \"mango\"]\n",
    "newlist = [x for x in fruits if 'a' in x]\n",
    "print(newlist)"
   ]
  },
  {
   "cell_type": "code",
   "execution_count": 14,
   "metadata": {},
   "outputs": [
    {
     "name": "stdout",
     "output_type": "stream",
     "text": [
      "args = (3, 4, 5)\n",
      "kwargs = {'c': {'a': {'1': 'open', '2': 'close'}}, 'd': 50}\n"
     ]
    }
   ],
   "source": [
    "def fn1(a,b,*args,**kwargs) :\n",
    "    print(f'args = {args}')\n",
    "    print(f'kwargs = {kwargs}')\n",
    "\n",
    "fn1(1,2,3,4,5,c={'a':{'1':'open', '2':'close'}},d=50)"
   ]
  },
  {
   "cell_type": "code",
   "execution_count": 20,
   "metadata": {},
   "outputs": [
    {
     "name": "stdout",
     "output_type": "stream",
     "text": [
      "1 2 3\n"
     ]
    }
   ],
   "source": [
    "def fn2(a,b,c) :\n",
    "    print(a,b,c)\n",
    "\n",
    "lst = [1,2,3]\n",
    "fn2(*lst)"
   ]
  },
  {
   "cell_type": "code",
   "execution_count": 21,
   "metadata": {},
   "outputs": [
    {
     "name": "stdout",
     "output_type": "stream",
     "text": [
      "1 3 2\n"
     ]
    }
   ],
   "source": [
    "def fn3(a,b,c) :\n",
    "    print(a,b,c)\n",
    "dc = {'a':1 , 'c':2 ,'b':3}\n",
    "fn2(**dc)"
   ]
  },
  {
   "cell_type": "code",
   "execution_count": 67,
   "metadata": {},
   "outputs": [
    {
     "name": "stdout",
     "output_type": "stream",
     "text": [
      "a 1\n",
      "b 2\n",
      "c 3\n",
      "d 4\n"
     ]
    }
   ],
   "source": [
    "numbers = [1,2,3,4,5,6]\n",
    "nums:dict = { \"a\":1, \"b\":2, \"c\":3, \"d\":4 }\n",
    "for k,v in nums.items():\n",
    "    print(k,v)"
   ]
  },
  {
   "cell_type": "code",
   "execution_count": 15,
   "metadata": {},
   "outputs": [
    {
     "data": {
      "text/plain": [
       "[1, 3, 5, 2, 4, 6]"
      ]
     },
     "execution_count": 15,
     "metadata": {},
     "output_type": "execute_result"
    }
   ],
   "source": [
    "ls1 = [1,3,5]\n",
    "ls2 = [2,4,6]\n",
    "merge1 = ls1+ls2\n",
    "merge1\n"
   ]
  },
  {
   "cell_type": "code",
   "execution_count": 17,
   "metadata": {},
   "outputs": [
    {
     "name": "stdout",
     "output_type": "stream",
     "text": [
      "{'a': 1, 'b': 2, 'c': 1, 'd': 2}\n"
     ]
    }
   ],
   "source": [
    "dc1 = {'a':1,'b':2}\n",
    "dc2 = {'c':1,'d':2}\n",
    "merge2 = dc1 | dc2\n",
    "print(dc1 | dc2)"
   ]
  },
  {
   "cell_type": "code",
   "execution_count": 17,
   "metadata": {},
   "outputs": [
    {
     "data": {
      "text/plain": [
       "[-4, -3, -2, -1, 0, 1, 2, 3]"
      ]
     },
     "execution_count": 17,
     "metadata": {},
     "output_type": "execute_result"
    }
   ],
   "source": [
    "#newlist = [expression for item in iterable if condition == True]\n",
    "\n",
    "a = [1,2,3,4,5,6,7,8]\n",
    "b = [ x-5 for x in a]\n",
    "b"
   ]
  },
  {
   "cell_type": "code",
   "execution_count": 69,
   "metadata": {},
   "outputs": [],
   "source": [
    "a = [1,2,3,4,5,6,7,8]"
   ]
  },
  {
   "cell_type": "code",
   "execution_count": 19,
   "metadata": {},
   "outputs": [],
   "source": [
    "b = list()\n",
    "for i in a :\n",
    "    if i%2==0 :\n",
    "        b.append(i)"
   ]
  },
  {
   "cell_type": "code",
   "execution_count": 70,
   "metadata": {},
   "outputs": [
    {
     "name": "stdout",
     "output_type": "stream",
     "text": [
      "[2, 4, 6, 8]\n"
     ]
    }
   ],
   "source": [
    "print([i for i in a if i%2==0])"
   ]
  },
  {
   "cell_type": "code",
   "execution_count": 83,
   "metadata": {},
   "outputs": [
    {
     "name": "stdout",
     "output_type": "stream",
     "text": [
      "[2, 4, 6, 8, 10]\n",
      "[2, 4, 6, 8, 10]\n",
      "[2, 4, 6, 8, 10]\n",
      "a 1\n",
      "b 2\n",
      "c 3\n",
      "d 4\n",
      "e 5\n",
      "f 6\n",
      "g 7\n",
      "h 8\n",
      "i 9\n",
      "j 10\n"
     ]
    }
   ],
   "source": [
    "l = [1,2,3,4,5,6,7,8,9,10]\n",
    "tu = (1,2,3,4,5,6,7,8,9,10)\n",
    "st = {1,2,3,4,5,6,7,8,9,10}\n",
    "di = {'a':1,'b':2,'c':3,'d':4,'e':5,'f':6,'g':7,'h':8,'i':9,'j':10}\n",
    "print([i for i in l if i%2==0])\n",
    "print([i for i in tu if i%2==0])\n",
    "print([i for i in st if i%2==0])\n",
    "\n",
    "for k,v in di.items() :\n",
    "    print(k,v)"
   ]
  },
  {
   "cell_type": "code",
   "execution_count": 15,
   "metadata": {},
   "outputs": [
    {
     "name": "stdout",
     "output_type": "stream",
     "text": [
      "a 1\n",
      "b 2\n",
      "name is test age is 20\n",
      "{'name': <class 'str'>, 'age': <class 'int'>, 'return': <class 'list'>}\n"
     ]
    }
   ],
   "source": [
    "class re_app:\n",
    "    def __init__(self):\n",
    "        self.app = {}\n",
    "    def add(self, key, value):\n",
    "        self.app[key] = value\n",
    "    def print(self) -> dict[str,str]:\n",
    "        return self.app\n",
    "\n",
    "s = re_app()\n",
    "s.add('a',1)\n",
    "s.add('b',2)\n",
    "\n",
    "for k,v in s.print().items() :\n",
    "    print(k,v)\n",
    "\n",
    "def function(name:str ,age:int) -> list:\n",
    "    print(f\"name is {name} age is {age}\")\n",
    "\n",
    "function(\"test\",20)\n",
    "print(function.__annotations__)"
   ]
  },
  {
   "attachments": {},
   "cell_type": "markdown",
   "metadata": {},
   "source": [
    "# DataScience"
   ]
  },
  {
   "attachments": {},
   "cell_type": "markdown",
   "metadata": {},
   "source": []
  },
  {
   "cell_type": "code",
   "execution_count": 7,
   "metadata": {},
   "outputs": [
    {
     "name": "stdout",
     "output_type": "stream",
     "text": [
      "302675\n"
     ]
    }
   ],
   "source": [
    "print()"
   ]
  },
  {
   "cell_type": "code",
   "execution_count": 82,
   "metadata": {},
   "outputs": [],
   "source": [
    "# # Import the profile module\n",
    "# import profile\n",
    "\n",
    "# # Define the code that you want to profile\n",
    "# a = []\n",
    "# def my_function():\n",
    "#     for i in users:\n",
    "#         if(\"Loaser\" in i):\n",
    "#             a.append(i)\n",
    "#     print(a)\n",
    "\n",
    "# # Use the profile.run() function to run the code and generate profiling information\n",
    "# profile.run(\"my_function()\")"
   ]
  }
 ],
 "metadata": {
  "kernelspec": {
   "display_name": "Python 3",
   "language": "python",
   "name": "python3"
  },
  "language_info": {
   "codemirror_mode": {
    "name": "ipython",
    "version": 3
   },
   "file_extension": ".py",
   "mimetype": "text/x-python",
   "name": "python",
   "nbconvert_exporter": "python",
   "pygments_lexer": "ipython3",
   "version": "3.11.0"
  },
  "vscode": {
   "interpreter": {
    "hash": "b9cff1e3f27f41c3d82f8aa7ca980547e7195b06df7065db8093691adbe01ba1"
   }
  }
 },
 "nbformat": 4,
 "nbformat_minor": 4
}
