{
 "cells": [
  {
   "cell_type": "markdown",
   "metadata": {},
   "source": [
    "# Data Structure Final"
   ]
  },
  {
   "attachments": {},
   "cell_type": "markdown",
   "metadata": {},
   "source": [
    "## Python for Beginner"
   ]
  },
  {
   "cell_type": "markdown",
   "metadata": {},
   "source": [
    "Python print"
   ]
  },
  {
   "cell_type": "code",
   "execution_count": null,
   "metadata": {},
   "outputs": [],
   "source": [
    "print(\"Welcome to Python FAH Structures\")\n",
    "print(\"Welcome to Kasetsart University\")\n",
    "print(\"Welcome to Python Data Structures\")"
   ]
  },
  {
   "cell_type": "markdown",
   "metadata": {},
   "source": [
    "Python Variables"
   ]
  },
  {
   "cell_type": "code",
   "execution_count": null,
   "metadata": {},
   "outputs": [],
   "source": [
    "a = 10 # a is an integer\n",
    "b = 10.5 # b is a float\n",
    "c = \"Hello\" # c is a string\n",
    "d = True # d is a boolean\n",
    "\n",
    "e = [1, 2, 3, 4, 5] # list\n",
    "f = (1, 2, 3, 3, 5) # tuple\n",
    "g = {\"name\": \"John\", \"age\": 30} # dictionary\n",
    "h = {1, 2, 3, 4, 5, 6} # set\n",
    "\n",
    "print(f\"a = {a}, b = {b}, c = {c}, d = {d}\")\n",
    "print(\"a = %d, b = %f, c = %s, d = %s\" % (a, b, c, d))"
   ]
  },
  {
   "cell_type": "markdown",
   "metadata": {},
   "source": [
    "Arithmetic Operators"
   ]
  },
  {
   "cell_type": "code",
   "execution_count": null,
   "metadata": {},
   "outputs": [],
   "source": [
    "a = 9\n",
    "b = 3\n",
    "print(\"Arithmetic Operators\")\n",
    "print(\"a + b = %d\" % (a + b))\n",
    "print(\"a - b = %d\" % (a - b))\n",
    "print(\"a * b = %d\" % (a * b))\n",
    "print(\"a / b = %f\" % (a / b))\n",
    "print(\"a // b = %d\" % (a // b))\n",
    "# print(\"a % b = %d\" % (a % b))\n",
    "print(\"a ** b = %d\" % (a ** b))"
   ]
  },
  {
   "cell_type": "markdown",
   "metadata": {},
   "source": [
    "Comparison Operators"
   ]
  },
  {
   "cell_type": "code",
   "execution_count": null,
   "metadata": {},
   "outputs": [],
   "source": [
    "a: int = 10 \n",
    "b: int = 3\n",
    "print(\"Comparison Operators\")\n",
    "print(f\"a > b = {a > b}\")\n",
    "print(f\"a < b = {a < b}\")\n",
    "print(f\"a == b = {a == b}\")\n",
    "print(f\"a != b = {a != b}\")\n",
    "print(f\"a >= b = {a >= b}\")\n",
    "print(f\"a <= b = {a <= b}\")"
   ]
  },
  {
   "cell_type": "markdown",
   "metadata": {},
   "source": [
    "Assignments Operators"
   ]
  },
  {
   "cell_type": "code",
   "execution_count": null,
   "metadata": {},
   "outputs": [],
   "source": [
    "print(\"Assignments Operators\")\n",
    "a = 10 \n",
    "b = 3\n",
    "a += b\n",
    "# a = a + b\n",
    "print(f\"a += b = {a}\")\n",
    "a = 10 \n",
    "b = 3\n",
    "a -= b\n",
    "# a = a - b\n",
    "print(f\"a -= b = {a}\")\n",
    "a = 10 \n",
    "b = 3\n",
    "a *= b\n",
    "# a = a * b\n",
    "print(f\"a *= b = {a}\")\n",
    "a = 10 \n",
    "b = 3\n",
    "a /= b\n",
    "# a = a / b\n",
    "print(f\"a /= b = {a}\")\n",
    "a = 10 \n",
    "b = 3\n",
    "a %= b\n",
    "# a = a % b\n",
    "print(f\"a %= b = {a}\")\n",
    "a = 10 \n",
    "b = 3\n",
    "a //= b\n",
    "# a = a // b\n",
    "print(f\"a //= b = {a}\")\n",
    "a = 10 \n",
    "b = 3\n",
    "a **= b\n",
    "# a = a ** b\n",
    "print(f\"a **= b = {a}\")"
   ]
  },
  {
   "cell_type": "markdown",
   "metadata": {},
   "source": [
    "Logical Operators"
   ]
  },
  {
   "cell_type": "code",
   "execution_count": null,
   "metadata": {},
   "outputs": [],
   "source": [
    "e = True\n",
    "f = False\n",
    "# e = [6,7,6,5]\n",
    "# f = [6,7,1]\n",
    "print(\"Logical Operators\")\n",
    "print(f\"e and f = {e and f}\")\n",
    "print(f\"e or b = {e or f}\")\n",
    "print(f\"not e = {not e}\")"
   ]
  },
  {
   "cell_type": "markdown",
   "metadata": {},
   "source": [
    "Membership Operators"
   ]
  },
  {
   "cell_type": "code",
   "execution_count": null,
   "metadata": {},
   "outputs": [],
   "source": [
    "a = 10\n",
    "b = [1, 2, 3, 4, 5]\n",
    "print(\"Membership Operators\")\n",
    "print(f\"a in b = {a in b}\")\n",
    "print(f\"a not in b = {a not in b}\")"
   ]
  },
  {
   "cell_type": "markdown",
   "metadata": {},
   "source": [
    "Identity Operators"
   ]
  },
  {
   "cell_type": "code",
   "execution_count": null,
   "metadata": {},
   "outputs": [],
   "source": [
    "a = 10\n",
    "b = 10\n",
    "print(\"Identity Operators\")\n",
    "print(f\"a is b = {a is b}\")\n",
    "print(f\"a is not b = {a is not b}\")"
   ]
  },
  {
   "cell_type": "markdown",
   "metadata": {},
   "source": [
    "If else statement"
   ]
  },
  {
   "cell_type": "code",
   "execution_count": null,
   "metadata": {},
   "outputs": [],
   "source": [
    "inp = int(input())\n",
    "if inp > 5:\n",
    "    print(\"inp > 5\")\n",
    "elif inp == 5:\n",
    "    print(\"inp == 5\")\n",
    "else:\n",
    "    print(\"inp < 5\")"
   ]
  },
  {
   "cell_type": "markdown",
   "metadata": {},
   "source": [
    "Loop statement"
   ]
  },
  {
   "cell_type": "code",
   "execution_count": null,
   "metadata": {},
   "outputs": [],
   "source": [
    "for i in range(10):\n",
    "    print(i, end=\" \")\n",
    "\n",
    "start = 0\n",
    "stop = 10\n",
    "step = 2\n",
    "for i in range(start, stop, step):\n",
    "    print(i)\n",
    "\n",
    "for i in range(10):\n",
    "    if i == 5:\n",
    "        continue\n",
    "    print(i, end=\" \")\n",
    "\n",
    "for i in range(10):\n",
    "    if i == 5:\n",
    "        break\n",
    "    print(i, end=\" \")"
   ]
  },
  {
   "cell_type": "markdown",
   "metadata": {},
   "source": [
    "String slice"
   ]
  },
  {
   "cell_type": "code",
   "execution_count": null,
   "metadata": {},
   "outputs": [],
   "source": [
    "name = \"Tanapat Eiam-arj\"\n",
    "# print(name[0:5])\n",
    "# print(name[3:5])\n",
    "# print(name[0:5:2])\n",
    "# print(name[0::])\n",
    "print(name[-5:-1])\n"
   ]
  },
  {
   "cell_type": "markdown",
   "metadata": {},
   "source": [
    "Lists"
   ]
  },
  {
   "cell_type": "code",
   "execution_count": null,
   "metadata": {},
   "outputs": [],
   "source": [
    "# {} # dictionary\n",
    "# {} # set\n",
    "# [] # list\n",
    "# () # tuple\n",
    "\n",
    "# list\n",
    "# a = [1, 2, 3, 4, 5]\n",
    "# a = [5, 4, 3, 2, 1]\n",
    "# a = [4, 5, 3, 1, 2, 2, 2]\n",
    "# b = [5, 4, 3, 2, 1]\n",
    "# a.pop()\n",
    "# a.append(20)\n",
    "# a.insert(1, 10)\n",
    "# a.remove(6) // Value\n",
    "# a.sort()\n",
    "# a.reverse()\n",
    "# print(a.count(2))\n",
    "\n",
    "# Set\n",
    "# a = {1, 2, 3, 4, 5}\n",
    "# b = {5, 4, 3, 2, 1}\n",
    "# a - b # a but not b\n",
    "# a | b # a or b\n",
    "# a & b # a and b\n",
    "# a ^ b # a xor b\n",
    "\n",
    "# I/O: open, close, read, write, append\n",
    "# r = read\n",
    "# w = write\n",
    "# a = append\n",
    "# r+ = read and write\n",
    "# w+ = write and read\n",
    "# a+ = append and read\n",
    "\n",
    "# open = not file exist -> create file\n",
    "# open = file exist -> open file\n",
    "\n",
    "a = [4, 5, 3, 1, 2, \"20\", 2]\n",
    "b = (10, \"Anime\", 3.14 , True)\n",
    "print(a[0])\n",
    "print(b[0])\n",
    "\n",
    "c = {\"name\": \"John\", \"age\": 30}\n",
    "print(c.get(\"name\"))"
   ]
  },
  {
   "cell_type": "markdown",
   "metadata": {},
   "source": [
    "Function"
   ]
  },
  {
   "cell_type": "code",
   "execution_count": null,
   "metadata": {},
   "outputs": [],
   "source": [
    "# def hello():\n",
    "    # print(\"Hello World\")\n",
    "\n",
    "# def hello(str):\n",
    "#     print(str)\n",
    "\n",
    "def hellos(*str):\n",
    "    print(str)\n",
    "def hello(**str):\n",
    "    print(str)\n",
    "\n",
    "hellos(\"Hello\", \"World\", \"Python\")\n",
    "hello(name=\"John\", age=30, power=100)"
   ]
  },
  {
   "cell_type": "markdown",
   "metadata": {},
   "source": [
    "Class"
   ]
  },
  {
   "cell_type": "code",
   "execution_count": null,
   "metadata": {},
   "outputs": [],
   "source": [
    "class Name:\n",
    "    def __init__(self, name):\n",
    "        self.name = name\n",
    "\n",
    "    def say(self):\n",
    "        self.korn = 'asdasd'\n",
    "        print(f\"Hello {self.name}\")\n",
    "\n",
    "    def love(self):\n",
    "        print(f\"AAA {self.korn}\")\n",
    "\n",
    "name = Name(\"John\")\n",
    "name.say()\n",
    "name.love()"
   ]
  },
  {
   "cell_type": "code",
   "execution_count": null,
   "metadata": {},
   "outputs": [],
   "source": [
    "\n",
    "with open('txt.csv', 'w') as f:\n",
    "    # f.write(\"Anime\")\n",
    "    for i in range(100):\n",
    "        f.write(f\"Anime = {i}\\n\")\n"
   ]
  },
  {
   "attachments": {},
   "cell_type": "markdown",
   "metadata": {},
   "source": [
    "## Python Numpy"
   ]
  },
  {
   "attachments": {},
   "cell_type": "markdown",
   "metadata": {},
   "source": [
    "Numpy"
   ]
  },
  {
   "cell_type": "code",
   "execution_count": 30,
   "metadata": {},
   "outputs": [
    {
     "name": "stdout",
     "output_type": "stream",
     "text": [
      "[1 2 3 4 5]\n"
     ]
    }
   ],
   "source": [
    "import numpy as np\n",
    "\n",
    "a = np.array([1, 2, 3, 4, 5])\n",
    "b = np.array([5, 4, 3, 2, 1])\n",
    "print(a) # array([1, 2, 3, 4, 5])"
   ]
  },
  {
   "cell_type": "code",
   "execution_count": 35,
   "metadata": {},
   "outputs": [
    {
     "name": "stdout",
     "output_type": "stream",
     "text": [
      "[[1 1 1 1 1]\n",
      " [1 1 1 1 1]\n",
      " [1 1 1 1 1]\n",
      " [1 1 1 1 1]\n",
      " [1 1 1 1 1]]\n"
     ]
    }
   ],
   "source": [
    "n = np.ones((5, 5) ,dtype=int)\n",
    "print(n) # array([[1, 1, 1], [1, 1, 1], [1, 1, 1]])"
   ]
  },
  {
   "cell_type": "code",
   "execution_count": 55,
   "metadata": {},
   "outputs": [
    {
     "name": "stdout",
     "output_type": "stream",
     "text": [
      "[0 1 2 3 4 5 6 7 8 9]\n",
      "[0 1 2 3 4 5 6 7 8 9]\n",
      "[0 2 4 6 8]\n",
      "[100  95  90  85  80  75  70  65  60  55  50  45  40  35  30  25  20  15]\n",
      "[100.  75.  50.  25.   0.]\n"
     ]
    }
   ],
   "source": [
    "a = np.arange(10)\n",
    "print(a)\n",
    "\n",
    "a = np.arange(0, 10)\n",
    "print(a)\n",
    "\n",
    "a = np.arange(0, 10, 2)\n",
    "print(a)\n",
    "\n",
    "a = np.arange(100, 10, -5, dtype=int)\n",
    "print(a)\n",
    "\n",
    "a = np.linspace(100, 0 ,5)\n",
    "print(a)\n",
    "\n",
    "\n"
   ]
  },
  {
   "cell_type": "code",
   "execution_count": null,
   "metadata": {},
   "outputs": [],
   "source": [
    "import pandas as pd\n",
    "\n",
    "a = np.eye(5, dtype=int)\n",
    "print(\"np eye 5\")\n",
    "print(a)\n",
    "\n",
    "a = np.eye(5, 8, dtype=int)\n",
    "print(\"np eye 5, 8\")\n",
    "print(a)\n",
    "\n",
    "a = np.eye(8, 8, -2, dtype=int)\n",
    "print(\"np eye 5, 8, -2\")\n",
    "print(a)\n",
    "\n",
    "\n",
    "a = np.eye(5, 8, k=1, dtype=int)\n",
    "print(\"np eye 5, 8, k=1\")\n",
    "print(a)\n",
    "\n",
    "a = np.eye(5, 8, k=-1, dtype=int)\n",
    "print(\"np eye 5, 8, k=-1\")\n",
    "print(a)\n",
    "\n",
    "a = np.eye(5, 8, k=2, dtype=int)\n",
    "print(\"np eye 5, 8, k=2\")\n",
    "print(a)\n",
    "\n"
   ]
  },
  {
   "cell_type": "code",
   "execution_count": null,
   "metadata": {},
   "outputs": [],
   "source": [
    "a = np.empty((5, 5))\n",
    "# print(a)\n",
    "\n",
    "last = [\n",
    "    1, 2, 3, 4, 5, 6, 7, 8, 9, 10\n",
    "]\n",
    "\n",
    "a = np.random.choice(last , p=[0.1, 0.1, 0.1, 0.1, 0.1, 0.1, 0.1, 0.05,0.05, 0.2], size=(4, 5))\n",
    "print(a)\n",
    "\n",
    "a = np.reshape(a, (5, 4))\n",
    "print(a)"
   ]
  },
  {
   "cell_type": "code",
   "execution_count": 128,
   "metadata": {},
   "outputs": [
    {
     "name": "stdout",
     "output_type": "stream",
     "text": [
      "[0 1 2 3 4 5 6 7 8 9]\n",
      "None\n",
      "[6 8 9 7 0 1 4 3 5 2]\n"
     ]
    }
   ],
   "source": [
    "from numpy import random as rd\n",
    "a = np.arange(10)\n",
    "print(a)\n",
    "b = rd.shuffle(a)\n",
    "print(b)\n",
    "c = rd.permutation(a)\n",
    "print(c)"
   ]
  },
  {
   "attachments": {},
   "cell_type": "markdown",
   "metadata": {},
   "source": [
    "vactor in numpy"
   ]
  },
  {
   "cell_type": "code",
   "execution_count": 141,
   "metadata": {},
   "outputs": [
    {
     "name": "stdout",
     "output_type": "stream",
     "text": [
      "[6, 6, 6, 6, 6]\n",
      "[6 6 6 6 6]\n"
     ]
    }
   ],
   "source": [
    "import numpy as np\n",
    "\n",
    "L1 = [1, 2, 3, 4, 5]\n",
    "L2 = [5, 4, 3, 2, 1]\n",
    "L3 = np.array(L1) + np.array(L2)\n",
    "print(L3)\n",
    "L4 = [x+y for x, y in zip(L1, L2)]\n",
    "print(L4)\n",
    "L5 = lambda x, y: x+y\n",
    "L5 = [x for x in L5(L1, L2)]\n",
    "print(L5)"
   ]
  },
  {
   "attachments": {},
   "cell_type": "markdown",
   "metadata": {},
   "source": [
    "## Python: Pandas"
   ]
  },
  {
   "cell_type": "code",
   "execution_count": 3,
   "metadata": {},
   "outputs": [],
   "source": [
    "import pandas as pd"
   ]
  },
  {
   "cell_type": "code",
   "execution_count": 7,
   "metadata": {},
   "outputs": [
    {
     "name": "stdout",
     "output_type": "stream",
     "text": [
      "a     5\n",
      "b    20\n",
      "c    30\n",
      "d    35\n",
      "e    60\n",
      "dtype: int64\n",
      "5\n"
     ]
    }
   ],
   "source": [
    "s = pd.Series([5,20,30,35,60], index=['a','b','c','d','e'])\n",
    "print(s)\n",
    "print(s['a'])"
   ]
  }
 ],
 "metadata": {
  "kernelspec": {
   "display_name": "Python 3",
   "language": "python",
   "name": "python3"
  },
  "language_info": {
   "codemirror_mode": {
    "name": "ipython",
    "version": 3
   },
   "file_extension": ".py",
   "mimetype": "text/x-python",
   "name": "python",
   "nbconvert_exporter": "python",
   "pygments_lexer": "ipython3",
   "version": "3.10.4"
  },
  "orig_nbformat": 4,
  "vscode": {
   "interpreter": {
    "hash": "3ad933181bd8a04b432d3370b9dc3b0662ad032c4dfaa4e4f1596c548f763858"
   }
  }
 },
 "nbformat": 4,
 "nbformat_minor": 2
}
