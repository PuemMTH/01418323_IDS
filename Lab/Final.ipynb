{
 "cells": [
  {
   "cell_type": "markdown",
   "metadata": {},
   "source": [
    "# Data Structure Final"
   ]
  },
  {
   "cell_type": "markdown",
   "metadata": {},
   "source": [
    "## Python for Beginner"
   ]
  },
  {
   "cell_type": "markdown",
   "metadata": {},
   "source": [
    "Python print"
   ]
  },
  {
   "cell_type": "code",
   "execution_count": 80,
   "metadata": {},
   "outputs": [
    {
     "name": "stdout",
     "output_type": "stream",
     "text": [
      "Welcome to Python FAH Structures\n",
      "Welcome to Kasetsart University\n",
      "Welcome to Python Data Structures\n"
     ]
    }
   ],
   "source": [
    "print(\"Welcome to Python FAH Structures\")\n",
    "print(\"Welcome to Kasetsart University\")\n",
    "print(\"Welcome to Python Data Structures\")"
   ]
  },
  {
   "cell_type": "markdown",
   "metadata": {},
   "source": [
    "Python Variables"
   ]
  },
  {
   "cell_type": "code",
   "execution_count": 81,
   "metadata": {},
   "outputs": [
    {
     "name": "stdout",
     "output_type": "stream",
     "text": [
      "a = 10, b = 10.5, c = Hello, d = True\n",
      "a = 10, b = 10.500000, c = Hello, d = True\n"
     ]
    }
   ],
   "source": [
    "a = 10 # a is an integer\n",
    "b = 10.5 # b is a float\n",
    "c = \"Hello\" # c is a string\n",
    "d = True # d is a boolean\n",
    "\n",
    "e = [1, 2, 3, 4, 5] # list\n",
    "f = (1, 2, 3, 3, 5) # tuple\n",
    "g = {\"name\": \"John\", \"age\": 30} # dictionary\n",
    "h = {1, 2, 3, 4, 5, 6} # set\n",
    "\n",
    "print(f\"a = {a}, b = {b}, c = {c}, d = {d}\")\n",
    "print(\"a = %d, b = %f, c = %s, d = %s\" % (a, b, c, d))"
   ]
  },
  {
   "cell_type": "markdown",
   "metadata": {},
   "source": [
    "Arithmetic Operators"
   ]
  },
  {
   "cell_type": "code",
   "execution_count": 82,
   "metadata": {},
   "outputs": [
    {
     "name": "stdout",
     "output_type": "stream",
     "text": [
      "Arithmetic Operators\n",
      "a + b = 12\n",
      "a - b = 6\n",
      "a * b = 27\n",
      "a / b = 3.000000\n",
      "a // b = 3\n",
      "a ** b = 729\n"
     ]
    }
   ],
   "source": [
    "a = 9\n",
    "b = 3\n",
    "print(\"Arithmetic Operators\")\n",
    "print(\"a + b = %d\" % (a + b))\n",
    "print(\"a - b = %d\" % (a - b))\n",
    "print(\"a * b = %d\" % (a * b))\n",
    "print(\"a / b = %f\" % (a / b))\n",
    "print(\"a // b = %d\" % (a // b))\n",
    "# print(\"a % b = %d\" % (a % b))\n",
    "print(\"a ** b = %d\" % (a ** b))"
   ]
  },
  {
   "cell_type": "markdown",
   "metadata": {},
   "source": [
    "Comparison Operators"
   ]
  },
  {
   "cell_type": "code",
   "execution_count": 83,
   "metadata": {},
   "outputs": [
    {
     "name": "stdout",
     "output_type": "stream",
     "text": [
      "Comparison Operators\n",
      "a > b = True\n",
      "a < b = False\n",
      "a == b = False\n",
      "a != b = True\n",
      "a >= b = True\n",
      "a <= b = False\n"
     ]
    }
   ],
   "source": [
    "a: int = 10 \n",
    "b: int = 3\n",
    "print(\"Comparison Operators\")\n",
    "print(f\"a > b = {a > b}\")\n",
    "print(f\"a < b = {a < b}\")\n",
    "print(f\"a == b = {a == b}\")\n",
    "print(f\"a != b = {a != b}\")\n",
    "print(f\"a >= b = {a >= b}\")\n",
    "print(f\"a <= b = {a <= b}\")"
   ]
  },
  {
   "cell_type": "markdown",
   "metadata": {},
   "source": [
    "Assignments Operators"
   ]
  },
  {
   "cell_type": "code",
   "execution_count": 84,
   "metadata": {},
   "outputs": [
    {
     "name": "stdout",
     "output_type": "stream",
     "text": [
      "Assignments Operators\n",
      "a += b = 13\n",
      "a -= b = 7\n",
      "a *= b = 30\n",
      "a /= b = 3.3333333333333335\n",
      "a %= b = 1\n",
      "a //= b = 3\n",
      "a **= b = 1000\n"
     ]
    }
   ],
   "source": [
    "print(\"Assignments Operators\")\n",
    "a = 10 \n",
    "b = 3\n",
    "a += b\n",
    "# a = a + b\n",
    "print(f\"a += b = {a}\")\n",
    "a = 10 \n",
    "b = 3\n",
    "a -= b\n",
    "# a = a - b\n",
    "print(f\"a -= b = {a}\")\n",
    "a = 10 \n",
    "b = 3\n",
    "a *= b\n",
    "# a = a * b\n",
    "print(f\"a *= b = {a}\")\n",
    "a = 10 \n",
    "b = 3\n",
    "a /= b\n",
    "# a = a / b\n",
    "print(f\"a /= b = {a}\")\n",
    "a = 10 \n",
    "b = 3\n",
    "a %= b\n",
    "# a = a % b\n",
    "print(f\"a %= b = {a}\")\n",
    "a = 10 \n",
    "b = 3\n",
    "a //= b\n",
    "# a = a // b\n",
    "print(f\"a //= b = {a}\")\n",
    "a = 10 \n",
    "b = 3\n",
    "a **= b\n",
    "# a = a ** b\n",
    "print(f\"a **= b = {a}\")"
   ]
  },
  {
   "cell_type": "markdown",
   "metadata": {},
   "source": [
    "Logical Operators"
   ]
  },
  {
   "cell_type": "code",
   "execution_count": 85,
   "metadata": {},
   "outputs": [
    {
     "name": "stdout",
     "output_type": "stream",
     "text": [
      "Logical Operators\n",
      "e and f = False\n",
      "e or b = True\n",
      "not e = False\n"
     ]
    }
   ],
   "source": [
    "e = True\n",
    "f = False\n",
    "# e = [6,7,6,5]\n",
    "# f = [6,7,1]\n",
    "print(\"Logical Operators\")\n",
    "print(f\"e and f = {e and f}\")\n",
    "print(f\"e or b = {e or f}\")\n",
    "print(f\"not e = {not e}\")"
   ]
  },
  {
   "cell_type": "markdown",
   "metadata": {},
   "source": [
    "Membership Operators"
   ]
  },
  {
   "cell_type": "code",
   "execution_count": 86,
   "metadata": {},
   "outputs": [
    {
     "name": "stdout",
     "output_type": "stream",
     "text": [
      "Membership Operators\n",
      "a in b = False\n",
      "a not in b = True\n"
     ]
    }
   ],
   "source": [
    "a = 10\n",
    "b = [1, 2, 3, 4, 5]\n",
    "print(\"Membership Operators\")\n",
    "print(f\"a in b = {a in b}\")\n",
    "print(f\"a not in b = {a not in b}\")"
   ]
  },
  {
   "cell_type": "markdown",
   "metadata": {},
   "source": [
    "Identity Operators"
   ]
  },
  {
   "cell_type": "code",
   "execution_count": 87,
   "metadata": {},
   "outputs": [
    {
     "name": "stdout",
     "output_type": "stream",
     "text": [
      "Identity Operators\n",
      "a is b = True\n",
      "a is not b = False\n"
     ]
    }
   ],
   "source": [
    "a = 10\n",
    "b = 10\n",
    "print(\"Identity Operators\")\n",
    "print(f\"a is b = {a is b}\")\n",
    "print(f\"a is not b = {a is not b}\")"
   ]
  },
  {
   "cell_type": "markdown",
   "metadata": {},
   "source": [
    "If else statement"
   ]
  },
  {
   "cell_type": "code",
   "execution_count": 88,
   "metadata": {},
   "outputs": [
    {
     "ename": "ValueError",
     "evalue": "invalid literal for int() with base 10: 'asdasdasd'",
     "output_type": "error",
     "traceback": [
      "\u001b[1;31m---------------------------------------------------------------------------\u001b[0m",
      "\u001b[1;31mValueError\u001b[0m                                Traceback (most recent call last)",
      "Cell \u001b[1;32mIn[88], line 1\u001b[0m\n\u001b[1;32m----> 1\u001b[0m inp \u001b[39m=\u001b[39m \u001b[39mint\u001b[39;49m(\u001b[39minput\u001b[39;49m())\n\u001b[0;32m      2\u001b[0m \u001b[39mif\u001b[39;00m inp \u001b[39m>\u001b[39m \u001b[39m5\u001b[39m:\n\u001b[0;32m      3\u001b[0m     \u001b[39mprint\u001b[39m(\u001b[39m\"\u001b[39m\u001b[39minp > 5\u001b[39m\u001b[39m\"\u001b[39m)\n",
      "\u001b[1;31mValueError\u001b[0m: invalid literal for int() with base 10: 'asdasdasd'"
     ]
    }
   ],
   "source": [
    "inp = int(input())\n",
    "if inp > 5:\n",
    "    print(\"inp > 5\")\n",
    "elif inp == 5:\n",
    "    print(\"inp == 5\")\n",
    "else:\n",
    "    print(\"inp < 5\")"
   ]
  },
  {
   "cell_type": "markdown",
   "metadata": {},
   "source": [
    "Loop statement"
   ]
  },
  {
   "cell_type": "code",
   "execution_count": null,
   "metadata": {},
   "outputs": [],
   "source": [
    "for i in range(10):\n",
    "    print(i, end=\" \")\n",
    "\n",
    "start = 0\n",
    "stop = 10\n",
    "step = 2\n",
    "for i in range(start, stop, step):\n",
    "    print(i)\n",
    "\n",
    "for i in range(10):\n",
    "    if i == 5:\n",
    "        continue\n",
    "    print(i, end=\" \")\n",
    "\n",
    "for i in range(10):\n",
    "    if i == 5:\n",
    "        break\n",
    "    print(i, end=\" \")"
   ]
  },
  {
   "cell_type": "markdown",
   "metadata": {},
   "source": [
    "String slice"
   ]
  },
  {
   "cell_type": "code",
   "execution_count": null,
   "metadata": {},
   "outputs": [],
   "source": [
    "name = \"Tanapat Eiam-arj\"\n",
    "# print(name[0:5])\n",
    "# print(name[3:5])\n",
    "# print(name[0:5:2])\n",
    "# print(name[0::])\n",
    "print(name[-5:-1])\n"
   ]
  },
  {
   "cell_type": "markdown",
   "metadata": {},
   "source": [
    "Lists"
   ]
  },
  {
   "cell_type": "code",
   "execution_count": null,
   "metadata": {},
   "outputs": [],
   "source": [
    "# {} # dictionary\n",
    "# {} # set\n",
    "# [] # list\n",
    "# () # tuple\n",
    "\n",
    "# list\n",
    "# a = [1, 2, 3, 4, 5]\n",
    "# a = [5, 4, 3, 2, 1]\n",
    "# a = [4, 5, 3, 1, 2, 2, 2]\n",
    "# b = [5, 4, 3, 2, 1]\n",
    "# a.pop()\n",
    "# a.append(20)\n",
    "# a.insert(1, 10)\n",
    "# a.remove(6) // Value\n",
    "# a.sort()\n",
    "# a.reverse()\n",
    "# print(a.count(2))\n",
    "\n",
    "# Set\n",
    "# a = {1, 2, 3, 4, 5}\n",
    "# b = {5, 4, 3, 2, 1}\n",
    "# a - b # a but not b\n",
    "# a | b # a or b\n",
    "# a & b # a and b\n",
    "# a ^ b # a xor b\n",
    "\n",
    "# I/O: open, close, read, write, append\n",
    "# r = read\n",
    "# w = write\n",
    "# a = append\n",
    "# r+ = read and write\n",
    "# w+ = write and read\n",
    "# a+ = append and read\n",
    "\n",
    "# open = not file exist -> create file\n",
    "# open = file exist -> open file\n",
    "\n",
    "a = [4, 5, 3, 1, 2, \"20\", 2]\n",
    "b = (10, \"Anime\", 3.14 , True)\n",
    "print(a[0])\n",
    "print(b[0])\n",
    "\n",
    "c = {\"name\": \"John\", \"age\": 30}\n",
    "print(c.get(\"name\"))"
   ]
  },
  {
   "cell_type": "markdown",
   "metadata": {},
   "source": [
    "Function"
   ]
  },
  {
   "cell_type": "code",
   "execution_count": null,
   "metadata": {},
   "outputs": [],
   "source": [
    "# def hello():\n",
    "    # print(\"Hello World\")\n",
    "\n",
    "# def hello(str):\n",
    "#     print(str)\n",
    "\n",
    "def hellos(*str):\n",
    "    print(str)\n",
    "def hello(**str):\n",
    "    print(str)\n",
    "\n",
    "hellos(\"Hello\", \"World\", \"Python\")\n",
    "hello(name=\"John\", age=30, power=100)"
   ]
  },
  {
   "cell_type": "markdown",
   "metadata": {},
   "source": [
    "Class"
   ]
  },
  {
   "cell_type": "code",
   "execution_count": null,
   "metadata": {},
   "outputs": [],
   "source": [
    "class Name:\n",
    "    def __init__(self, name):\n",
    "        self.name = name\n",
    "\n",
    "    def say(self):\n",
    "        self.korn = 'asdasd'\n",
    "        print(f\"Hello {self.name}\")\n",
    "\n",
    "    def love(self):\n",
    "        print(f\"AAA {self.korn}\")\n",
    "\n",
    "name = Name(\"John\")\n",
    "name.say()\n",
    "name.love()"
   ]
  },
  {
   "cell_type": "code",
   "execution_count": null,
   "metadata": {},
   "outputs": [],
   "source": [
    "\n",
    "with open('txt.csv', 'w') as f:\n",
    "    # f.write(\"Anime\")\n",
    "    for i in range(100):\n",
    "        f.write(f\"Anime = {i}\\n\")\n"
   ]
  },
  {
   "cell_type": "markdown",
   "metadata": {},
   "source": [
    "## Python Numpy"
   ]
  },
  {
   "cell_type": "markdown",
   "metadata": {},
   "source": [
    "Numpy"
   ]
  },
  {
   "cell_type": "code",
   "execution_count": null,
   "metadata": {},
   "outputs": [
    {
     "name": "stdout",
     "output_type": "stream",
     "text": [
      "[1 2 3 4 5]\n"
     ]
    }
   ],
   "source": [
    "import numpy as np\n",
    "\n",
    "a = np.array([1, 2, 3, 4, 5])\n",
    "b = np.array([5, 4, 3, 2, 1])\n",
    "print(a) # array([1, 2, 3, 4, 5])"
   ]
  },
  {
   "cell_type": "code",
   "execution_count": null,
   "metadata": {},
   "outputs": [
    {
     "name": "stdout",
     "output_type": "stream",
     "text": [
      "[[1 1 1 1 1]\n",
      " [1 1 1 1 1]\n",
      " [1 1 1 1 1]\n",
      " [1 1 1 1 1]\n",
      " [1 1 1 1 1]]\n"
     ]
    }
   ],
   "source": [
    "n = np.ones((5, 5) ,dtype=int)\n",
    "print(n) # array([[1, 1, 1], [1, 1, 1], [1, 1, 1]])"
   ]
  },
  {
   "cell_type": "code",
   "execution_count": null,
   "metadata": {},
   "outputs": [
    {
     "name": "stdout",
     "output_type": "stream",
     "text": [
      "[0 1 2 3 4 5 6 7 8 9]\n",
      "[0 1 2 3 4 5 6 7 8 9]\n",
      "[0 2 4 6 8]\n",
      "[100  95  90  85  80  75  70  65  60  55  50  45  40  35  30  25  20  15]\n",
      "[100.  75.  50.  25.   0.]\n"
     ]
    }
   ],
   "source": [
    "a = np.arange(10)\n",
    "print(a)\n",
    "\n",
    "a = np.arange(0, 10)\n",
    "print(a)\n",
    "\n",
    "a = np.arange(0, 10, 2)\n",
    "print(a)\n",
    "\n",
    "a = np.arange(100, 10, -5, dtype=int)\n",
    "print(a)\n",
    "\n",
    "a = np.linspace(100, 0 ,5)\n",
    "print(a)\n",
    "\n",
    "\n"
   ]
  },
  {
   "cell_type": "code",
   "execution_count": null,
   "metadata": {},
   "outputs": [
    {
     "name": "stdout",
     "output_type": "stream",
     "text": [
      "np eye 5\n",
      "[[1 0 0 0 0]\n",
      " [0 1 0 0 0]\n",
      " [0 0 1 0 0]\n",
      " [0 0 0 1 0]\n",
      " [0 0 0 0 1]]\n",
      "np eye 5, 8\n",
      "[[1 0 0 0 0 0 0 0]\n",
      " [0 1 0 0 0 0 0 0]\n",
      " [0 0 1 0 0 0 0 0]\n",
      " [0 0 0 1 0 0 0 0]\n",
      " [0 0 0 0 1 0 0 0]]\n",
      "np eye 5, 8, -2\n",
      "[[0 0 0 0 0 0 0 0]\n",
      " [0 0 0 0 0 0 0 0]\n",
      " [1 0 0 0 0 0 0 0]\n",
      " [0 1 0 0 0 0 0 0]\n",
      " [0 0 1 0 0 0 0 0]\n",
      " [0 0 0 1 0 0 0 0]\n",
      " [0 0 0 0 1 0 0 0]\n",
      " [0 0 0 0 0 1 0 0]]\n",
      "np eye 5, 8, k=1\n",
      "[[0 1 0 0 0 0 0 0]\n",
      " [0 0 1 0 0 0 0 0]\n",
      " [0 0 0 1 0 0 0 0]\n",
      " [0 0 0 0 1 0 0 0]\n",
      " [0 0 0 0 0 1 0 0]]\n",
      "np eye 5, 8, k=-1\n",
      "[[0 0 0 0 0 0 0 0]\n",
      " [1 0 0 0 0 0 0 0]\n",
      " [0 1 0 0 0 0 0 0]\n",
      " [0 0 1 0 0 0 0 0]\n",
      " [0 0 0 1 0 0 0 0]]\n",
      "np eye 5, 8, k=2\n",
      "[[0 0 1 0 0 0 0 0]\n",
      " [0 0 0 1 0 0 0 0]\n",
      " [0 0 0 0 1 0 0 0]\n",
      " [0 0 0 0 0 1 0 0]\n",
      " [0 0 0 0 0 0 1 0]]\n"
     ]
    }
   ],
   "source": [
    "import pandas as pd\n",
    "\n",
    "a = np.eye(5, dtype=int)\n",
    "print(\"np eye 5\")\n",
    "print(a)\n",
    "\n",
    "a = np.eye(5, 8, dtype=int)\n",
    "print(\"np eye 5, 8\")\n",
    "print(a)\n",
    "\n",
    "a = np.eye(8, 8, -2, dtype=int)\n",
    "print(\"np eye 5, 8, -2\")\n",
    "print(a)\n",
    "\n",
    "\n",
    "a = np.eye(5, 8, k=1, dtype=int)\n",
    "print(\"np eye 5, 8, k=1\")\n",
    "print(a)\n",
    "\n",
    "a = np.eye(5, 8, k=-1, dtype=int)\n",
    "print(\"np eye 5, 8, k=-1\")\n",
    "print(a)\n",
    "\n",
    "a = np.eye(5, 8, k=2, dtype=int)\n",
    "print(\"np eye 5, 8, k=2\")\n",
    "print(a)\n",
    "\n"
   ]
  },
  {
   "cell_type": "code",
   "execution_count": null,
   "metadata": {},
   "outputs": [
    {
     "name": "stdout",
     "output_type": "stream",
     "text": [
      "[[ 4  9  5  1  3]\n",
      " [ 1  7  9  9  9]\n",
      " [ 7  8 10  2  4]\n",
      " [10  1  6  5  2]]\n",
      "[[ 4  9  5  1]\n",
      " [ 3  1  7  9]\n",
      " [ 9  9  7  8]\n",
      " [10  2  4 10]\n",
      " [ 1  6  5  2]]\n"
     ]
    }
   ],
   "source": [
    "a = np.empty((5, 5))\n",
    "# print(a)\n",
    "\n",
    "last = [\n",
    "    1, 2, 3, 4, 5, 6, 7, 8, 9, 10\n",
    "]\n",
    "\n",
    "a = np.random.choice(last , p=[0.1, 0.1, 0.1, 0.1, 0.1, 0.1, 0.1, 0.05,0.05, 0.2], size=(4, 5))\n",
    "print(a)\n",
    "\n",
    "a = np.reshape(a, (5, 4))\n",
    "print(a)"
   ]
  },
  {
   "cell_type": "code",
   "execution_count": null,
   "metadata": {},
   "outputs": [
    {
     "name": "stdout",
     "output_type": "stream",
     "text": [
      "[0 1 2 3 4 5 6 7 8 9]\n",
      "None\n",
      "[6 8 9 7 0 1 4 3 5 2]\n"
     ]
    }
   ],
   "source": [
    "from numpy import random as rd\n",
    "a = np.arange(10)\n",
    "print(a)\n",
    "b = rd.shuffle(a)\n",
    "print(b)\n",
    "c = rd.permutation(a)\n",
    "print(c)"
   ]
  },
  {
   "cell_type": "markdown",
   "metadata": {},
   "source": [
    "vactor in numpy"
   ]
  },
  {
   "cell_type": "code",
   "execution_count": null,
   "metadata": {},
   "outputs": [
    {
     "name": "stdout",
     "output_type": "stream",
     "text": [
      "[6, 6, 6, 6, 6]\n",
      "[6 6 6 6 6]\n"
     ]
    }
   ],
   "source": [
    "import numpy as np\n",
    "\n",
    "L1 = [1, 2, 3, 4, 5]\n",
    "L2 = [5, 4, 3, 2, 1]\n",
    "L3 = np.array(L1) + np.array(L2)\n",
    "print(L3)\n",
    "L4 = [x+y for x, y in zip(L1, L2)]\n",
    "print(L4)\n",
    "L5 = lambda x, y: x+y\n",
    "L5 = [x for x in L5(L1, L2)]\n",
    "print(L5)"
   ]
  },
  {
   "cell_type": "markdown",
   "metadata": {},
   "source": [
    "## Python: Pandas"
   ]
  },
  {
   "cell_type": "code",
   "execution_count": null,
   "metadata": {},
   "outputs": [],
   "source": [
    "import pandas as pd\n",
    "import numpy as np"
   ]
  },
  {
   "cell_type": "code",
   "execution_count": null,
   "metadata": {},
   "outputs": [
    {
     "name": "stdout",
     "output_type": "stream",
     "text": [
      "Series\n",
      "a     5\n",
      "b    20\n",
      "c    30\n",
      "d    35\n",
      "e    60\n",
      "dtype: int64\n",
      "\n"
     ]
    }
   ],
   "source": [
    "s = pd.Series([5,20,30,35,60], index=['a','b','c','d','e'])\n",
    "print(f\"Series\\n{s}\\n\")\n"
   ]
  },
  {
   "cell_type": "code",
   "execution_count": null,
   "metadata": {},
   "outputs": [
    {
     "name": "stdout",
     "output_type": "stream",
     "text": [
      "แบบไม่กำหนด Row กับ Column\n",
      "     0   1   2   3\n",
      "0  10  28  44  11\n",
      "1  40  19  35  49\n",
      "2  21  11  48  14\n",
      "3  19  26  34  11\n",
      "4  27  23  44  32 \n",
      "\n",
      "แบบกำหนด Row กับ Column\n",
      "     a   b   c   d\n",
      "a  25  40  20  49\n",
      "b  31  16  14  13\n",
      "c  46  10  36  33\n",
      "d  27  44  21  41\n",
      "e  43  45  23  15 \n",
      "\n"
     ]
    }
   ],
   "source": [
    "sf1 = pd.DataFrame(np.random.randint(10, 50, [5,4]))\n",
    "print(f\"แบบไม่กำหนด Row กับ Column\\n {sf1} \\n\")\n",
    "\n",
    "sf2 = pd.DataFrame(np.random.randint(10, 50, [5,4]), columns=list('abcd'), index=list('abcde'))\n",
    "print(f\"แบบกำหนด Row กับ Column\\n {sf2} \\n\")"
   ]
  },
  {
   "cell_type": "markdown",
   "metadata": {},
   "source": [
    "Accessing Data"
   ]
  },
  {
   "cell_type": "code",
   "execution_count": null,
   "metadata": {},
   "outputs": [],
   "source": [
    "sf3 = pd.DataFrame(np.random.randint(10, 50, [5,4]), columns=list('abcd'), index=list('abcde'))\n",
    "print(f\"{sf3} \\n\")\n",
    "print(f\"การเข้าถึง data ใน DataFrame: sf3['a']\\n{sf3['a']} \\n\")\n",
    "print(f\"การเข้าถึง data ใน DataFrame แบบเลือก Column: sf3['a'][2] \\n{sf3['a'][2]} \\n\")\n",
    "# loc\n",
    "print(f\"การเข้าถึง data ใน DataFrame แบบ loc: sf3.loc['a'] \\n{sf3.loc['a']} \\n\")\n",
    "print(f\"การเข้าถึง data ใน DataFrame แบบ loc แบบเลือก Column: sf3.loc['a']['a']\\n{sf3.loc['a']['a']} \\n\")\n",
    "# iloc\n",
    "print(f\"การเข้าถึง data ใน DataFrame แบบ iloc: sf3.iloc[0] \\n{sf3.iloc[0]} \\n\")\n",
    "print(f\"การเข้าถึง data ใน DataFrame แบบ iloc แบบเลือก Column: : sf3.iloc[0][0] \\n{sf3.iloc[0][0]} \\n\")\n",
    "# access\n",
    "print(f\"การเข้าถึง data ใน DataFrame แบบ access: sf3.a \\n{sf3.a} \\n\")\n",
    "print(f\"การเข้าถึง data ใน DataFrame แบบ access แบบเลือก Column: sf3.a[0] \\n{sf3.a[0]} \\n\")\n",
    "print(f\"การเข้าถึง data ใน DataFrame แบบ access แบบเลือกหลาย Column : sf3[['a','b']] \\n{sf3[['a','b']]} \\n\")"
   ]
  },
  {
   "cell_type": "code",
   "execution_count": 90,
   "metadata": {},
   "outputs": [
    {
     "name": "stdout",
     "output_type": "stream",
     "text": [
      "    W   X   Y   Z\n",
      "0   1   2   3   4\n",
      "1   5   6   7   8\n",
      "2   9  10  11  12\n",
      "3  13  14  15  16\n",
      "4  17  18  19  20\n"
     ]
    }
   ],
   "source": [
    "df = pd.DataFrame(np.arange(1,21).reshape(5,4), columns=list('WXYZ'))\n",
    "print(df)"
   ]
  },
  {
   "cell_type": "code",
   "execution_count": 91,
   "metadata": {},
   "outputs": [
    {
     "name": "stdout",
     "output_type": "stream",
     "text": [
      "\n",
      "    X   Y   Z\n",
      "1   6   7   8\n",
      "3  14  15  16\n"
     ]
    }
   ],
   "source": [
    "print(f\"\\n{df.loc[1::2, 'X':'Z']}\")"
   ]
  },
  {
   "cell_type": "code",
   "execution_count": 92,
   "metadata": {},
   "outputs": [
    {
     "name": "stdout",
     "output_type": "stream",
     "text": [
      "\n",
      "    X   Y   Z\n",
      "1   6   7   8\n",
      "3  14  15  16\n"
     ]
    }
   ],
   "source": [
    "print(f\"\\n{df.loc[1::2, 'X':'Z']}\")"
   ]
  },
  {
   "cell_type": "code",
   "execution_count": 93,
   "metadata": {},
   "outputs": [
    {
     "name": "stdout",
     "output_type": "stream",
     "text": [
      "\n",
      "      W     X     Y     Z\n",
      "0   NaN   NaN   NaN   NaN\n",
      "1   NaN   6.0   7.0   8.0\n",
      "2   9.0  10.0  11.0  12.0\n",
      "3  13.0  14.0  15.0  16.0\n",
      "4  17.0  18.0  19.0  20.0\n"
     ]
    }
   ],
   "source": [
    "print(f\"\\n{df[df>5]}\")"
   ]
  },
  {
   "cell_type": "code",
   "execution_count": null,
   "metadata": {},
   "outputs": [],
   "source": [
    "print(f\"\\n{df['W'] > 5}\")\n",
    "print(f\"\\n{df[df['W'] > 5]}\")\n",
    "print(f\"\\n{df[df['W'] > 5]['X']}\")\n",
    "# print(f\"\\n{df[df['W'] > 5].loc['X']}\")\n",
    "print(f\"\\n{df[df['W'] > 5].iloc[:, 1]}\")"
   ]
  },
  {
   "cell_type": "code",
   "execution_count": null,
   "metadata": {},
   "outputs": [
    {
     "name": "stdout",
     "output_type": "stream",
     "text": [
      "  Company Person  Sales\n",
      "0     SCG      A    200\n",
      "1     SCG      B    300\n",
      "2     PTT      C    450\n",
      "3     PTT      D    100\n",
      "4     KTB      E    140\n",
      "5     KTB      F    350\n",
      "        Sales                                                      \n",
      "        count   mean         std    min    25%    50%    75%    max\n",
      "Company                                                            \n",
      "KTB       2.0  245.0  148.492424  140.0  192.5  245.0  297.5  350.0\n",
      "PTT       2.0  275.0  247.487373  100.0  187.5  275.0  362.5  450.0\n",
      "SCG       2.0  250.0   70.710678  200.0  225.0  250.0  275.0  300.0\n"
     ]
    }
   ],
   "source": [
    "data = {\n",
    "    'Company': ['SCG', 'SCG', 'PTT', 'PTT', 'KTB', 'KTB'],\n",
    "    'Person': list(\"ABCDEF\"),\n",
    "    'Sales': [200, 300, 450, 100, 140, 350]\n",
    "}\n",
    "df = pd.DataFrame(data)\n",
    "print(df)\n",
    "# df.sum()\n",
    "# df.groupby('Company').sum()\n",
    "# df.groupby('Company').mean()\n",
    "print(df.groupby('Company').describe())"
   ]
  },
  {
   "cell_type": "code",
   "execution_count": null,
   "metadata": {},
   "outputs": [
    {
     "name": "stdout",
     "output_type": "stream",
     "text": [
      "Sales  count      2.000000\n",
      "       mean     275.000000\n",
      "       std      247.487373\n",
      "       min      100.000000\n",
      "       25%      187.500000\n",
      "       50%      275.000000\n",
      "       75%      362.500000\n",
      "       max      450.000000\n",
      "Name: PTT, dtype: float64\n"
     ]
    }
   ],
   "source": [
    "print(df.groupby('Company').describe().transpose()['PTT'])"
   ]
  },
  {
   "cell_type": "code",
   "execution_count": null,
   "metadata": {},
   "outputs": [
    {
     "name": "stdout",
     "output_type": "stream",
     "text": [
      "['SCG' 'PTT' 'KTB']\n",
      "3\n",
      "SCG    2\n",
      "PTT    2\n",
      "KTB    2\n",
      "Name: Company, dtype: int64\n"
     ]
    }
   ],
   "source": [
    "print(df['Company'].unique()) # แสดงค่าที่ไม่ซ้ำกัน\n",
    "print(df['Company'].nunique()) # แสดงจำนวนค่าที่ไม่ซ้ำกัน\n",
    "print(df['Company'].value_counts()) # แสดงจำนวนค่าที่ซ้ำกัน"
   ]
  },
  {
   "cell_type": "code",
   "execution_count": null,
   "metadata": {},
   "outputs": [
    {
     "data": {
      "text/plain": [
       "3080"
      ]
     },
     "execution_count": 152,
     "metadata": {},
     "output_type": "execute_result"
    }
   ],
   "source": [
    "df[df['Sales'] == 200]\n",
    "df['Sales'].max()\n",
    "df['Sales'].min()\n",
    "df['Sales'].apply(lambda x: x*2)\n",
    "df['Sales'].apply(lambda x: x*2).sum()"
   ]
  },
  {
   "cell_type": "markdown",
   "metadata": {},
   "source": [
    "อยู่กับไฟล์ดูที่ไฟล์ lab/001/"
   ]
  },
  {
   "cell_type": "code",
   "execution_count": null,
   "metadata": {},
   "outputs": [
    {
     "name": "stdout",
     "output_type": "stream",
     "text": [
      "      Row ID        Order ID Order Date  Ship Date       Ship Mode  \\\n",
      "0          1  CA-2016-152156 2016-11-08 2016-11-11    Second Class   \n",
      "1          2  CA-2016-152156 2016-11-08 2016-11-11    Second Class   \n",
      "2          3  CA-2016-138688 2016-06-12 2016-06-16    Second Class   \n",
      "3          4  US-2015-108966 2015-10-11 2015-10-18  Standard Class   \n",
      "4          5  US-2015-108966 2015-10-11 2015-10-18  Standard Class   \n",
      "...      ...             ...        ...        ...             ...   \n",
      "9989    9990  CA-2014-110422 2014-01-21 2014-01-23    Second Class   \n",
      "9990    9991  CA-2017-121258 2017-02-26 2017-03-03  Standard Class   \n",
      "9991    9992  CA-2017-121258 2017-02-26 2017-03-03  Standard Class   \n",
      "9992    9993  CA-2017-121258 2017-02-26 2017-03-03  Standard Class   \n",
      "9993    9994  CA-2017-119914 2017-05-04 2017-05-09    Second Class   \n",
      "\n",
      "     Customer ID     Customer Name    Segment        Country             City  \\\n",
      "0       CG-12520       Claire Gute   Consumer  United States        Henderson   \n",
      "1       CG-12520       Claire Gute   Consumer  United States        Henderson   \n",
      "2       DV-13045   Darrin Van Huff  Corporate  United States      Los Angeles   \n",
      "3       SO-20335    Sean O'Donnell   Consumer  United States  Fort Lauderdale   \n",
      "4       SO-20335    Sean O'Donnell   Consumer  United States  Fort Lauderdale   \n",
      "...          ...               ...        ...            ...              ...   \n",
      "9989    TB-21400  Tom Boeckenhauer   Consumer  United States            Miami   \n",
      "9990    DB-13060       Dave Brooks   Consumer  United States       Costa Mesa   \n",
      "9991    DB-13060       Dave Brooks   Consumer  United States       Costa Mesa   \n",
      "9992    DB-13060       Dave Brooks   Consumer  United States       Costa Mesa   \n",
      "9993    CC-12220      Chris Cortes   Consumer  United States      Westminster   \n",
      "\n",
      "      ... Postal Code  Region       Product ID         Category Sub-Category  \\\n",
      "0     ...       42420   South  FUR-BO-10001798        Furniture    Bookcases   \n",
      "1     ...       42420   South  FUR-CH-10000454        Furniture       Chairs   \n",
      "2     ...       90036    West  OFF-LA-10000240  Office Supplies       Labels   \n",
      "3     ...       33311   South  FUR-TA-10000577        Furniture       Tables   \n",
      "4     ...       33311   South  OFF-ST-10000760  Office Supplies      Storage   \n",
      "...   ...         ...     ...              ...              ...          ...   \n",
      "9989  ...       33180   South  FUR-FU-10001889        Furniture  Furnishings   \n",
      "9990  ...       92627    West  FUR-FU-10000747        Furniture  Furnishings   \n",
      "9991  ...       92627    West  TEC-PH-10003645       Technology       Phones   \n",
      "9992  ...       92627    West  OFF-PA-10004041  Office Supplies        Paper   \n",
      "9993  ...       92683    West  OFF-AP-10002684  Office Supplies   Appliances   \n",
      "\n",
      "                                           Product Name     Sales  Quantity  \\\n",
      "0                     Bush Somerset Collection Bookcase  261.9600         2   \n",
      "1     Hon Deluxe Fabric Upholstered Stacking Chairs,...  731.9400         3   \n",
      "2     Self-Adhesive Address Labels for Typewriters b...   14.6200         2   \n",
      "3         Bretford CR4500 Series Slim Rectangular Table  957.5775         5   \n",
      "4                        Eldon Fold 'N Roll Cart System   22.3680         2   \n",
      "...                                                 ...       ...       ...   \n",
      "9989                             Ultra Door Pull Handle   25.2480         3   \n",
      "9990  Tenex B1-RE Series Chair Mats for Low Pile Car...   91.9600         2   \n",
      "9991                              Aastra 57i VoIP phone  258.5760         2   \n",
      "9992  It's Hot Message Books with Stickers, 2 3/4\" x 5\"   29.6000         4   \n",
      "9993  Acco 7-Outlet Masterpiece Power Center, Wihtou...  243.1600         2   \n",
      "\n",
      "      Discount    Profit  \n",
      "0         0.00   41.9136  \n",
      "1         0.00  219.5820  \n",
      "2         0.00    6.8714  \n",
      "3         0.45 -383.0310  \n",
      "4         0.20    2.5164  \n",
      "...        ...       ...  \n",
      "9989      0.20    4.1028  \n",
      "9990      0.00   15.6332  \n",
      "9991      0.20   19.3932  \n",
      "9992      0.00   13.3200  \n",
      "9993      0.00   72.9480  \n",
      "\n",
      "[9994 rows x 21 columns]\n",
      "Category\n",
      "Furniture          741999.7953\n",
      "Office Supplies    719047.0320\n",
      "Technology         836154.0330\n",
      "Name: Sales, dtype: float64\n"
     ]
    }
   ],
   "source": [
    "import pandas as pd\n",
    "df = pd.read_excel('./001/Sample - Superstore.xls')\n",
    "print(df)\n",
    "# print(df['Discount'] == df['Discount'].max())\n",
    "# print(df['Category'].unique())\n",
    "print(df.groupby('Category').sum()['Sales'])"
   ]
  },
  {
   "cell_type": "code",
   "execution_count": null,
   "metadata": {},
   "outputs": [
    {
     "name": "stdout",
     "output_type": "stream",
     "text": [
      "['0', '1']\n",
      "['2', '3']\n",
      "['4', '5']\n",
      "['0', '1']\n",
      "['2', '3']\n",
      "['4', '5']\n",
      "['0', '1']\n",
      "['2', '3']\n",
      "['4', '5']\n"
     ]
    }
   ],
   "source": [
    "# binary counter\n",
    "import numpy as np\n",
    "import pandas as pd\n",
    "\n",
    "def binary_counter(n):\n",
    "    return [[int(i) for i in format(j, '0' + str(n) + 'b')] for j in range(2**n)]\n",
    "\n",
    "def generator() -> list:\n",
    "   yield [\"0\", \"1\"]\n",
    "   yield [\"2\", \"3\"]\n",
    "   yield [\"4\", \"5\"]\n",
    "\n",
    "for i in generator():\n",
    "    generato = generator()\n",
    "    for i in generato:\n",
    "        print(i)"
   ]
  }
 ],
 "metadata": {
  "kernelspec": {
   "display_name": "Python 3",
   "language": "python",
   "name": "python3"
  },
  "language_info": {
   "codemirror_mode": {
    "name": "ipython",
    "version": 3
   },
   "file_extension": ".py",
   "mimetype": "text/x-python",
   "name": "python",
   "nbconvert_exporter": "python",
   "pygments_lexer": "ipython3",
   "version": "3.11.1"
  },
  "vscode": {
   "interpreter": {
    "hash": "5238573367df39f7286bb46f9ff5f08f63a01a80960060ce41e3c79b190280fa"
   }
  }
 },
 "nbformat": 4,
 "nbformat_minor": 2
}
