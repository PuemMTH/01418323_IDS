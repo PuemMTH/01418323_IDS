{
 "cells": [
  {
   "cell_type": "markdown",
   "metadata": {},
   "source": [
    "# Data Structure Final"
   ]
  },
  {
   "cell_type": "markdown",
   "metadata": {},
   "source": [
    "## Python for Beginner"
   ]
  },
  {
   "cell_type": "markdown",
   "metadata": {},
   "source": [
    "Python print"
   ]
  },
  {
   "cell_type": "code",
   "execution_count": 2,
   "metadata": {},
   "outputs": [
    {
     "name": "stdout",
     "output_type": "stream",
     "text": [
      "Welcome to Python FAH Structures\n",
      "Welcome to Kasetsart University\n",
      "Welcome to Python Data Structures\n"
     ]
    }
   ],
   "source": [
    "print(\"Welcome to Python FAH Structures\")\n",
    "print(\"Welcome to Kasetsart University\")\n",
    "print(\"Welcome to Python Data Structures\")"
   ]
  },
  {
   "cell_type": "markdown",
   "metadata": {},
   "source": [
    "Python Variables"
   ]
  },
  {
   "cell_type": "code",
   "execution_count": 3,
   "metadata": {},
   "outputs": [
    {
     "name": "stdout",
     "output_type": "stream",
     "text": [
      "a = 10, b = 10.5, c = Hello, d = True\n",
      "a = 10, b = 10.500000, c = Hello, d = True\n"
     ]
    }
   ],
   "source": [
    "a = 10 # a is an integer\n",
    "b = 10.5 # b is a float\n",
    "c = \"Hello\" # c is a string\n",
    "d = True # d is a boolean\n",
    "\n",
    "e = [1, 2, 3, 4, 5] # list\n",
    "f = (1, 2, 3, 3, 5) # tuple\n",
    "g = {\"name\": \"John\", \"age\": 30} # dictionary\n",
    "h = {1, 2, 3, 4, 5, 6} # set\n",
    "\n",
    "print(f\"a = {a}, b = {b}, c = {c}, d = {d}\")\n",
    "print(\"a = %d, b = %f, c = %s, d = %s\" % (a, b, c, d))"
   ]
  },
  {
   "cell_type": "markdown",
   "metadata": {},
   "source": [
    "Arithmetic Operators"
   ]
  },
  {
   "cell_type": "code",
   "execution_count": 4,
   "metadata": {},
   "outputs": [
    {
     "name": "stdout",
     "output_type": "stream",
     "text": [
      "Arithmetic Operators\n",
      "a + b = 12\n",
      "a - b = 6\n",
      "a * b = 27\n",
      "a / b = 3.000000\n",
      "a // b = 3\n",
      "a ** b = 729\n"
     ]
    }
   ],
   "source": [
    "a = 9\n",
    "b = 3\n",
    "print(\"Arithmetic Operators\")\n",
    "print(\"a + b = %d\" % (a + b))\n",
    "print(\"a - b = %d\" % (a - b))\n",
    "print(\"a * b = %d\" % (a * b))\n",
    "print(\"a / b = %f\" % (a / b))\n",
    "print(\"a // b = %d\" % (a // b))\n",
    "# print(\"a % b = %d\" % (a % b))\n",
    "print(\"a ** b = %d\" % (a ** b))"
   ]
  },
  {
   "cell_type": "markdown",
   "metadata": {},
   "source": [
    "Comparison Operators"
   ]
  },
  {
   "cell_type": "code",
   "execution_count": 5,
   "metadata": {},
   "outputs": [
    {
     "name": "stdout",
     "output_type": "stream",
     "text": [
      "Comparison Operators\n",
      "a > b = True\n",
      "a < b = False\n",
      "a == b = False\n",
      "a != b = True\n",
      "a >= b = True\n",
      "a <= b = False\n"
     ]
    }
   ],
   "source": [
    "a: int = 10 \n",
    "b: int = 3\n",
    "print(\"Comparison Operators\")\n",
    "print(f\"a > b = {a > b}\")\n",
    "print(f\"a < b = {a < b}\")\n",
    "print(f\"a == b = {a == b}\")\n",
    "print(f\"a != b = {a != b}\")\n",
    "print(f\"a >= b = {a >= b}\")\n",
    "print(f\"a <= b = {a <= b}\")"
   ]
  },
  {
   "cell_type": "markdown",
   "metadata": {},
   "source": [
    "Assignments Operators"
   ]
  },
  {
   "cell_type": "code",
   "execution_count": 6,
   "metadata": {},
   "outputs": [
    {
     "name": "stdout",
     "output_type": "stream",
     "text": [
      "Assignments Operators\n",
      "a += b = 13\n",
      "a -= b = 7\n",
      "a *= b = 30\n",
      "a /= b = 3.3333333333333335\n",
      "a %= b = 1\n",
      "a //= b = 3\n",
      "a **= b = 1000\n"
     ]
    }
   ],
   "source": [
    "print(\"Assignments Operators\")\n",
    "a = 10 \n",
    "b = 3\n",
    "a += b\n",
    "# a = a + b\n",
    "print(f\"a += b = {a}\")\n",
    "a = 10 \n",
    "b = 3\n",
    "a -= b\n",
    "# a = a - b\n",
    "print(f\"a -= b = {a}\")\n",
    "a = 10 \n",
    "b = 3\n",
    "a *= b\n",
    "# a = a * b\n",
    "print(f\"a *= b = {a}\")\n",
    "a = 10 \n",
    "b = 3\n",
    "a /= b\n",
    "# a = a / b\n",
    "print(f\"a /= b = {a}\")\n",
    "a = 10 \n",
    "b = 3\n",
    "a %= b\n",
    "# a = a % b\n",
    "print(f\"a %= b = {a}\")\n",
    "a = 10 \n",
    "b = 3\n",
    "a //= b\n",
    "# a = a // b\n",
    "print(f\"a //= b = {a}\")\n",
    "a = 10 \n",
    "b = 3\n",
    "a **= b\n",
    "# a = a ** b\n",
    "print(f\"a **= b = {a}\")"
   ]
  },
  {
   "cell_type": "markdown",
   "metadata": {},
   "source": [
    "Logical Operators"
   ]
  },
  {
   "cell_type": "code",
   "execution_count": 7,
   "metadata": {},
   "outputs": [
    {
     "name": "stdout",
     "output_type": "stream",
     "text": [
      "Logical Operators\n",
      "e and f = False\n",
      "e or b = True\n",
      "not e = False\n"
     ]
    }
   ],
   "source": [
    "e = True\n",
    "f = False\n",
    "# e = [6,7,6,5]\n",
    "# f = [6,7,1]\n",
    "print(\"Logical Operators\")\n",
    "print(f\"e and f = {e and f}\")\n",
    "print(f\"e or b = {e or f}\")\n",
    "print(f\"not e = {not e}\")"
   ]
  },
  {
   "cell_type": "markdown",
   "metadata": {},
   "source": [
    "Membership Operators"
   ]
  },
  {
   "cell_type": "code",
   "execution_count": 8,
   "metadata": {},
   "outputs": [
    {
     "name": "stdout",
     "output_type": "stream",
     "text": [
      "Membership Operators\n",
      "a in b = False\n",
      "a not in b = True\n"
     ]
    }
   ],
   "source": [
    "a = 10\n",
    "b = [1, 2, 3, 4, 5]\n",
    "print(\"Membership Operators\")\n",
    "print(f\"a in b = {a in b}\")\n",
    "print(f\"a not in b = {a not in b}\")"
   ]
  },
  {
   "cell_type": "markdown",
   "metadata": {},
   "source": [
    "Identity Operators"
   ]
  },
  {
   "cell_type": "code",
   "execution_count": 9,
   "metadata": {},
   "outputs": [
    {
     "name": "stdout",
     "output_type": "stream",
     "text": [
      "Identity Operators\n",
      "a is b = True\n",
      "a is not b = False\n"
     ]
    }
   ],
   "source": [
    "a = 10\n",
    "b = 10\n",
    "print(\"Identity Operators\")\n",
    "print(f\"a is b = {a is b}\")\n",
    "print(f\"a is not b = {a is not b}\")"
   ]
  },
  {
   "cell_type": "markdown",
   "metadata": {},
   "source": [
    "Loop statement"
   ]
  },
  {
   "cell_type": "code",
   "execution_count": 10,
   "metadata": {},
   "outputs": [
    {
     "name": "stdout",
     "output_type": "stream",
     "text": [
      "0 1 2 3 4 5 6 7 8 9 0\n",
      "2\n",
      "4\n",
      "6\n",
      "8\n",
      "0 1 2 3 4 6 7 8 9 0 1 2 3 4 "
     ]
    }
   ],
   "source": [
    "for i in range(10):\n",
    "    print(i, end=\" \")\n",
    "\n",
    "start = 0\n",
    "stop = 10\n",
    "step = 2\n",
    "for i in range(start, stop, step):\n",
    "    print(i)\n",
    "\n",
    "for i in range(10):\n",
    "    if i == 5:\n",
    "        continue\n",
    "    print(i, end=\" \")\n",
    "\n",
    "for i in range(10):\n",
    "    if i == 5:\n",
    "        break\n",
    "    print(i, end=\" \")"
   ]
  },
  {
   "cell_type": "markdown",
   "metadata": {},
   "source": [
    "String slice"
   ]
  },
  {
   "cell_type": "code",
   "execution_count": 11,
   "metadata": {},
   "outputs": [
    {
     "name": "stdout",
     "output_type": "stream",
     "text": [
      "m-ar\n"
     ]
    }
   ],
   "source": [
    "name = \"Tanapat Eiam-arj\"\n",
    "# print(name[0:5])\n",
    "# print(name[3:5])\n",
    "# print(name[0:5:2])\n",
    "# print(name[0::])\n",
    "print(name[-5:-1])\n"
   ]
  },
  {
   "cell_type": "markdown",
   "metadata": {},
   "source": [
    "Lists"
   ]
  },
  {
   "cell_type": "code",
   "execution_count": 12,
   "metadata": {},
   "outputs": [
    {
     "name": "stdout",
     "output_type": "stream",
     "text": [
      "4\n",
      "10\n",
      "John\n"
     ]
    }
   ],
   "source": [
    "# {} # dictionary\n",
    "# {} # set\n",
    "# [] # list\n",
    "# () # tuple\n",
    "\n",
    "# list\n",
    "# a = [1, 2, 3, 4, 5]\n",
    "# a = [5, 4, 3, 2, 1]\n",
    "# a = [4, 5, 3, 1, 2, 2, 2]\n",
    "# b = [5, 4, 3, 2, 1]\n",
    "# a.pop()\n",
    "# a.append(20)\n",
    "# a.insert(1, 10)\n",
    "# a.remove(6) // Value\n",
    "# a.sort()\n",
    "# a.reverse()\n",
    "# print(a.count(2))\n",
    "\n",
    "# Set\n",
    "# a = {1, 2, 3, 4, 5}\n",
    "# b = {5, 4, 3, 2, 1}\n",
    "# a - b # a but not b\n",
    "# a | b # a or b\n",
    "# a & b # a and b\n",
    "# a ^ b # a xor b\n",
    "\n",
    "# I/O: open, close, read, write, append\n",
    "# r = read\n",
    "# w = write\n",
    "# a = append\n",
    "# r+ = read and write\n",
    "# w+ = write and read\n",
    "# a+ = append and read\n",
    "\n",
    "# open = not file exist -> create file\n",
    "# open = file exist -> open file\n",
    "\n",
    "a = [4, 5, 3, 1, 2, \"20\", 2]\n",
    "b = (10, \"Anime\", 3.14 , True)\n",
    "print(a[0])\n",
    "print(b[0])\n",
    "\n",
    "c = {\"name\": \"John\", \"age\": 30}\n",
    "print(c.get(\"name\"))"
   ]
  },
  {
   "cell_type": "markdown",
   "metadata": {},
   "source": [
    "Function"
   ]
  },
  {
   "cell_type": "code",
   "execution_count": 13,
   "metadata": {},
   "outputs": [
    {
     "name": "stdout",
     "output_type": "stream",
     "text": [
      "('Hello', 'World', 'Python')\n",
      "{'name': 'John', 'age': 30, 'power': 100}\n"
     ]
    }
   ],
   "source": [
    "# def hello():\n",
    "    # print(\"Hello World\")\n",
    "\n",
    "# def hello(str):\n",
    "#     print(str)\n",
    "\n",
    "def hellos(*str):\n",
    "    print(str)\n",
    "def hello(**str):\n",
    "    print(str)\n",
    "\n",
    "hellos(\"Hello\", \"World\", \"Python\")\n",
    "hello(name=\"John\", age=30, power=100)"
   ]
  },
  {
   "cell_type": "markdown",
   "metadata": {},
   "source": [
    "Class"
   ]
  },
  {
   "cell_type": "code",
   "execution_count": 14,
   "metadata": {},
   "outputs": [
    {
     "name": "stdout",
     "output_type": "stream",
     "text": [
      "Hello John\n",
      "AAA asdasd\n"
     ]
    }
   ],
   "source": [
    "class Name:\n",
    "    def __init__(self, name):\n",
    "        self.name = name\n",
    "\n",
    "    def say(self):\n",
    "        self.korn = 'asdasd'\n",
    "        print(f\"Hello {self.name}\")\n",
    "\n",
    "    def love(self):\n",
    "        print(f\"AAA {self.korn}\")\n",
    "\n",
    "name = Name(\"John\")\n",
    "name.say()\n",
    "name.love()"
   ]
  },
  {
   "cell_type": "code",
   "execution_count": 15,
   "metadata": {},
   "outputs": [],
   "source": [
    "\n",
    "with open('txt.csv', 'w') as f:\n",
    "    # f.write(\"Anime\")\n",
    "    for i in range(100):\n",
    "        f.write(f\"Anime = {i}\\n\")\n"
   ]
  },
  {
   "cell_type": "markdown",
   "metadata": {},
   "source": [
    "## Python Numpy"
   ]
  },
  {
   "cell_type": "markdown",
   "metadata": {},
   "source": [
    "Numpy"
   ]
  },
  {
   "cell_type": "code",
   "execution_count": 16,
   "metadata": {},
   "outputs": [
    {
     "name": "stdout",
     "output_type": "stream",
     "text": [
      "[1 2 3 4 5]\n"
     ]
    }
   ],
   "source": [
    "import numpy as np\n",
    "\n",
    "a = np.array([1, 2, 3, 4, 5])\n",
    "b = np.array([5, 4, 3, 2, 1])\n",
    "print(a) # array([1, 2, 3, 4, 5])"
   ]
  },
  {
   "cell_type": "code",
   "execution_count": 17,
   "metadata": {},
   "outputs": [
    {
     "name": "stdout",
     "output_type": "stream",
     "text": [
      "[[1 1 1 1 1]\n",
      " [1 1 1 1 1]\n",
      " [1 1 1 1 1]\n",
      " [1 1 1 1 1]\n",
      " [1 1 1 1 1]]\n"
     ]
    }
   ],
   "source": [
    "n = np.ones((5, 5) ,dtype=int)\n",
    "print(n) # array([[1, 1, 1], [1, 1, 1], [1, 1, 1]])"
   ]
  },
  {
   "cell_type": "code",
   "execution_count": 18,
   "metadata": {},
   "outputs": [
    {
     "name": "stdout",
     "output_type": "stream",
     "text": [
      "[0 1 2 3 4 5 6 7 8 9]\n",
      "[0 1 2 3 4 5 6 7 8 9]\n",
      "[0 2 4 6 8]\n",
      "[100  95  90  85  80  75  70  65  60  55  50  45  40  35  30  25  20  15]\n",
      "[100  95  91  87  83  79  75  70  66  62  58  54  50  45  41  37  33  29\n",
      "  25  20  16  12   8   4   0]\n"
     ]
    }
   ],
   "source": [
    "a = np.arange(10)\n",
    "print(a)\n",
    "\n",
    "a = np.arange(0, 10)\n",
    "print(a)\n",
    "\n",
    "a = np.arange(0, 10, 2)\n",
    "print(a)\n",
    "\n",
    "a = np.arange(100, 10, -5, dtype=int)\n",
    "print(a)\n",
    "\n",
    "a = np.linspace(100, 0 ,25, dtype=int)\n",
    "print(a)"
   ]
  },
  {
   "cell_type": "code",
   "execution_count": 19,
   "metadata": {},
   "outputs": [
    {
     "name": "stdout",
     "output_type": "stream",
     "text": [
      "np eye 5\n",
      "[[1 0 0 0 0]\n",
      " [0 1 0 0 0]\n",
      " [0 0 1 0 0]\n",
      " [0 0 0 1 0]\n",
      " [0 0 0 0 1]]\n",
      "np eye 5, 8\n",
      "[[1 0 0 0 0 0 0 0]\n",
      " [0 1 0 0 0 0 0 0]\n",
      " [0 0 1 0 0 0 0 0]\n",
      " [0 0 0 1 0 0 0 0]\n",
      " [0 0 0 0 1 0 0 0]]\n",
      "np eye 5, 8, -2\n",
      "[[0 0 0 0 0 0 0 0]\n",
      " [0 0 0 0 0 0 0 0]\n",
      " [1 0 0 0 0 0 0 0]\n",
      " [0 1 0 0 0 0 0 0]\n",
      " [0 0 1 0 0 0 0 0]\n",
      " [0 0 0 1 0 0 0 0]\n",
      " [0 0 0 0 1 0 0 0]\n",
      " [0 0 0 0 0 1 0 0]]\n",
      "np eye 5, 8, k=1\n",
      "[[0 1 0 0 0 0 0 0]\n",
      " [0 0 1 0 0 0 0 0]\n",
      " [0 0 0 1 0 0 0 0]\n",
      " [0 0 0 0 1 0 0 0]\n",
      " [0 0 0 0 0 1 0 0]]\n",
      "np eye 5, 8, k=-1\n",
      "[[0 0 0 0 0 0 0 0]\n",
      " [1 0 0 0 0 0 0 0]\n",
      " [0 1 0 0 0 0 0 0]\n",
      " [0 0 1 0 0 0 0 0]\n",
      " [0 0 0 1 0 0 0 0]]\n",
      "np eye 5, 8, k=2\n",
      "[[0 0 1 0 0 0 0 0]\n",
      " [0 0 0 1 0 0 0 0]\n",
      " [0 0 0 0 1 0 0 0]\n",
      " [0 0 0 0 0 1 0 0]\n",
      " [0 0 0 0 0 0 1 0]]\n"
     ]
    }
   ],
   "source": [
    "import pandas as pd\n",
    "\n",
    "a = np.eye(5, dtype=int)\n",
    "print(\"np eye 5\")\n",
    "print(a)\n",
    "\n",
    "a = np.eye(5, 8, dtype=int)\n",
    "print(\"np eye 5, 8\")\n",
    "print(a)\n",
    "\n",
    "a = np.eye(8, 8, -2, dtype=int)\n",
    "print(\"np eye 5, 8, -2\")\n",
    "print(a)\n",
    "\n",
    "\n",
    "a = np.eye(5, 8, k=1, dtype=int)\n",
    "print(\"np eye 5, 8, k=1\")\n",
    "print(a)\n",
    "\n",
    "a = np.eye(5, 8, k=-1, dtype=int)\n",
    "print(\"np eye 5, 8, k=-1\")\n",
    "print(a)\n",
    "\n",
    "a = np.eye(5, 8, k=2, dtype=int)\n",
    "print(\"np eye 5, 8, k=2\")\n",
    "print(a)"
   ]
  },
  {
   "cell_type": "code",
   "execution_count": 20,
   "metadata": {},
   "outputs": [
    {
     "name": "stdout",
     "output_type": "stream",
     "text": [
      "[[ 4  7 10  9  5]\n",
      " [ 9  5 10 10 10]\n",
      " [10  2  1  6  7]\n",
      " [ 5  3 10 10  4]]\n",
      "[[ 4  7 10  9]\n",
      " [ 5  9  5 10]\n",
      " [10 10 10  2]\n",
      " [ 1  6  7  5]\n",
      " [ 3 10 10  4]]\n"
     ]
    }
   ],
   "source": [
    "a = np.empty((5, 5))\n",
    "# print(a)\n",
    "\n",
    "last = [ 1, 2, 3, 4, 5, 6, 7, 8, 9, 10 ]\n",
    "\n",
    "a = np.random.choice(last , p=[0.1, 0.1, 0.1, 0.1, 0.1, 0.1, 0.1, 0.05,0.05, 0.2], size=(4, 5))\n",
    "print(a)\n",
    "\n",
    "a = np.reshape(a, (5, 4))\n",
    "print(a)"
   ]
  },
  {
   "cell_type": "code",
   "execution_count": 21,
   "metadata": {},
   "outputs": [
    {
     "name": "stdout",
     "output_type": "stream",
     "text": [
      "[0 1 2 3 4 5 6 7 8 9]\n",
      "None\n",
      "[1 6 4 8 7 0 3 5 2 9]\n"
     ]
    }
   ],
   "source": [
    "from numpy import random as rd\n",
    "a = np.arange(10)\n",
    "print(a)\n",
    "b = rd.shuffle(a)\n",
    "print(b)\n",
    "c = rd.permutation(a)\n",
    "print(c)"
   ]
  },
  {
   "cell_type": "markdown",
   "metadata": {},
   "source": [
    "vactor in numpy"
   ]
  },
  {
   "cell_type": "code",
   "execution_count": 22,
   "metadata": {},
   "outputs": [
    {
     "name": "stdout",
     "output_type": "stream",
     "text": [
      "[6 6 6 6 6]\n",
      "[6, 6, 6, 6, 6]\n",
      "[1, 2, 3, 4, 5, 5, 4, 3, 2, 1]\n"
     ]
    }
   ],
   "source": [
    "import numpy as np\n",
    "\n",
    "L1 = [1, 2, 3, 4, 5]\n",
    "L2 = [5, 4, 3, 2, 1]\n",
    "L3 = np.array(L1) + np.array(L2)\n",
    "print(L3)\n",
    "L4 = [x+y for x, y in zip(L1, L2)]\n",
    "print(L4)\n",
    "L5 = lambda x, y: x+y\n",
    "L5 = [x for x in L5(L1, L2)]\n",
    "print(L5)"
   ]
  },
  {
   "cell_type": "markdown",
   "metadata": {},
   "source": [
    "## Python: Pandas"
   ]
  },
  {
   "cell_type": "code",
   "execution_count": 23,
   "metadata": {},
   "outputs": [],
   "source": [
    "import pandas as pd\n",
    "import numpy as np"
   ]
  },
  {
   "cell_type": "code",
   "execution_count": 24,
   "metadata": {},
   "outputs": [
    {
     "name": "stdout",
     "output_type": "stream",
     "text": [
      "Series\n",
      "a     5\n",
      "b    20\n",
      "c    30\n",
      "d    35\n",
      "e    60\n",
      "dtype: int64\n",
      "\n"
     ]
    }
   ],
   "source": [
    "s = pd.Series([5,20,30,35,60], index=['a','b','c','d','e'])\n",
    "print(f\"Series\\n{s}\\n\")"
   ]
  },
  {
   "cell_type": "code",
   "execution_count": 25,
   "metadata": {},
   "outputs": [
    {
     "name": "stdout",
     "output_type": "stream",
     "text": [
      "แบบไม่กำหนด Row กับ Column\n",
      "     0   1   2   3\n",
      "0  15  28  46  45\n",
      "1  10  17  23  28\n",
      "2  35  36  32  34\n",
      "3  24  49  15  19\n",
      "4  28  32  18  37 \n",
      "\n",
      "แบบกำหนด Row กับ Column\n",
      "     a   b   c   d\n",
      "a  23  48  29  13\n",
      "b  16  29  31  32\n",
      "c  25  18  40  33\n",
      "d  33  25  37  13\n",
      "e  45  42  37  21 \n",
      "\n"
     ]
    }
   ],
   "source": [
    "sf1 = pd.DataFrame(np.random.randint(10, 50, [5,4]))\n",
    "print(f\"แบบไม่กำหนด Row กับ Column\\n {sf1} \\n\")\n",
    "\n",
    "sf2 = pd.DataFrame(np.random.randint(10, 50, [5,4]), columns=list('abcd'), index=list('abcde'))\n",
    "print(f\"แบบกำหนด Row กับ Column\\n {sf2} \\n\")"
   ]
  },
  {
   "cell_type": "markdown",
   "metadata": {},
   "source": [
    "Accessing Data"
   ]
  },
  {
   "cell_type": "code",
   "execution_count": 26,
   "metadata": {},
   "outputs": [
    {
     "name": "stdout",
     "output_type": "stream",
     "text": [
      "    a   b   c   d\n",
      "a  20  45  29  35\n",
      "b  27  44  17  30\n",
      "c  12  33  22  27\n",
      "d  21  13  11  13\n",
      "e  38  29  17  43 \n",
      "\n",
      "การเข้าถึง data ใน DataFrame: sf3['a']\n",
      "a    20\n",
      "b    27\n",
      "c    12\n",
      "d    21\n",
      "e    38\n",
      "Name: a, dtype: int32 \n",
      "\n",
      "การเข้าถึง data ใน DataFrame แบบเลือก Column: sf3['a'][2] \n",
      "12 \n",
      "\n",
      "การเข้าถึง data ใน DataFrame แบบ loc: sf3.loc['a'] \n",
      "a    20\n",
      "b    45\n",
      "c    29\n",
      "d    35\n",
      "Name: a, dtype: int32 \n",
      "\n",
      "การเข้าถึง data ใน DataFrame แบบ loc แบบเลือก Column: sf3.loc['a']['a']\n",
      "20 \n",
      "\n",
      "การเข้าถึง data ใน DataFrame แบบ iloc: sf3.iloc[0] \n",
      "a    20\n",
      "b    45\n",
      "c    29\n",
      "d    35\n",
      "Name: a, dtype: int32 \n",
      "\n",
      "การเข้าถึง data ใน DataFrame แบบ iloc แบบเลือก Column: : sf3.iloc[0][0] \n",
      "20 \n",
      "\n",
      "การเข้าถึง data ใน DataFrame แบบ access: sf3.a \n",
      "a    20\n",
      "b    27\n",
      "c    12\n",
      "d    21\n",
      "e    38\n",
      "Name: a, dtype: int32 \n",
      "\n",
      "การเข้าถึง data ใน DataFrame แบบ access แบบเลือก Column: sf3.a[0] \n",
      "20 \n",
      "\n",
      "การเข้าถึง data ใน DataFrame แบบ access แบบเลือกหลาย Column : sf3[['a','b']] \n",
      "    a   b\n",
      "a  20  45\n",
      "b  27  44\n",
      "c  12  33\n",
      "d  21  13\n",
      "e  38  29 \n",
      "\n"
     ]
    }
   ],
   "source": [
    "sf3 = pd.DataFrame(np.random.randint(10, 50, [5,4]), columns=list('abcd'), index=list('abcde'))\n",
    "print(f\"{sf3} \\n\")\n",
    "print(f\"การเข้าถึง data ใน DataFrame: sf3['a']\\n{sf3['a']} \\n\")\n",
    "print(f\"การเข้าถึง data ใน DataFrame แบบเลือก Column: sf3['a'][2] \\n{sf3['a'][2]} \\n\")\n",
    "# loc\n",
    "print(f\"การเข้าถึง data ใน DataFrame แบบ loc: sf3.loc['a'] \\n{sf3.loc['a']} \\n\")\n",
    "print(f\"การเข้าถึง data ใน DataFrame แบบ loc แบบเลือก Column: sf3.loc['a']['a']\\n{sf3.loc['a']['a']} \\n\")\n",
    "# iloc\n",
    "print(f\"การเข้าถึง data ใน DataFrame แบบ iloc: sf3.iloc[0] \\n{sf3.iloc[0]} \\n\")\n",
    "print(f\"การเข้าถึง data ใน DataFrame แบบ iloc แบบเลือก Column: : sf3.iloc[0][0] \\n{sf3.iloc[0][0]} \\n\")\n",
    "# access\n",
    "print(f\"การเข้าถึง data ใน DataFrame แบบ access: sf3.a \\n{sf3.a} \\n\")\n",
    "print(f\"การเข้าถึง data ใน DataFrame แบบ access แบบเลือก Column: sf3.a[0] \\n{sf3.a[0]} \\n\")\n",
    "print(f\"การเข้าถึง data ใน DataFrame แบบ access แบบเลือกหลาย Column : sf3[['a','b']] \\n{sf3[['a','b']]} \\n\")"
   ]
  },
  {
   "cell_type": "code",
   "execution_count": 27,
   "metadata": {},
   "outputs": [
    {
     "name": "stdout",
     "output_type": "stream",
     "text": [
      "    W   X   Y   Z\n",
      "0   1   2   3   4\n",
      "1   5   6   7   8\n",
      "2   9  10  11  12\n",
      "3  13  14  15  16\n",
      "4  17  18  19  20\n"
     ]
    }
   ],
   "source": [
    "df = pd.DataFrame(np.arange(1,21).reshape(5,4), columns=list('WXYZ'))\n",
    "print(df)"
   ]
  },
  {
   "cell_type": "code",
   "execution_count": 28,
   "metadata": {},
   "outputs": [
    {
     "name": "stdout",
     "output_type": "stream",
     "text": [
      "\n",
      "    X   Y   Z\n",
      "1   6   7   8\n",
      "3  14  15  16\n"
     ]
    }
   ],
   "source": [
    "print(f\"\\n{df.loc[1::2, 'X':'Z']}\")"
   ]
  },
  {
   "cell_type": "code",
   "execution_count": 29,
   "metadata": {},
   "outputs": [
    {
     "name": "stdout",
     "output_type": "stream",
     "text": [
      "\n",
      "    X   Y   Z\n",
      "1   6   7   8\n",
      "3  14  15  16\n"
     ]
    }
   ],
   "source": [
    "print(f\"\\n{df.loc[1::2, 'X':'Z']}\")"
   ]
  },
  {
   "cell_type": "code",
   "execution_count": 30,
   "metadata": {},
   "outputs": [
    {
     "name": "stdout",
     "output_type": "stream",
     "text": [
      "\n",
      "      W     X     Y     Z\n",
      "0   NaN   NaN   NaN   NaN\n",
      "1   NaN   6.0   7.0   8.0\n",
      "2   9.0  10.0  11.0  12.0\n",
      "3  13.0  14.0  15.0  16.0\n",
      "4  17.0  18.0  19.0  20.0\n"
     ]
    }
   ],
   "source": [
    "print(f\"\\n{df[df>5]}\")"
   ]
  },
  {
   "cell_type": "code",
   "execution_count": 31,
   "metadata": {},
   "outputs": [
    {
     "name": "stdout",
     "output_type": "stream",
     "text": [
      "\n",
      "0    False\n",
      "1    False\n",
      "2     True\n",
      "3     True\n",
      "4     True\n",
      "Name: W, dtype: bool\n",
      "\n",
      "    W   X   Y   Z\n",
      "2   9  10  11  12\n",
      "3  13  14  15  16\n",
      "4  17  18  19  20\n",
      "\n",
      "2    10\n",
      "3    14\n",
      "4    18\n",
      "Name: X, dtype: int32\n",
      "\n",
      "2    10\n",
      "3    14\n",
      "4    18\n",
      "Name: X, dtype: int32\n"
     ]
    }
   ],
   "source": [
    "print(f\"\\n{df['W'] > 5}\")\n",
    "print(f\"\\n{df[df['W'] > 5]}\")\n",
    "print(f\"\\n{df[df['W'] > 5]['X']}\")\n",
    "# print(f\"\\n{df[df['W'] > 5].loc['X']}\")\n",
    "print(f\"\\n{df[df['W'] > 5].iloc[:, 1]}\")"
   ]
  },
  {
   "cell_type": "code",
   "execution_count": 64,
   "metadata": {},
   "outputs": [
    {
     "name": "stdout",
     "output_type": "stream",
     "text": [
      "  Company Person  Sales\n",
      "0     SCG      A    200\n",
      "1     SCG      B    300\n",
      "2     PTT      C    450\n",
      "3     PTT      D    100\n",
      "4     KTB      E    140\n",
      "5     KTB      F    350\n",
      "<pandas.core.groupby.generic.DataFrameGroupBy object at 0x000002EE2208C410>\n"
     ]
    }
   ],
   "source": [
    "data = {\n",
    "    'Company': ['SCG', 'SCG', 'PTT', 'PTT', 'KTB', 'KTB'],\n",
    "    'Person': list(\"ABCDEF\"),\n",
    "    'Sales': [200, 300, 450, 100, 140, 350]\n",
    "}\n",
    "df = pd.DataFrame(data)\n",
    "print(df)\n",
    "\n",
    "# groupby คือการจัดกลุ่มข้อมูลในแนวแกน X โดยใช้คำสั่ง groupby() และสามารถใช้คำสั่ง sum(), mean(), describe() ได้\n",
    "\n",
    "# df.groupby('Company').sum()\n",
    "# print(df.groupby('Company'))\n",
    "# print(df.groupby('Company').describe())"
   ]
  },
  {
   "cell_type": "code",
   "execution_count": 33,
   "metadata": {},
   "outputs": [
    {
     "name": "stdout",
     "output_type": "stream",
     "text": [
      "Sales  count      2.000000\n",
      "       mean     275.000000\n",
      "       std      247.487373\n",
      "       min      100.000000\n",
      "       25%      187.500000\n",
      "       50%      275.000000\n",
      "       75%      362.500000\n",
      "       max      450.000000\n",
      "Name: PTT, dtype: float64\n"
     ]
    }
   ],
   "source": [
    "print(df.groupby('Company').describe().transpose()['PTT'])"
   ]
  },
  {
   "cell_type": "code",
   "execution_count": null,
   "metadata": {},
   "outputs": [],
   "source": []
  },
  {
   "cell_type": "code",
   "execution_count": 69,
   "metadata": {},
   "outputs": [
    {
     "name": "stdout",
     "output_type": "stream",
     "text": [
      "['SCG' 'PTT' 'KTB']\n",
      "3\n",
      "SCG    2\n",
      "PTT    2\n",
      "KTB    2\n",
      "Name: Company, dtype: int64\n"
     ]
    }
   ],
   "source": [
    "print(df['Company'].unique()) # แสดงค่าที่ไม่ซ้ำกัน\n",
    "print(df['Company'].nunique()) # แสดงจำนวนค่าที่ไม่ซ้ำกัน\n",
    "print(df['Company'].value_counts()) # แสดงจำนวนค่าที่ซ้ำกัน"
   ]
  },
  {
   "cell_type": "code",
   "execution_count": 35,
   "metadata": {},
   "outputs": [
    {
     "data": {
      "text/plain": [
       "3080"
      ]
     },
     "execution_count": 35,
     "metadata": {},
     "output_type": "execute_result"
    }
   ],
   "source": [
    "df[df['Sales'] == 200]\n",
    "df['Sales'].max()\n",
    "df['Sales'].min()\n",
    "df['Sales'].apply(lambda x: x*2)\n",
    "df['Sales'].apply(lambda x: x*2).sum()"
   ]
  },
  {
   "cell_type": "markdown",
   "metadata": {},
   "source": [
    "อยู่กับไฟล์ดูที่ไฟล์ lab/001/"
   ]
  },
  {
   "cell_type": "code",
   "execution_count": 36,
   "metadata": {},
   "outputs": [
    {
     "name": "stdout",
     "output_type": "stream",
     "text": [
      "['Furniture' 'Office Supplies' 'Technology']\n"
     ]
    }
   ],
   "source": [
    "import pandas as pd\n",
    "df = pd.read_excel('./001/Sample - Superstore.xls')\n",
    "# print(df)\n",
    "# print(df['Discount'] == df['Discount'].max())\n",
    "print(df['Category'].unique())\n",
    "# print(df.groupby('Category').sum()['Sales'])"
   ]
  },
  {
   "cell_type": "code",
   "execution_count": 37,
   "metadata": {},
   "outputs": [],
   "source": [
    "# binary counter\n",
    "import numpy as np\n",
    "import pandas as pd\n",
    "def binary_counter(n) -> list:\n",
    "    return [[int(i) for i in format(j, '0' + str(n) + 'b')] for j in range(2**n)]\n",
    "n = 10\n",
    "df = pd.DataFrame(binary_counter(n), columns=[f'bit{i}' for i in range(n)])\n",
    "df.to_csv('./001/binary_counter.csv', index=False)\n",
    "df['sum'] = df.apply(lambda x: x.sum(), axis=0)"
   ]
  },
  {
   "cell_type": "code",
   "execution_count": 38,
   "metadata": {},
   "outputs": [
    {
     "name": "stdout",
     "output_type": "stream",
     "text": [
      "[[0, 0, 0], [0, 0, 1], [0, 1, 0], [0, 1, 1], [1, 0, 0], [1, 0, 1], [1, 1, 0], [1, 1, 1]]\n"
     ]
    }
   ],
   "source": [
    "def lenda_test(n) -> list:\n",
    "    return [[int(i) for i in format(j, '0' + str(n) + 'b')] for j in range(2**n)]\n",
    "print(lenda_test(3))"
   ]
  },
  {
   "cell_type": "code",
   "execution_count": 39,
   "metadata": {},
   "outputs": [],
   "source": [
    "import numpy as np\n",
    "import pandas as pd"
   ]
  },
  {
   "cell_type": "code",
   "execution_count": 40,
   "metadata": {},
   "outputs": [
    {
     "data": {
      "text/html": [
       "<div>\n",
       "<style scoped>\n",
       "    .dataframe tbody tr th:only-of-type {\n",
       "        vertical-align: middle;\n",
       "    }\n",
       "\n",
       "    .dataframe tbody tr th {\n",
       "        vertical-align: top;\n",
       "    }\n",
       "\n",
       "    .dataframe thead th {\n",
       "        text-align: right;\n",
       "    }\n",
       "</style>\n",
       "<table border=\"1\" class=\"dataframe\">\n",
       "  <thead>\n",
       "    <tr style=\"text-align: right;\">\n",
       "      <th></th>\n",
       "      <th>W</th>\n",
       "      <th>X</th>\n",
       "      <th>Y</th>\n",
       "      <th>Z</th>\n",
       "    </tr>\n",
       "  </thead>\n",
       "  <tbody>\n",
       "    <tr>\n",
       "      <th>a</th>\n",
       "      <td>33</td>\n",
       "      <td>44</td>\n",
       "      <td>19</td>\n",
       "      <td>10</td>\n",
       "    </tr>\n",
       "    <tr>\n",
       "      <th>b</th>\n",
       "      <td>30</td>\n",
       "      <td>45</td>\n",
       "      <td>44</td>\n",
       "      <td>14</td>\n",
       "    </tr>\n",
       "    <tr>\n",
       "      <th>c</th>\n",
       "      <td>25</td>\n",
       "      <td>21</td>\n",
       "      <td>31</td>\n",
       "      <td>40</td>\n",
       "    </tr>\n",
       "    <tr>\n",
       "      <th>d</th>\n",
       "      <td>40</td>\n",
       "      <td>40</td>\n",
       "      <td>29</td>\n",
       "      <td>43</td>\n",
       "    </tr>\n",
       "    <tr>\n",
       "      <th>e</th>\n",
       "      <td>46</td>\n",
       "      <td>48</td>\n",
       "      <td>18</td>\n",
       "      <td>19</td>\n",
       "    </tr>\n",
       "  </tbody>\n",
       "</table>\n",
       "</div>"
      ],
      "text/plain": [
       "    W   X   Y   Z\n",
       "a  33  44  19  10\n",
       "b  30  45  44  14\n",
       "c  25  21  31  40\n",
       "d  40  40  29  43\n",
       "e  46  48  18  19"
      ]
     },
     "execution_count": 40,
     "metadata": {},
     "output_type": "execute_result"
    }
   ],
   "source": [
    "df = pd.DataFrame(np.random.randint(10, 50, (5, 4)), index='a b c d e'.split()\n",
    "                  ,columns = 'W X Y Z'.split())\n",
    "df"
   ]
  },
  {
   "attachments": {},
   "cell_type": "markdown",
   "metadata": {},
   "source": [
    "add new column"
   ]
  },
  {
   "cell_type": "code",
   "execution_count": 41,
   "metadata": {},
   "outputs": [
    {
     "data": {
      "text/html": [
       "<div>\n",
       "<style scoped>\n",
       "    .dataframe tbody tr th:only-of-type {\n",
       "        vertical-align: middle;\n",
       "    }\n",
       "\n",
       "    .dataframe tbody tr th {\n",
       "        vertical-align: top;\n",
       "    }\n",
       "\n",
       "    .dataframe thead th {\n",
       "        text-align: right;\n",
       "    }\n",
       "</style>\n",
       "<table border=\"1\" class=\"dataframe\">\n",
       "  <thead>\n",
       "    <tr style=\"text-align: right;\">\n",
       "      <th></th>\n",
       "      <th>W</th>\n",
       "      <th>X</th>\n",
       "      <th>Y</th>\n",
       "      <th>Z</th>\n",
       "      <th>SUM_X</th>\n",
       "    </tr>\n",
       "  </thead>\n",
       "  <tbody>\n",
       "    <tr>\n",
       "      <th>a</th>\n",
       "      <td>33</td>\n",
       "      <td>44</td>\n",
       "      <td>19</td>\n",
       "      <td>10</td>\n",
       "      <td>106</td>\n",
       "    </tr>\n",
       "    <tr>\n",
       "      <th>b</th>\n",
       "      <td>30</td>\n",
       "      <td>45</td>\n",
       "      <td>44</td>\n",
       "      <td>14</td>\n",
       "      <td>133</td>\n",
       "    </tr>\n",
       "    <tr>\n",
       "      <th>c</th>\n",
       "      <td>25</td>\n",
       "      <td>21</td>\n",
       "      <td>31</td>\n",
       "      <td>40</td>\n",
       "      <td>117</td>\n",
       "    </tr>\n",
       "    <tr>\n",
       "      <th>d</th>\n",
       "      <td>40</td>\n",
       "      <td>40</td>\n",
       "      <td>29</td>\n",
       "      <td>43</td>\n",
       "      <td>152</td>\n",
       "    </tr>\n",
       "    <tr>\n",
       "      <th>e</th>\n",
       "      <td>46</td>\n",
       "      <td>48</td>\n",
       "      <td>18</td>\n",
       "      <td>19</td>\n",
       "      <td>131</td>\n",
       "    </tr>\n",
       "    <tr>\n",
       "      <th>SUM_Y</th>\n",
       "      <td>174</td>\n",
       "      <td>198</td>\n",
       "      <td>141</td>\n",
       "      <td>126</td>\n",
       "      <td>639</td>\n",
       "    </tr>\n",
       "  </tbody>\n",
       "</table>\n",
       "</div>"
      ],
      "text/plain": [
       "         W    X    Y    Z  SUM_X\n",
       "a       33   44   19   10    106\n",
       "b       30   45   44   14    133\n",
       "c       25   21   31   40    117\n",
       "d       40   40   29   43    152\n",
       "e       46   48   18   19    131\n",
       "SUM_Y  174  198  141  126    639"
      ]
     },
     "execution_count": 41,
     "metadata": {},
     "output_type": "execute_result"
    }
   ],
   "source": [
    "# drop axis=0 คือ drop row\n",
    "# drop axis=1 คือ drop column\n",
    "# inplace=True คือ ทำการเปลี่ยนแปลงตารางเดิม\n",
    "if 'SUM_Y' in df.index:\n",
    "    df.drop('SUM_Y', axis=0, inplace=True)\n",
    "\n",
    "if 'SUM_X' in df.columns:\n",
    "    df.drop('SUM_X', axis=1, inplace=True)\n",
    "\n",
    "df['SUM_X'] = df.apply(lambda x: x.sum(), axis=1)\n",
    "df.loc['SUM_Y'] = df.apply(lambda x: x.sum(), axis=0)\n",
    "df"
   ]
  },
  {
   "attachments": {},
   "cell_type": "markdown",
   "metadata": {},
   "source": [
    "rename name of column"
   ]
  },
  {
   "cell_type": "code",
   "execution_count": 42,
   "metadata": {},
   "outputs": [
    {
     "data": {
      "text/html": [
       "<div>\n",
       "<style scoped>\n",
       "    .dataframe tbody tr th:only-of-type {\n",
       "        vertical-align: middle;\n",
       "    }\n",
       "\n",
       "    .dataframe tbody tr th {\n",
       "        vertical-align: top;\n",
       "    }\n",
       "\n",
       "    .dataframe thead th {\n",
       "        text-align: right;\n",
       "    }\n",
       "</style>\n",
       "<table border=\"1\" class=\"dataframe\">\n",
       "  <thead>\n",
       "    <tr style=\"text-align: right;\">\n",
       "      <th></th>\n",
       "      <th>W1</th>\n",
       "      <th>X1</th>\n",
       "      <th>Y1</th>\n",
       "      <th>Z1</th>\n",
       "      <th>SUM_X</th>\n",
       "    </tr>\n",
       "  </thead>\n",
       "  <tbody>\n",
       "    <tr>\n",
       "      <th>a</th>\n",
       "      <td>33</td>\n",
       "      <td>44</td>\n",
       "      <td>19</td>\n",
       "      <td>10</td>\n",
       "      <td>106</td>\n",
       "    </tr>\n",
       "    <tr>\n",
       "      <th>b</th>\n",
       "      <td>30</td>\n",
       "      <td>45</td>\n",
       "      <td>44</td>\n",
       "      <td>14</td>\n",
       "      <td>133</td>\n",
       "    </tr>\n",
       "    <tr>\n",
       "      <th>c</th>\n",
       "      <td>25</td>\n",
       "      <td>21</td>\n",
       "      <td>31</td>\n",
       "      <td>40</td>\n",
       "      <td>117</td>\n",
       "    </tr>\n",
       "    <tr>\n",
       "      <th>d</th>\n",
       "      <td>40</td>\n",
       "      <td>40</td>\n",
       "      <td>29</td>\n",
       "      <td>43</td>\n",
       "      <td>152</td>\n",
       "    </tr>\n",
       "    <tr>\n",
       "      <th>e</th>\n",
       "      <td>46</td>\n",
       "      <td>48</td>\n",
       "      <td>18</td>\n",
       "      <td>19</td>\n",
       "      <td>131</td>\n",
       "    </tr>\n",
       "    <tr>\n",
       "      <th>SUM_XYZ</th>\n",
       "      <td>174</td>\n",
       "      <td>198</td>\n",
       "      <td>141</td>\n",
       "      <td>126</td>\n",
       "      <td>639</td>\n",
       "    </tr>\n",
       "  </tbody>\n",
       "</table>\n",
       "</div>"
      ],
      "text/plain": [
       "          W1   X1   Y1   Z1  SUM_X\n",
       "a         33   44   19   10    106\n",
       "b         30   45   44   14    133\n",
       "c         25   21   31   40    117\n",
       "d         40   40   29   43    152\n",
       "e         46   48   18   19    131\n",
       "SUM_XYZ  174  198  141  126    639"
      ]
     },
     "execution_count": 42,
     "metadata": {},
     "output_type": "execute_result"
    }
   ],
   "source": [
    "# rename row\n",
    "df.rename(index={'SUM_Y': 'SUM_XYZ'}, inplace=True)\n",
    "# rename column\n",
    "df.rename(columns={'W': 'W1', 'X': 'X1', 'Y': 'Y1', 'Z': 'Z1'}, inplace=True)\n",
    "df"
   ]
  },
  {
   "cell_type": "code",
   "execution_count": 43,
   "metadata": {},
   "outputs": [
    {
     "data": {
      "text/html": [
       "<div>\n",
       "<style scoped>\n",
       "    .dataframe tbody tr th:only-of-type {\n",
       "        vertical-align: middle;\n",
       "    }\n",
       "\n",
       "    .dataframe tbody tr th {\n",
       "        vertical-align: top;\n",
       "    }\n",
       "\n",
       "    .dataframe thead th {\n",
       "        text-align: right;\n",
       "    }\n",
       "</style>\n",
       "<table border=\"1\" class=\"dataframe\">\n",
       "  <thead>\n",
       "    <tr style=\"text-align: right;\">\n",
       "      <th></th>\n",
       "      <th>W1</th>\n",
       "      <th>X1</th>\n",
       "      <th>Y1</th>\n",
       "      <th>Z1</th>\n",
       "      <th>SUM_X</th>\n",
       "    </tr>\n",
       "  </thead>\n",
       "  <tbody>\n",
       "    <tr>\n",
       "      <th>0</th>\n",
       "      <td>33</td>\n",
       "      <td>44</td>\n",
       "      <td>19</td>\n",
       "      <td>10</td>\n",
       "      <td>106</td>\n",
       "    </tr>\n",
       "    <tr>\n",
       "      <th>1</th>\n",
       "      <td>30</td>\n",
       "      <td>45</td>\n",
       "      <td>44</td>\n",
       "      <td>14</td>\n",
       "      <td>133</td>\n",
       "    </tr>\n",
       "    <tr>\n",
       "      <th>2</th>\n",
       "      <td>25</td>\n",
       "      <td>21</td>\n",
       "      <td>31</td>\n",
       "      <td>40</td>\n",
       "      <td>117</td>\n",
       "    </tr>\n",
       "    <tr>\n",
       "      <th>3</th>\n",
       "      <td>40</td>\n",
       "      <td>40</td>\n",
       "      <td>29</td>\n",
       "      <td>43</td>\n",
       "      <td>152</td>\n",
       "    </tr>\n",
       "    <tr>\n",
       "      <th>4</th>\n",
       "      <td>46</td>\n",
       "      <td>48</td>\n",
       "      <td>18</td>\n",
       "      <td>19</td>\n",
       "      <td>131</td>\n",
       "    </tr>\n",
       "    <tr>\n",
       "      <th>5</th>\n",
       "      <td>174</td>\n",
       "      <td>198</td>\n",
       "      <td>141</td>\n",
       "      <td>126</td>\n",
       "      <td>639</td>\n",
       "    </tr>\n",
       "  </tbody>\n",
       "</table>\n",
       "</div>"
      ],
      "text/plain": [
       "    W1   X1   Y1   Z1  SUM_X\n",
       "0   33   44   19   10    106\n",
       "1   30   45   44   14    133\n",
       "2   25   21   31   40    117\n",
       "3   40   40   29   43    152\n",
       "4   46   48   18   19    131\n",
       "5  174  198  141  126    639"
      ]
     },
     "execution_count": 43,
     "metadata": {},
     "output_type": "execute_result"
    }
   ],
   "source": [
    "# reset_index จะทำให้ index กลายเป็น column ใหม่\n",
    "# drop=True คือ ไม่ต้องเก็บ index เก่าไว้\n",
    "# inplace=True คือ ทำการเปลี่ยนแปลงตารางเดิม\n",
    "df.reset_index(drop=True, inplace=True)\n",
    "df\n"
   ]
  },
  {
   "cell_type": "code",
   "execution_count": 44,
   "metadata": {},
   "outputs": [
    {
     "data": {
      "text/html": [
       "<div>\n",
       "<style scoped>\n",
       "    .dataframe tbody tr th:only-of-type {\n",
       "        vertical-align: middle;\n",
       "    }\n",
       "\n",
       "    .dataframe tbody tr th {\n",
       "        vertical-align: top;\n",
       "    }\n",
       "\n",
       "    .dataframe thead th {\n",
       "        text-align: right;\n",
       "    }\n",
       "</style>\n",
       "<table border=\"1\" class=\"dataframe\">\n",
       "  <thead>\n",
       "    <tr style=\"text-align: right;\">\n",
       "      <th></th>\n",
       "      <th>W1</th>\n",
       "      <th>X1</th>\n",
       "      <th>Y1</th>\n",
       "      <th>Z1</th>\n",
       "      <th>SUM_X</th>\n",
       "    </tr>\n",
       "  </thead>\n",
       "  <tbody>\n",
       "    <tr>\n",
       "      <th>0</th>\n",
       "      <td>33</td>\n",
       "      <td>44</td>\n",
       "      <td>19</td>\n",
       "      <td>10</td>\n",
       "      <td>106</td>\n",
       "    </tr>\n",
       "    <tr>\n",
       "      <th>1</th>\n",
       "      <td>30</td>\n",
       "      <td>45</td>\n",
       "      <td>44</td>\n",
       "      <td>14</td>\n",
       "      <td>133</td>\n",
       "    </tr>\n",
       "    <tr>\n",
       "      <th>2</th>\n",
       "      <td>25</td>\n",
       "      <td>21</td>\n",
       "      <td>31</td>\n",
       "      <td>40</td>\n",
       "      <td>117</td>\n",
       "    </tr>\n",
       "    <tr>\n",
       "      <th>3</th>\n",
       "      <td>40</td>\n",
       "      <td>40</td>\n",
       "      <td>29</td>\n",
       "      <td>43</td>\n",
       "      <td>152</td>\n",
       "    </tr>\n",
       "    <tr>\n",
       "      <th>4</th>\n",
       "      <td>46</td>\n",
       "      <td>48</td>\n",
       "      <td>18</td>\n",
       "      <td>19</td>\n",
       "      <td>131</td>\n",
       "    </tr>\n",
       "    <tr>\n",
       "      <th>5</th>\n",
       "      <td>174</td>\n",
       "      <td>198</td>\n",
       "      <td>141</td>\n",
       "      <td>126</td>\n",
       "      <td>639</td>\n",
       "    </tr>\n",
       "  </tbody>\n",
       "</table>\n",
       "</div>"
      ],
      "text/plain": [
       "    W1   X1   Y1   Z1  SUM_X\n",
       "0   33   44   19   10    106\n",
       "1   30   45   44   14    133\n",
       "2   25   21   31   40    117\n",
       "3   40   40   29   43    152\n",
       "4   46   48   18   19    131\n",
       "5  174  198  141  126    639"
      ]
     },
     "execution_count": 44,
     "metadata": {},
     "output_type": "execute_result"
    }
   ],
   "source": [
    "df.rename(columns={'index': 'ID'}, inplace=True)\n",
    "df"
   ]
  },
  {
   "cell_type": "code",
   "execution_count": 45,
   "metadata": {},
   "outputs": [
    {
     "ename": "KeyError",
     "evalue": "\"None of ['ID'] are in the columns\"",
     "output_type": "error",
     "traceback": [
      "\u001b[1;31m---------------------------------------------------------------------------\u001b[0m",
      "\u001b[1;31mKeyError\u001b[0m                                  Traceback (most recent call last)",
      "Cell \u001b[1;32mIn[45], line 1\u001b[0m\n\u001b[1;32m----> 1\u001b[0m df\u001b[39m.\u001b[39;49mset_index(\u001b[39m'\u001b[39;49m\u001b[39mID\u001b[39;49m\u001b[39m'\u001b[39;49m, inplace\u001b[39m=\u001b[39;49m\u001b[39mTrue\u001b[39;49;00m)\n\u001b[0;32m      2\u001b[0m df\n",
      "File \u001b[1;32m~\\AppData\\Roaming\\Python\\Python311\\site-packages\\pandas\\util\\_decorators.py:331\u001b[0m, in \u001b[0;36mdeprecate_nonkeyword_arguments.<locals>.decorate.<locals>.wrapper\u001b[1;34m(*args, **kwargs)\u001b[0m\n\u001b[0;32m    325\u001b[0m \u001b[39mif\u001b[39;00m \u001b[39mlen\u001b[39m(args) \u001b[39m>\u001b[39m num_allow_args:\n\u001b[0;32m    326\u001b[0m     warnings\u001b[39m.\u001b[39mwarn(\n\u001b[0;32m    327\u001b[0m         msg\u001b[39m.\u001b[39mformat(arguments\u001b[39m=\u001b[39m_format_argument_list(allow_args)),\n\u001b[0;32m    328\u001b[0m         \u001b[39mFutureWarning\u001b[39;00m,\n\u001b[0;32m    329\u001b[0m         stacklevel\u001b[39m=\u001b[39mfind_stack_level(),\n\u001b[0;32m    330\u001b[0m     )\n\u001b[1;32m--> 331\u001b[0m \u001b[39mreturn\u001b[39;00m func(\u001b[39m*\u001b[39;49margs, \u001b[39m*\u001b[39;49m\u001b[39m*\u001b[39;49mkwargs)\n",
      "File \u001b[1;32m~\\AppData\\Roaming\\Python\\Python311\\site-packages\\pandas\\core\\frame.py:6009\u001b[0m, in \u001b[0;36mDataFrame.set_index\u001b[1;34m(self, keys, drop, append, inplace, verify_integrity)\u001b[0m\n\u001b[0;32m   6006\u001b[0m                 missing\u001b[39m.\u001b[39mappend(col)\n\u001b[0;32m   6008\u001b[0m \u001b[39mif\u001b[39;00m missing:\n\u001b[1;32m-> 6009\u001b[0m     \u001b[39mraise\u001b[39;00m \u001b[39mKeyError\u001b[39;00m(\u001b[39mf\u001b[39m\u001b[39m\"\u001b[39m\u001b[39mNone of \u001b[39m\u001b[39m{\u001b[39;00mmissing\u001b[39m}\u001b[39;00m\u001b[39m are in the columns\u001b[39m\u001b[39m\"\u001b[39m)\n\u001b[0;32m   6011\u001b[0m \u001b[39mif\u001b[39;00m inplace:\n\u001b[0;32m   6012\u001b[0m     frame \u001b[39m=\u001b[39m \u001b[39mself\u001b[39m\n",
      "\u001b[1;31mKeyError\u001b[0m: \"None of ['ID'] are in the columns\""
     ]
    }
   ],
   "source": [
    "df.set_index('ID', inplace=True)\n",
    "df"
   ]
  },
  {
   "cell_type": "code",
   "execution_count": null,
   "metadata": {},
   "outputs": [
    {
     "data": {
      "text/html": [
       "<div>\n",
       "<style scoped>\n",
       "    .dataframe tbody tr th:only-of-type {\n",
       "        vertical-align: middle;\n",
       "    }\n",
       "\n",
       "    .dataframe tbody tr th {\n",
       "        vertical-align: top;\n",
       "    }\n",
       "\n",
       "    .dataframe thead th {\n",
       "        text-align: right;\n",
       "    }\n",
       "</style>\n",
       "<table border=\"1\" class=\"dataframe\">\n",
       "  <thead>\n",
       "    <tr style=\"text-align: right;\">\n",
       "      <th></th>\n",
       "      <th>A</th>\n",
       "      <th>B</th>\n",
       "      <th>C</th>\n",
       "    </tr>\n",
       "    <tr>\n",
       "      <th>ID</th>\n",
       "      <th></th>\n",
       "      <th></th>\n",
       "      <th></th>\n",
       "    </tr>\n",
       "  </thead>\n",
       "  <tbody>\n",
       "    <tr>\n",
       "      <th>0</th>\n",
       "      <td>1.0</td>\n",
       "      <td>5.0</td>\n",
       "      <td>1.0</td>\n",
       "    </tr>\n",
       "    <tr>\n",
       "      <th>1</th>\n",
       "      <td>2.0</td>\n",
       "      <td>5.0</td>\n",
       "      <td>2.0</td>\n",
       "    </tr>\n",
       "    <tr>\n",
       "      <th>2</th>\n",
       "      <td>1.5</td>\n",
       "      <td>5.0</td>\n",
       "      <td>3.0</td>\n",
       "    </tr>\n",
       "    <tr>\n",
       "      <th>SUM_XYZ</th>\n",
       "      <td>4.5</td>\n",
       "      <td>15.0</td>\n",
       "      <td>6.0</td>\n",
       "    </tr>\n",
       "  </tbody>\n",
       "</table>\n",
       "</div>"
      ],
      "text/plain": [
       "           A     B    C\n",
       "ID                     \n",
       "0        1.0   5.0  1.0\n",
       "1        2.0   5.0  2.0\n",
       "2        1.5   5.0  3.0\n",
       "SUM_XYZ  4.5  15.0  6.0"
      ]
     },
     "execution_count": 580,
     "metadata": {},
     "output_type": "execute_result"
    }
   ],
   "source": [
    "df.loc['SUM_XYZ'] = df.apply(lambda x: x.sum(), axis=0)\n",
    "df"
   ]
  },
  {
   "cell_type": "code",
   "execution_count": null,
   "metadata": {},
   "outputs": [
    {
     "data": {
      "text/html": [
       "<div>\n",
       "<style scoped>\n",
       "    .dataframe tbody tr th:only-of-type {\n",
       "        vertical-align: middle;\n",
       "    }\n",
       "\n",
       "    .dataframe tbody tr th {\n",
       "        vertical-align: top;\n",
       "    }\n",
       "\n",
       "    .dataframe thead th {\n",
       "        text-align: right;\n",
       "    }\n",
       "</style>\n",
       "<table border=\"1\" class=\"dataframe\">\n",
       "  <thead>\n",
       "    <tr style=\"text-align: right;\">\n",
       "      <th></th>\n",
       "      <th>A</th>\n",
       "      <th>B</th>\n",
       "      <th>C</th>\n",
       "    </tr>\n",
       "  </thead>\n",
       "  <tbody>\n",
       "    <tr>\n",
       "      <th>0</th>\n",
       "      <td>1.0</td>\n",
       "      <td>5.0</td>\n",
       "      <td>1</td>\n",
       "    </tr>\n",
       "    <tr>\n",
       "      <th>1</th>\n",
       "      <td>2.0</td>\n",
       "      <td>NaN</td>\n",
       "      <td>2</td>\n",
       "    </tr>\n",
       "    <tr>\n",
       "      <th>2</th>\n",
       "      <td>NaN</td>\n",
       "      <td>NaN</td>\n",
       "      <td>3</td>\n",
       "    </tr>\n",
       "  </tbody>\n",
       "</table>\n",
       "</div>"
      ],
      "text/plain": [
       "     A    B  C\n",
       "0  1.0  5.0  1\n",
       "1  2.0  NaN  2\n",
       "2  NaN  NaN  3"
      ]
     },
     "execution_count": 495,
     "metadata": {},
     "output_type": "execute_result"
    }
   ],
   "source": [
    "d = {\n",
    "    'A': [1,2,np.nan],\n",
    "    'B': [5,np.nan,np.nan],\n",
    "    'C': [1,2,3]\n",
    "    }\n",
    "df = pd.DataFrame(d)\n",
    "df"
   ]
  },
  {
   "cell_type": "code",
   "execution_count": null,
   "metadata": {},
   "outputs": [
    {
     "data": {
      "text/html": [
       "<div>\n",
       "<style scoped>\n",
       "    .dataframe tbody tr th:only-of-type {\n",
       "        vertical-align: middle;\n",
       "    }\n",
       "\n",
       "    .dataframe tbody tr th {\n",
       "        vertical-align: top;\n",
       "    }\n",
       "\n",
       "    .dataframe thead th {\n",
       "        text-align: right;\n",
       "    }\n",
       "</style>\n",
       "<table border=\"1\" class=\"dataframe\">\n",
       "  <thead>\n",
       "    <tr style=\"text-align: right;\">\n",
       "      <th></th>\n",
       "      <th>A</th>\n",
       "      <th>C</th>\n",
       "    </tr>\n",
       "  </thead>\n",
       "  <tbody>\n",
       "    <tr>\n",
       "      <th>0</th>\n",
       "      <td>1.0</td>\n",
       "      <td>1</td>\n",
       "    </tr>\n",
       "    <tr>\n",
       "      <th>1</th>\n",
       "      <td>2.0</td>\n",
       "      <td>2</td>\n",
       "    </tr>\n",
       "  </tbody>\n",
       "</table>\n",
       "</div>"
      ],
      "text/plain": [
       "     A  C\n",
       "0  1.0  1\n",
       "1  2.0  2"
      ]
     },
     "execution_count": 496,
     "metadata": {},
     "output_type": "execute_result"
    }
   ],
   "source": [
    "# df.dropna(axis=0, inplace=True)\n",
    "# df.info()\n",
    "# df.dropna()\n",
    "\n",
    "# thresh=2 คือ ถ้ามีค่า NaN มากกว่า 2 ค่า จะ drop ทิ้ง\n",
    "df.dropna(thresh=2, inplace=True)\n",
    "df\n",
    "\n",
    "# axis=0 คือ แถว\n",
    "# axis=1 คือ คอลัมน์\n",
    "\n",
    "df.dropna(axis=1, inplace=True)\n",
    "df"
   ]
  },
  {
   "cell_type": "code",
   "execution_count": 70,
   "metadata": {},
   "outputs": [
    {
     "data": {
      "text/html": [
       "<div>\n",
       "<style scoped>\n",
       "    .dataframe tbody tr th:only-of-type {\n",
       "        vertical-align: middle;\n",
       "    }\n",
       "\n",
       "    .dataframe tbody tr th {\n",
       "        vertical-align: top;\n",
       "    }\n",
       "\n",
       "    .dataframe thead th {\n",
       "        text-align: right;\n",
       "    }\n",
       "</style>\n",
       "<table border=\"1\" class=\"dataframe\">\n",
       "  <thead>\n",
       "    <tr style=\"text-align: right;\">\n",
       "      <th></th>\n",
       "      <th>A</th>\n",
       "      <th>B</th>\n",
       "      <th>C</th>\n",
       "    </tr>\n",
       "  </thead>\n",
       "  <tbody>\n",
       "    <tr>\n",
       "      <th>0</th>\n",
       "      <td>1.0</td>\n",
       "      <td>5.0</td>\n",
       "      <td>1</td>\n",
       "    </tr>\n",
       "    <tr>\n",
       "      <th>1</th>\n",
       "      <td>2.0</td>\n",
       "      <td>NaN</td>\n",
       "      <td>2</td>\n",
       "    </tr>\n",
       "    <tr>\n",
       "      <th>2</th>\n",
       "      <td>NaN</td>\n",
       "      <td>NaN</td>\n",
       "      <td>3</td>\n",
       "    </tr>\n",
       "  </tbody>\n",
       "</table>\n",
       "</div>"
      ],
      "text/plain": [
       "     A    B  C\n",
       "0  1.0  5.0  1\n",
       "1  2.0  NaN  2\n",
       "2  NaN  NaN  3"
      ]
     },
     "metadata": {},
     "output_type": "display_data"
    },
    {
     "data": {
      "text/html": [
       "<div>\n",
       "<style scoped>\n",
       "    .dataframe tbody tr th:only-of-type {\n",
       "        vertical-align: middle;\n",
       "    }\n",
       "\n",
       "    .dataframe tbody tr th {\n",
       "        vertical-align: top;\n",
       "    }\n",
       "\n",
       "    .dataframe thead th {\n",
       "        text-align: right;\n",
       "    }\n",
       "</style>\n",
       "<table border=\"1\" class=\"dataframe\">\n",
       "  <thead>\n",
       "    <tr style=\"text-align: right;\">\n",
       "      <th></th>\n",
       "      <th>A</th>\n",
       "      <th>B</th>\n",
       "      <th>C</th>\n",
       "    </tr>\n",
       "  </thead>\n",
       "  <tbody>\n",
       "    <tr>\n",
       "      <th>0</th>\n",
       "      <td>1.0</td>\n",
       "      <td>5.0</td>\n",
       "      <td>1</td>\n",
       "    </tr>\n",
       "    <tr>\n",
       "      <th>1</th>\n",
       "      <td>2.0</td>\n",
       "      <td>5.0</td>\n",
       "      <td>2</td>\n",
       "    </tr>\n",
       "    <tr>\n",
       "      <th>2</th>\n",
       "      <td>1.5</td>\n",
       "      <td>5.0</td>\n",
       "      <td>3</td>\n",
       "    </tr>\n",
       "  </tbody>\n",
       "</table>\n",
       "</div>"
      ],
      "text/plain": [
       "     A    B  C\n",
       "0  1.0  5.0  1\n",
       "1  2.0  5.0  2\n",
       "2  1.5  5.0  3"
      ]
     },
     "metadata": {},
     "output_type": "display_data"
    }
   ],
   "source": [
    "d = {\n",
    "    'A': [1,2,np.nan],\n",
    "    'B': [5,np.nan,np.nan],\n",
    "    'C': [1,2,3]\n",
    "    }\n",
    "df = pd.DataFrame(d)\n",
    "display(df)\n",
    "def mean_test(x):\n",
    "    return x.mean()\n",
    "df.fillna(value= df.apply(mean_test), inplace=True)\n",
    "display(df)"
   ]
  },
  {
   "cell_type": "code",
   "execution_count": null,
   "metadata": {},
   "outputs": [
    {
     "data": {
      "text/html": [
       "<div>\n",
       "<style scoped>\n",
       "    .dataframe tbody tr th:only-of-type {\n",
       "        vertical-align: middle;\n",
       "    }\n",
       "\n",
       "    .dataframe tbody tr th {\n",
       "        vertical-align: top;\n",
       "    }\n",
       "\n",
       "    .dataframe thead th {\n",
       "        text-align: right;\n",
       "    }\n",
       "</style>\n",
       "<table border=\"1\" class=\"dataframe\">\n",
       "  <thead>\n",
       "    <tr style=\"text-align: right;\">\n",
       "      <th></th>\n",
       "      <th>A</th>\n",
       "      <th>B</th>\n",
       "      <th>C</th>\n",
       "      <th>D</th>\n",
       "      <th>E</th>\n",
       "    </tr>\n",
       "  </thead>\n",
       "  <tbody>\n",
       "    <tr>\n",
       "      <th>0</th>\n",
       "      <td>A0</td>\n",
       "      <td>B0</td>\n",
       "      <td>C0</td>\n",
       "      <td>D0</td>\n",
       "      <td>NaN</td>\n",
       "    </tr>\n",
       "    <tr>\n",
       "      <th>1</th>\n",
       "      <td>A1</td>\n",
       "      <td>B1</td>\n",
       "      <td>C1</td>\n",
       "      <td>D1</td>\n",
       "      <td>NaN</td>\n",
       "    </tr>\n",
       "    <tr>\n",
       "      <th>2</th>\n",
       "      <td>A2</td>\n",
       "      <td>B2</td>\n",
       "      <td>C2</td>\n",
       "      <td>D2</td>\n",
       "      <td>NaN</td>\n",
       "    </tr>\n",
       "    <tr>\n",
       "      <th>3</th>\n",
       "      <td>A3</td>\n",
       "      <td>B3</td>\n",
       "      <td>C3</td>\n",
       "      <td>D3</td>\n",
       "      <td>NaN</td>\n",
       "    </tr>\n",
       "    <tr>\n",
       "      <th>4</th>\n",
       "      <td>A4</td>\n",
       "      <td>B4</td>\n",
       "      <td>C4</td>\n",
       "      <td>NaN</td>\n",
       "      <td>D4</td>\n",
       "    </tr>\n",
       "    <tr>\n",
       "      <th>5</th>\n",
       "      <td>A5</td>\n",
       "      <td>B5</td>\n",
       "      <td>C5</td>\n",
       "      <td>NaN</td>\n",
       "      <td>D5</td>\n",
       "    </tr>\n",
       "    <tr>\n",
       "      <th>6</th>\n",
       "      <td>A6</td>\n",
       "      <td>B6</td>\n",
       "      <td>C6</td>\n",
       "      <td>NaN</td>\n",
       "      <td>D6</td>\n",
       "    </tr>\n",
       "    <tr>\n",
       "      <th>7</th>\n",
       "      <td>A7</td>\n",
       "      <td>B7</td>\n",
       "      <td>C7</td>\n",
       "      <td>NaN</td>\n",
       "      <td>D7</td>\n",
       "    </tr>\n",
       "    <tr>\n",
       "      <th>4</th>\n",
       "      <td>A8</td>\n",
       "      <td>B8</td>\n",
       "      <td>C8</td>\n",
       "      <td>NaN</td>\n",
       "      <td>D8</td>\n",
       "    </tr>\n",
       "    <tr>\n",
       "      <th>5</th>\n",
       "      <td>A9</td>\n",
       "      <td>B9</td>\n",
       "      <td>C9</td>\n",
       "      <td>NaN</td>\n",
       "      <td>D9</td>\n",
       "    </tr>\n",
       "    <tr>\n",
       "      <th>6</th>\n",
       "      <td>A10</td>\n",
       "      <td>B10</td>\n",
       "      <td>C10</td>\n",
       "      <td>NaN</td>\n",
       "      <td>D10</td>\n",
       "    </tr>\n",
       "    <tr>\n",
       "      <th>7</th>\n",
       "      <td>A11</td>\n",
       "      <td>B11</td>\n",
       "      <td>C11</td>\n",
       "      <td>NaN</td>\n",
       "      <td>D11</td>\n",
       "    </tr>\n",
       "  </tbody>\n",
       "</table>\n",
       "</div>"
      ],
      "text/plain": [
       "     A    B    C    D    E\n",
       "0   A0   B0   C0   D0  NaN\n",
       "1   A1   B1   C1   D1  NaN\n",
       "2   A2   B2   C2   D2  NaN\n",
       "3   A3   B3   C3   D3  NaN\n",
       "4   A4   B4   C4  NaN   D4\n",
       "5   A5   B5   C5  NaN   D5\n",
       "6   A6   B6   C6  NaN   D6\n",
       "7   A7   B7   C7  NaN   D7\n",
       "4   A8   B8   C8  NaN   D8\n",
       "5   A9   B9   C9  NaN   D9\n",
       "6  A10  B10  C10  NaN  D10\n",
       "7  A11  B11  C11  NaN  D11"
      ]
     },
     "execution_count": 571,
     "metadata": {},
     "output_type": "execute_result"
    }
   ],
   "source": [
    "df1 = pd.DataFrame({    'A': ['A0', 'A1', 'A2', 'A3'],\n",
    "                        'B': ['B0', 'B1', 'B2', 'B3'],\n",
    "                        'C': ['C0', 'C1', 'C2', 'C3'],\n",
    "                        'D': ['D0', 'D1', 'D2', 'D3']},\n",
    "                        index=[0, 1, 2, 3])\n",
    "df2 = pd.DataFrame({    'A': ['A4', 'A5', 'A6', 'A7'],\n",
    "                        'B': ['B4', 'B5', 'B6', 'B7'],\n",
    "                        'C': ['C4', 'C5', 'C6', 'C7'],\n",
    "                        'E': ['D4', 'D5', 'D6', 'D7']},\n",
    "                        index=[4, 5, 6, 7])\n",
    "df3 = pd.DataFrame({    'A': ['A8', 'A9', 'A10', 'A11'],\n",
    "                        'B': ['B8', 'B9', 'B10', 'B11'],\n",
    "                        'C': ['C8', 'C9', 'C10', 'C11'],\n",
    "                        'E': ['D8', 'D9', 'D10', 'D11']},\n",
    "                        index=[4, 5, 6, 7])\n",
    "\n",
    "# concat จะเป็นการต่อตาราง โดยจะต่อตารางที่มี index เดียวกัน\n",
    "pd2 = pd.concat([df1, df2, df3], axis=0)\n",
    "pd2\n"
   ]
  },
  {
   "cell_type": "code",
   "execution_count": null,
   "metadata": {},
   "outputs": [
    {
     "data": {
      "text/html": [
       "<div>\n",
       "<style scoped>\n",
       "    .dataframe tbody tr th:only-of-type {\n",
       "        vertical-align: middle;\n",
       "    }\n",
       "\n",
       "    .dataframe tbody tr th {\n",
       "        vertical-align: top;\n",
       "    }\n",
       "\n",
       "    .dataframe thead th {\n",
       "        text-align: right;\n",
       "    }\n",
       "</style>\n",
       "<table border=\"1\" class=\"dataframe\">\n",
       "  <thead>\n",
       "    <tr style=\"text-align: right;\">\n",
       "      <th></th>\n",
       "      <th>A</th>\n",
       "      <th>B</th>\n",
       "      <th>C</th>\n",
       "      <th>D</th>\n",
       "      <th>A</th>\n",
       "      <th>B</th>\n",
       "      <th>C</th>\n",
       "      <th>E</th>\n",
       "      <th>A</th>\n",
       "      <th>B</th>\n",
       "      <th>C</th>\n",
       "      <th>E</th>\n",
       "    </tr>\n",
       "  </thead>\n",
       "  <tbody>\n",
       "    <tr>\n",
       "      <th>0</th>\n",
       "      <td>A0</td>\n",
       "      <td>B0</td>\n",
       "      <td>C0</td>\n",
       "      <td>D0</td>\n",
       "      <td>NaN</td>\n",
       "      <td>NaN</td>\n",
       "      <td>NaN</td>\n",
       "      <td>NaN</td>\n",
       "      <td>NaN</td>\n",
       "      <td>NaN</td>\n",
       "      <td>NaN</td>\n",
       "      <td>NaN</td>\n",
       "    </tr>\n",
       "    <tr>\n",
       "      <th>1</th>\n",
       "      <td>A1</td>\n",
       "      <td>B1</td>\n",
       "      <td>C1</td>\n",
       "      <td>D1</td>\n",
       "      <td>NaN</td>\n",
       "      <td>NaN</td>\n",
       "      <td>NaN</td>\n",
       "      <td>NaN</td>\n",
       "      <td>NaN</td>\n",
       "      <td>NaN</td>\n",
       "      <td>NaN</td>\n",
       "      <td>NaN</td>\n",
       "    </tr>\n",
       "    <tr>\n",
       "      <th>2</th>\n",
       "      <td>A2</td>\n",
       "      <td>B2</td>\n",
       "      <td>C2</td>\n",
       "      <td>D2</td>\n",
       "      <td>NaN</td>\n",
       "      <td>NaN</td>\n",
       "      <td>NaN</td>\n",
       "      <td>NaN</td>\n",
       "      <td>NaN</td>\n",
       "      <td>NaN</td>\n",
       "      <td>NaN</td>\n",
       "      <td>NaN</td>\n",
       "    </tr>\n",
       "    <tr>\n",
       "      <th>3</th>\n",
       "      <td>A3</td>\n",
       "      <td>B3</td>\n",
       "      <td>C3</td>\n",
       "      <td>D3</td>\n",
       "      <td>NaN</td>\n",
       "      <td>NaN</td>\n",
       "      <td>NaN</td>\n",
       "      <td>NaN</td>\n",
       "      <td>NaN</td>\n",
       "      <td>NaN</td>\n",
       "      <td>NaN</td>\n",
       "      <td>NaN</td>\n",
       "    </tr>\n",
       "    <tr>\n",
       "      <th>4</th>\n",
       "      <td>NaN</td>\n",
       "      <td>NaN</td>\n",
       "      <td>NaN</td>\n",
       "      <td>NaN</td>\n",
       "      <td>A4</td>\n",
       "      <td>B4</td>\n",
       "      <td>C4</td>\n",
       "      <td>D4</td>\n",
       "      <td>A8</td>\n",
       "      <td>B8</td>\n",
       "      <td>C8</td>\n",
       "      <td>D8</td>\n",
       "    </tr>\n",
       "    <tr>\n",
       "      <th>5</th>\n",
       "      <td>NaN</td>\n",
       "      <td>NaN</td>\n",
       "      <td>NaN</td>\n",
       "      <td>NaN</td>\n",
       "      <td>A5</td>\n",
       "      <td>B5</td>\n",
       "      <td>C5</td>\n",
       "      <td>D5</td>\n",
       "      <td>A9</td>\n",
       "      <td>B9</td>\n",
       "      <td>C9</td>\n",
       "      <td>D9</td>\n",
       "    </tr>\n",
       "    <tr>\n",
       "      <th>6</th>\n",
       "      <td>NaN</td>\n",
       "      <td>NaN</td>\n",
       "      <td>NaN</td>\n",
       "      <td>NaN</td>\n",
       "      <td>A6</td>\n",
       "      <td>B6</td>\n",
       "      <td>C6</td>\n",
       "      <td>D6</td>\n",
       "      <td>A10</td>\n",
       "      <td>B10</td>\n",
       "      <td>C10</td>\n",
       "      <td>D10</td>\n",
       "    </tr>\n",
       "    <tr>\n",
       "      <th>7</th>\n",
       "      <td>NaN</td>\n",
       "      <td>NaN</td>\n",
       "      <td>NaN</td>\n",
       "      <td>NaN</td>\n",
       "      <td>A7</td>\n",
       "      <td>B7</td>\n",
       "      <td>C7</td>\n",
       "      <td>D7</td>\n",
       "      <td>A11</td>\n",
       "      <td>B11</td>\n",
       "      <td>C11</td>\n",
       "      <td>D11</td>\n",
       "    </tr>\n",
       "  </tbody>\n",
       "</table>\n",
       "</div>"
      ],
      "text/plain": [
       "     A    B    C    D    A    B    C    E    A    B    C    E\n",
       "0   A0   B0   C0   D0  NaN  NaN  NaN  NaN  NaN  NaN  NaN  NaN\n",
       "1   A1   B1   C1   D1  NaN  NaN  NaN  NaN  NaN  NaN  NaN  NaN\n",
       "2   A2   B2   C2   D2  NaN  NaN  NaN  NaN  NaN  NaN  NaN  NaN\n",
       "3   A3   B3   C3   D3  NaN  NaN  NaN  NaN  NaN  NaN  NaN  NaN\n",
       "4  NaN  NaN  NaN  NaN   A4   B4   C4   D4   A8   B8   C8   D8\n",
       "5  NaN  NaN  NaN  NaN   A5   B5   C5   D5   A9   B9   C9   D9\n",
       "6  NaN  NaN  NaN  NaN   A6   B6   C6   D6  A10  B10  C10  D10\n",
       "7  NaN  NaN  NaN  NaN   A7   B7   C7   D7  A11  B11  C11  D11"
      ]
     },
     "execution_count": 573,
     "metadata": {},
     "output_type": "execute_result"
    }
   ],
   "source": [
    "pfall = pd.concat([df1, df2, df3], axis=1)\n",
    "pfall"
   ]
  },
  {
   "cell_type": "code",
   "execution_count": null,
   "metadata": {},
   "outputs": [
    {
     "name": "stderr",
     "output_type": "stream",
     "text": [
      "C:\\Users\\puemm\\AppData\\Local\\Temp\\ipykernel_19420\\1348370778.py:1: FutureWarning: reindexing with a non-unique Index is deprecated and will raise in a future version.\n",
      "  pfall[\n"
     ]
    },
    {
     "ename": "ValueError",
     "evalue": "cannot reindex on an axis with duplicate labels",
     "output_type": "error",
     "traceback": [
      "\u001b[1;31m---------------------------------------------------------------------------\u001b[0m",
      "\u001b[1;31mValueError\u001b[0m                                Traceback (most recent call last)",
      "Cell \u001b[1;32mIn[575], line 1\u001b[0m\n\u001b[1;32m----> 1\u001b[0m pfall[\n\u001b[0;32m      2\u001b[0m     (pfall[\u001b[39m'\u001b[39;49m\u001b[39mA\u001b[39;49m\u001b[39m'\u001b[39;49m] \u001b[39m==\u001b[39;49m \u001b[39m'\u001b[39;49m\u001b[39mA0\u001b[39;49m\u001b[39m'\u001b[39;49m) \u001b[39m&\u001b[39;49m (pfall[\u001b[39m'\u001b[39;49m\u001b[39mB\u001b[39;49m\u001b[39m'\u001b[39;49m] \u001b[39m==\u001b[39;49m \u001b[39m'\u001b[39;49m\u001b[39mB0\u001b[39;49m\u001b[39m'\u001b[39;49m)\n\u001b[0;32m      3\u001b[0m ]\n",
      "File \u001b[1;32m~\\AppData\\Roaming\\Python\\Python311\\site-packages\\pandas\\core\\frame.py:3792\u001b[0m, in \u001b[0;36mDataFrame.__getitem__\u001b[1;34m(self, key)\u001b[0m\n\u001b[0;32m   3790\u001b[0m \u001b[39m# Do we have a (boolean) DataFrame?\u001b[39;00m\n\u001b[0;32m   3791\u001b[0m \u001b[39mif\u001b[39;00m \u001b[39misinstance\u001b[39m(key, DataFrame):\n\u001b[1;32m-> 3792\u001b[0m     \u001b[39mreturn\u001b[39;00m \u001b[39mself\u001b[39;49m\u001b[39m.\u001b[39;49mwhere(key)\n\u001b[0;32m   3794\u001b[0m \u001b[39m# Do we have a (boolean) 1d indexer?\u001b[39;00m\n\u001b[0;32m   3795\u001b[0m \u001b[39mif\u001b[39;00m com\u001b[39m.\u001b[39mis_bool_indexer(key):\n",
      "File \u001b[1;32m~\\AppData\\Roaming\\Python\\Python311\\site-packages\\pandas\\util\\_decorators.py:211\u001b[0m, in \u001b[0;36mdeprecate_kwarg.<locals>._deprecate_kwarg.<locals>.wrapper\u001b[1;34m(*args, **kwargs)\u001b[0m\n\u001b[0;32m    209\u001b[0m     \u001b[39melse\u001b[39;00m:\n\u001b[0;32m    210\u001b[0m         kwargs[new_arg_name] \u001b[39m=\u001b[39m new_arg_value\n\u001b[1;32m--> 211\u001b[0m \u001b[39mreturn\u001b[39;00m func(\u001b[39m*\u001b[39;49margs, \u001b[39m*\u001b[39;49m\u001b[39m*\u001b[39;49mkwargs)\n",
      "File \u001b[1;32m~\\AppData\\Roaming\\Python\\Python311\\site-packages\\pandas\\util\\_decorators.py:331\u001b[0m, in \u001b[0;36mdeprecate_nonkeyword_arguments.<locals>.decorate.<locals>.wrapper\u001b[1;34m(*args, **kwargs)\u001b[0m\n\u001b[0;32m    325\u001b[0m \u001b[39mif\u001b[39;00m \u001b[39mlen\u001b[39m(args) \u001b[39m>\u001b[39m num_allow_args:\n\u001b[0;32m    326\u001b[0m     warnings\u001b[39m.\u001b[39mwarn(\n\u001b[0;32m    327\u001b[0m         msg\u001b[39m.\u001b[39mformat(arguments\u001b[39m=\u001b[39m_format_argument_list(allow_args)),\n\u001b[0;32m    328\u001b[0m         \u001b[39mFutureWarning\u001b[39;00m,\n\u001b[0;32m    329\u001b[0m         stacklevel\u001b[39m=\u001b[39mfind_stack_level(),\n\u001b[0;32m    330\u001b[0m     )\n\u001b[1;32m--> 331\u001b[0m \u001b[39mreturn\u001b[39;00m func(\u001b[39m*\u001b[39;49margs, \u001b[39m*\u001b[39;49m\u001b[39m*\u001b[39;49mkwargs)\n",
      "File \u001b[1;32m~\\AppData\\Roaming\\Python\\Python311\\site-packages\\pandas\\core\\frame.py:11920\u001b[0m, in \u001b[0;36mDataFrame.where\u001b[1;34m(self, cond, other, inplace, axis, level, errors, try_cast)\u001b[0m\n\u001b[0;32m  11906\u001b[0m \u001b[39m@deprecate_kwarg\u001b[39m(old_arg_name\u001b[39m=\u001b[39m\u001b[39m\"\u001b[39m\u001b[39merrors\u001b[39m\u001b[39m\"\u001b[39m, new_arg_name\u001b[39m=\u001b[39m\u001b[39mNone\u001b[39;00m)\n\u001b[0;32m  11907\u001b[0m \u001b[39m@deprecate_nonkeyword_arguments\u001b[39m(\n\u001b[0;32m  11908\u001b[0m     version\u001b[39m=\u001b[39m\u001b[39mNone\u001b[39;00m, allowed_args\u001b[39m=\u001b[39m[\u001b[39m\"\u001b[39m\u001b[39mself\u001b[39m\u001b[39m\"\u001b[39m, \u001b[39m\"\u001b[39m\u001b[39mcond\u001b[39m\u001b[39m\"\u001b[39m, \u001b[39m\"\u001b[39m\u001b[39mother\u001b[39m\u001b[39m\"\u001b[39m]\n\u001b[1;32m   (...)\u001b[0m\n\u001b[0;32m  11918\u001b[0m     try_cast: \u001b[39mbool\u001b[39m \u001b[39m|\u001b[39m lib\u001b[39m.\u001b[39mNoDefault \u001b[39m=\u001b[39m lib\u001b[39m.\u001b[39mno_default,\n\u001b[0;32m  11919\u001b[0m ) \u001b[39m-\u001b[39m\u001b[39m>\u001b[39m DataFrame \u001b[39m|\u001b[39m \u001b[39mNone\u001b[39;00m:\n\u001b[1;32m> 11920\u001b[0m     \u001b[39mreturn\u001b[39;00m \u001b[39msuper\u001b[39;49m()\u001b[39m.\u001b[39;49mwhere(\n\u001b[0;32m  11921\u001b[0m         cond,\n\u001b[0;32m  11922\u001b[0m         other,\n\u001b[0;32m  11923\u001b[0m         inplace\u001b[39m=\u001b[39;49minplace,\n\u001b[0;32m  11924\u001b[0m         axis\u001b[39m=\u001b[39;49maxis,\n\u001b[0;32m  11925\u001b[0m         level\u001b[39m=\u001b[39;49mlevel,\n\u001b[0;32m  11926\u001b[0m         try_cast\u001b[39m=\u001b[39;49mtry_cast,\n\u001b[0;32m  11927\u001b[0m     )\n",
      "File \u001b[1;32m~\\AppData\\Roaming\\Python\\Python311\\site-packages\\pandas\\util\\_decorators.py:211\u001b[0m, in \u001b[0;36mdeprecate_kwarg.<locals>._deprecate_kwarg.<locals>.wrapper\u001b[1;34m(*args, **kwargs)\u001b[0m\n\u001b[0;32m    209\u001b[0m     \u001b[39melse\u001b[39;00m:\n\u001b[0;32m    210\u001b[0m         kwargs[new_arg_name] \u001b[39m=\u001b[39m new_arg_value\n\u001b[1;32m--> 211\u001b[0m \u001b[39mreturn\u001b[39;00m func(\u001b[39m*\u001b[39;49margs, \u001b[39m*\u001b[39;49m\u001b[39m*\u001b[39;49mkwargs)\n",
      "File \u001b[1;32m~\\AppData\\Roaming\\Python\\Python311\\site-packages\\pandas\\util\\_decorators.py:331\u001b[0m, in \u001b[0;36mdeprecate_nonkeyword_arguments.<locals>.decorate.<locals>.wrapper\u001b[1;34m(*args, **kwargs)\u001b[0m\n\u001b[0;32m    325\u001b[0m \u001b[39mif\u001b[39;00m \u001b[39mlen\u001b[39m(args) \u001b[39m>\u001b[39m num_allow_args:\n\u001b[0;32m    326\u001b[0m     warnings\u001b[39m.\u001b[39mwarn(\n\u001b[0;32m    327\u001b[0m         msg\u001b[39m.\u001b[39mformat(arguments\u001b[39m=\u001b[39m_format_argument_list(allow_args)),\n\u001b[0;32m    328\u001b[0m         \u001b[39mFutureWarning\u001b[39;00m,\n\u001b[0;32m    329\u001b[0m         stacklevel\u001b[39m=\u001b[39mfind_stack_level(),\n\u001b[0;32m    330\u001b[0m     )\n\u001b[1;32m--> 331\u001b[0m \u001b[39mreturn\u001b[39;00m func(\u001b[39m*\u001b[39;49margs, \u001b[39m*\u001b[39;49m\u001b[39m*\u001b[39;49mkwargs)\n",
      "File \u001b[1;32m~\\AppData\\Roaming\\Python\\Python311\\site-packages\\pandas\\core\\generic.py:9968\u001b[0m, in \u001b[0;36mNDFrame.where\u001b[1;34m(self, cond, other, inplace, axis, level, errors, try_cast)\u001b[0m\n\u001b[0;32m   9960\u001b[0m \u001b[39mif\u001b[39;00m try_cast \u001b[39mis\u001b[39;00m \u001b[39mnot\u001b[39;00m lib\u001b[39m.\u001b[39mno_default:\n\u001b[0;32m   9961\u001b[0m     warnings\u001b[39m.\u001b[39mwarn(\n\u001b[0;32m   9962\u001b[0m         \u001b[39m\"\u001b[39m\u001b[39mtry_cast keyword is deprecated and will be removed in a \u001b[39m\u001b[39m\"\u001b[39m\n\u001b[0;32m   9963\u001b[0m         \u001b[39m\"\u001b[39m\u001b[39mfuture version.\u001b[39m\u001b[39m\"\u001b[39m,\n\u001b[0;32m   9964\u001b[0m         \u001b[39mFutureWarning\u001b[39;00m,\n\u001b[0;32m   9965\u001b[0m         stacklevel\u001b[39m=\u001b[39mfind_stack_level(),\n\u001b[0;32m   9966\u001b[0m     )\n\u001b[1;32m-> 9968\u001b[0m \u001b[39mreturn\u001b[39;00m \u001b[39mself\u001b[39;49m\u001b[39m.\u001b[39;49m_where(cond, other, inplace, axis, level)\n",
      "File \u001b[1;32m~\\AppData\\Roaming\\Python\\Python311\\site-packages\\pandas\\core\\generic.py:9663\u001b[0m, in \u001b[0;36mNDFrame._where\u001b[1;34m(self, cond, other, inplace, axis, level)\u001b[0m\n\u001b[0;32m   9660\u001b[0m     cond \u001b[39m=\u001b[39m cond\u001b[39m.\u001b[39mastype(\u001b[39mbool\u001b[39m)\n\u001b[0;32m   9662\u001b[0m cond \u001b[39m=\u001b[39m \u001b[39m-\u001b[39mcond \u001b[39mif\u001b[39;00m inplace \u001b[39melse\u001b[39;00m cond\n\u001b[1;32m-> 9663\u001b[0m cond \u001b[39m=\u001b[39m cond\u001b[39m.\u001b[39;49mreindex(\u001b[39mself\u001b[39;49m\u001b[39m.\u001b[39;49m_info_axis, axis\u001b[39m=\u001b[39;49m\u001b[39mself\u001b[39;49m\u001b[39m.\u001b[39;49m_info_axis_number, copy\u001b[39m=\u001b[39;49m\u001b[39mFalse\u001b[39;49;00m)\n\u001b[0;32m   9665\u001b[0m \u001b[39m# try to align with other\u001b[39;00m\n\u001b[0;32m   9666\u001b[0m \u001b[39mif\u001b[39;00m \u001b[39misinstance\u001b[39m(other, NDFrame):\n\u001b[0;32m   9667\u001b[0m \n\u001b[0;32m   9668\u001b[0m     \u001b[39m# align with me\u001b[39;00m\n",
      "File \u001b[1;32m~\\AppData\\Roaming\\Python\\Python311\\site-packages\\pandas\\util\\_decorators.py:347\u001b[0m, in \u001b[0;36mrewrite_axis_style_signature.<locals>.decorate.<locals>.wrapper\u001b[1;34m(*args, **kwargs)\u001b[0m\n\u001b[0;32m    345\u001b[0m \u001b[39m@wraps\u001b[39m(func)\n\u001b[0;32m    346\u001b[0m \u001b[39mdef\u001b[39;00m \u001b[39mwrapper\u001b[39m(\u001b[39m*\u001b[39margs, \u001b[39m*\u001b[39m\u001b[39m*\u001b[39mkwargs) \u001b[39m-\u001b[39m\u001b[39m>\u001b[39m Callable[\u001b[39m.\u001b[39m\u001b[39m.\u001b[39m\u001b[39m.\u001b[39m, Any]:\n\u001b[1;32m--> 347\u001b[0m     \u001b[39mreturn\u001b[39;00m func(\u001b[39m*\u001b[39;49margs, \u001b[39m*\u001b[39;49m\u001b[39m*\u001b[39;49mkwargs)\n",
      "File \u001b[1;32m~\\AppData\\Roaming\\Python\\Python311\\site-packages\\pandas\\core\\frame.py:5202\u001b[0m, in \u001b[0;36mDataFrame.reindex\u001b[1;34m(self, *args, **kwargs)\u001b[0m\n\u001b[0;32m   5200\u001b[0m kwargs\u001b[39m.\u001b[39mpop(\u001b[39m\"\u001b[39m\u001b[39maxis\u001b[39m\u001b[39m\"\u001b[39m, \u001b[39mNone\u001b[39;00m)\n\u001b[0;32m   5201\u001b[0m kwargs\u001b[39m.\u001b[39mpop(\u001b[39m\"\u001b[39m\u001b[39mlabels\u001b[39m\u001b[39m\"\u001b[39m, \u001b[39mNone\u001b[39;00m)\n\u001b[1;32m-> 5202\u001b[0m \u001b[39mreturn\u001b[39;00m \u001b[39msuper\u001b[39;49m()\u001b[39m.\u001b[39;49mreindex(\u001b[39m*\u001b[39;49m\u001b[39m*\u001b[39;49mkwargs)\n",
      "File \u001b[1;32m~\\AppData\\Roaming\\Python\\Python311\\site-packages\\pandas\\core\\generic.py:5289\u001b[0m, in \u001b[0;36mNDFrame.reindex\u001b[1;34m(self, *args, **kwargs)\u001b[0m\n\u001b[0;32m   5286\u001b[0m     \u001b[39mreturn\u001b[39;00m \u001b[39mself\u001b[39m\u001b[39m.\u001b[39m_reindex_multi(axes, copy, fill_value)\n\u001b[0;32m   5288\u001b[0m \u001b[39m# perform the reindex on the axes\u001b[39;00m\n\u001b[1;32m-> 5289\u001b[0m \u001b[39mreturn\u001b[39;00m \u001b[39mself\u001b[39;49m\u001b[39m.\u001b[39;49m_reindex_axes(\n\u001b[0;32m   5290\u001b[0m     axes, level, limit, tolerance, method, fill_value, copy\n\u001b[0;32m   5291\u001b[0m )\u001b[39m.\u001b[39m__finalize__(\u001b[39mself\u001b[39m, method\u001b[39m=\u001b[39m\u001b[39m\"\u001b[39m\u001b[39mreindex\u001b[39m\u001b[39m\"\u001b[39m)\n",
      "File \u001b[1;32m~\\AppData\\Roaming\\Python\\Python311\\site-packages\\pandas\\core\\frame.py:4995\u001b[0m, in \u001b[0;36mDataFrame._reindex_axes\u001b[1;34m(self, axes, level, limit, tolerance, method, fill_value, copy)\u001b[0m\n\u001b[0;32m   4993\u001b[0m columns \u001b[39m=\u001b[39m axes[\u001b[39m\"\u001b[39m\u001b[39mcolumns\u001b[39m\u001b[39m\"\u001b[39m]\n\u001b[0;32m   4994\u001b[0m \u001b[39mif\u001b[39;00m columns \u001b[39mis\u001b[39;00m \u001b[39mnot\u001b[39;00m \u001b[39mNone\u001b[39;00m:\n\u001b[1;32m-> 4995\u001b[0m     frame \u001b[39m=\u001b[39m frame\u001b[39m.\u001b[39;49m_reindex_columns(\n\u001b[0;32m   4996\u001b[0m         columns, method, copy, level, fill_value, limit, tolerance\n\u001b[0;32m   4997\u001b[0m     )\n\u001b[0;32m   4999\u001b[0m index \u001b[39m=\u001b[39m axes[\u001b[39m\"\u001b[39m\u001b[39mindex\u001b[39m\u001b[39m\"\u001b[39m]\n\u001b[0;32m   5000\u001b[0m \u001b[39mif\u001b[39;00m index \u001b[39mis\u001b[39;00m \u001b[39mnot\u001b[39;00m \u001b[39mNone\u001b[39;00m:\n",
      "File \u001b[1;32m~\\AppData\\Roaming\\Python\\Python311\\site-packages\\pandas\\core\\frame.py:5040\u001b[0m, in \u001b[0;36mDataFrame._reindex_columns\u001b[1;34m(self, new_columns, method, copy, level, fill_value, limit, tolerance)\u001b[0m\n\u001b[0;32m   5027\u001b[0m \u001b[39mdef\u001b[39;00m \u001b[39m_reindex_columns\u001b[39m(\n\u001b[0;32m   5028\u001b[0m     \u001b[39mself\u001b[39m,\n\u001b[0;32m   5029\u001b[0m     new_columns,\n\u001b[1;32m   (...)\u001b[0m\n\u001b[0;32m   5035\u001b[0m     tolerance\u001b[39m=\u001b[39m\u001b[39mNone\u001b[39;00m,\n\u001b[0;32m   5036\u001b[0m ):\n\u001b[0;32m   5037\u001b[0m     new_columns, indexer \u001b[39m=\u001b[39m \u001b[39mself\u001b[39m\u001b[39m.\u001b[39mcolumns\u001b[39m.\u001b[39mreindex(\n\u001b[0;32m   5038\u001b[0m         new_columns, method\u001b[39m=\u001b[39mmethod, level\u001b[39m=\u001b[39mlevel, limit\u001b[39m=\u001b[39mlimit, tolerance\u001b[39m=\u001b[39mtolerance\n\u001b[0;32m   5039\u001b[0m     )\n\u001b[1;32m-> 5040\u001b[0m     \u001b[39mreturn\u001b[39;00m \u001b[39mself\u001b[39;49m\u001b[39m.\u001b[39;49m_reindex_with_indexers(\n\u001b[0;32m   5041\u001b[0m         {\u001b[39m1\u001b[39;49m: [new_columns, indexer]},\n\u001b[0;32m   5042\u001b[0m         copy\u001b[39m=\u001b[39;49mcopy,\n\u001b[0;32m   5043\u001b[0m         fill_value\u001b[39m=\u001b[39;49mfill_value,\n\u001b[0;32m   5044\u001b[0m         allow_dups\u001b[39m=\u001b[39;49m\u001b[39mFalse\u001b[39;49;00m,\n\u001b[0;32m   5045\u001b[0m     )\n",
      "File \u001b[1;32m~\\AppData\\Roaming\\Python\\Python311\\site-packages\\pandas\\core\\generic.py:5355\u001b[0m, in \u001b[0;36mNDFrame._reindex_with_indexers\u001b[1;34m(self, reindexers, fill_value, copy, allow_dups)\u001b[0m\n\u001b[0;32m   5352\u001b[0m     indexer \u001b[39m=\u001b[39m ensure_platform_int(indexer)\n\u001b[0;32m   5354\u001b[0m \u001b[39m# TODO: speed up on homogeneous DataFrame objects (see _reindex_multi)\u001b[39;00m\n\u001b[1;32m-> 5355\u001b[0m new_data \u001b[39m=\u001b[39m new_data\u001b[39m.\u001b[39;49mreindex_indexer(\n\u001b[0;32m   5356\u001b[0m     index,\n\u001b[0;32m   5357\u001b[0m     indexer,\n\u001b[0;32m   5358\u001b[0m     axis\u001b[39m=\u001b[39;49mbaxis,\n\u001b[0;32m   5359\u001b[0m     fill_value\u001b[39m=\u001b[39;49mfill_value,\n\u001b[0;32m   5360\u001b[0m     allow_dups\u001b[39m=\u001b[39;49mallow_dups,\n\u001b[0;32m   5361\u001b[0m     copy\u001b[39m=\u001b[39;49mcopy,\n\u001b[0;32m   5362\u001b[0m )\n\u001b[0;32m   5363\u001b[0m \u001b[39m# If we've made a copy once, no need to make another one\u001b[39;00m\n\u001b[0;32m   5364\u001b[0m copy \u001b[39m=\u001b[39m \u001b[39mFalse\u001b[39;00m\n",
      "File \u001b[1;32m~\\AppData\\Roaming\\Python\\Python311\\site-packages\\pandas\\core\\internals\\managers.py:739\u001b[0m, in \u001b[0;36mBaseBlockManager.reindex_indexer\u001b[1;34m(self, new_axis, indexer, axis, fill_value, allow_dups, copy, only_slice, use_na_proxy)\u001b[0m\n\u001b[0;32m    737\u001b[0m \u001b[39m# some axes don't allow reindexing with dups\u001b[39;00m\n\u001b[0;32m    738\u001b[0m \u001b[39mif\u001b[39;00m \u001b[39mnot\u001b[39;00m allow_dups:\n\u001b[1;32m--> 739\u001b[0m     \u001b[39mself\u001b[39;49m\u001b[39m.\u001b[39;49maxes[axis]\u001b[39m.\u001b[39;49m_validate_can_reindex(indexer)\n\u001b[0;32m    741\u001b[0m \u001b[39mif\u001b[39;00m axis \u001b[39m>\u001b[39m\u001b[39m=\u001b[39m \u001b[39mself\u001b[39m\u001b[39m.\u001b[39mndim:\n\u001b[0;32m    742\u001b[0m     \u001b[39mraise\u001b[39;00m \u001b[39mIndexError\u001b[39;00m(\u001b[39m\"\u001b[39m\u001b[39mRequested axis not found in manager\u001b[39m\u001b[39m\"\u001b[39m)\n",
      "File \u001b[1;32m~\\AppData\\Roaming\\Python\\Python311\\site-packages\\pandas\\core\\indexes\\base.py:4359\u001b[0m, in \u001b[0;36mIndex._validate_can_reindex\u001b[1;34m(self, indexer)\u001b[0m\n\u001b[0;32m   4357\u001b[0m \u001b[39m# trying to reindex on an axis with duplicates\u001b[39;00m\n\u001b[0;32m   4358\u001b[0m \u001b[39mif\u001b[39;00m \u001b[39mnot\u001b[39;00m \u001b[39mself\u001b[39m\u001b[39m.\u001b[39m_index_as_unique \u001b[39mand\u001b[39;00m \u001b[39mlen\u001b[39m(indexer):\n\u001b[1;32m-> 4359\u001b[0m     \u001b[39mraise\u001b[39;00m \u001b[39mValueError\u001b[39;00m(\u001b[39m\"\u001b[39m\u001b[39mcannot reindex on an axis with duplicate labels\u001b[39m\u001b[39m\"\u001b[39m)\n",
      "\u001b[1;31mValueError\u001b[0m: cannot reindex on an axis with duplicate labels"
     ]
    }
   ],
   "source": [
    "(pfall['A'] == 'A0') & (pfall['B'] == 'B0')"
   ]
  }
 ],
 "metadata": {
  "kernelspec": {
   "display_name": "Python 3",
   "language": "python",
   "name": "python3"
  },
  "language_info": {
   "codemirror_mode": {
    "name": "ipython",
    "version": 3
   },
   "file_extension": ".py",
   "mimetype": "text/x-python",
   "name": "python",
   "nbconvert_exporter": "python",
   "pygments_lexer": "ipython3",
   "version": "3.11.1 (tags/v3.11.1:a7a450f, Dec  6 2022, 19:58:39) [MSC v.1934 64 bit (AMD64)]"
  },
  "vscode": {
   "interpreter": {
    "hash": "5238573367df39f7286bb46f9ff5f08f63a01a80960060ce41e3c79b190280fa"
   }
  }
 },
 "nbformat": 4,
 "nbformat_minor": 2
}
