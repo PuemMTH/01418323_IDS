{
 "cells": [
  {
   "attachments": {},
   "cell_type": "markdown",
   "metadata": {},
   "source": [
    "@PuemMTH"
   ]
  },
  {
   "cell_type": "code",
   "execution_count": 11,
   "metadata": {},
   "outputs": [],
   "source": [
    "# - List: () Tuple: ()\n",
    "# - Dict: {} Set: {}\n",
    "\n",
    "e = [1, 2, 3, 4, 5] # list\n",
    "f = (1, 2, 3, 3, 5) # tuple\n",
    "g = {\"name\": \"John\", \"age\": 30} # dictionary\n",
    "h = {1, 2, 3, 4, 5, 6} # set\n",
    "\n",
    "# Opertators\n",
    "# - Arithmetic: + - * / % ** //\n",
    "# - Assignment: = += -= *= /= %= **= //=\n",
    "# - Comparison: == != > < >= <=\n",
    "# - Logical: and or not\n",
    "# - Identity: is is not\n",
    "# - Membership: in not in\n",
    "# - Bitwise: & | ^ ~ << >>"
   ]
  },
  {
   "attachments": {},
   "cell_type": "markdown",
   "metadata": {},
   "source": [
    "$Numpy$"
   ]
  },
  {
   "cell_type": "code",
   "execution_count": 360,
   "metadata": {},
   "outputs": [
    {
     "data": {
      "text/plain": [
       "array([1, 2, 3, 4, 5])"
      ]
     },
     "metadata": {},
     "output_type": "display_data"
    },
    {
     "data": {
      "text/plain": [
       "array([[1, 1, 1, 1, 1],\n",
       "       [1, 1, 1, 1, 1],\n",
       "       [1, 1, 1, 1, 1],\n",
       "       [1, 1, 1, 1, 1],\n",
       "       [1, 1, 1, 1, 1]])"
      ]
     },
     "metadata": {},
     "output_type": "display_data"
    },
    {
     "data": {
      "text/plain": [
       "array([[0, 0, 0, 0, 0],\n",
       "       [0, 0, 0, 0, 0],\n",
       "       [0, 0, 0, 0, 0],\n",
       "       [0, 0, 0, 0, 0],\n",
       "       [0, 0, 0, 0, 0]])"
      ]
     },
     "metadata": {},
     "output_type": "display_data"
    },
    {
     "data": {
      "text/plain": [
       "array([[5, 5, 5, 5, 5],\n",
       "       [5, 5, 5, 5, 5],\n",
       "       [5, 5, 5, 5, 5],\n",
       "       [5, 5, 5, 5, 5],\n",
       "       [5, 5, 5, 5, 5]])"
      ]
     },
     "metadata": {},
     "output_type": "display_data"
    },
    {
     "data": {
      "text/plain": [
       "array([[1, 0, 0, 0, 0],\n",
       "       [0, 1, 0, 0, 0],\n",
       "       [0, 0, 1, 0, 0],\n",
       "       [0, 0, 0, 1, 0],\n",
       "       [0, 0, 0, 0, 1]])"
      ]
     },
     "metadata": {},
     "output_type": "display_data"
    },
    {
     "data": {
      "text/plain": [
       "array([[0., 1., 0.],\n",
       "       [0., 0., 1.],\n",
       "       [0., 0., 0.],\n",
       "       [0., 0., 0.]])"
      ]
     },
     "metadata": {},
     "output_type": "display_data"
    },
    {
     "data": {
      "text/plain": [
       "array([1, 3, 5, 7, 9])"
      ]
     },
     "metadata": {},
     "output_type": "display_data"
    },
    {
     "data": {
      "text/plain": [
       "array([ 1.  ,  3.25,  5.5 ,  7.75, 10.  ])"
      ]
     },
     "metadata": {},
     "output_type": "display_data"
    },
    {
     "data": {
      "text/plain": [
       "array([[1, 2, 3],\n",
       "       [4, 5, 6],\n",
       "       [7, 8, 9]])"
      ]
     },
     "metadata": {},
     "output_type": "display_data"
    },
    {
     "data": {
      "text/plain": [
       "array([1, 2, 3, 4, 5, 6, 7, 8, 9])"
      ]
     },
     "metadata": {},
     "output_type": "display_data"
    }
   ],
   "source": [
    "import numpy as np\n",
    "\n",
    "# List to nbarray\n",
    "a = np.array([1, 2, 3, 4, 5])\n",
    "\n",
    "# Ones คือ สร้าง array ขนาด 5x5 ที่เต็มด้วย 1 \n",
    "b = np.ones((5, 5) ,dtype=int)\n",
    "\n",
    "# Zeros คือ สร้าง array ขนาด 5x5 ที่เต็มด้วย 0\n",
    "c = np.zeros((5, 5) ,dtype=int)\n",
    "\n",
    "# Full คือ สร้าง array ขนาด 5x5 ที่เต็มด้วย จำนวนที่กำหนด\n",
    "d = np.full((5, 5), 5, dtype=int)\n",
    "\n",
    "# Eye คือ สร้าง array ขนาด 5x5 ที่เต็มด้วย 0 และ 1 ตามเส้นทแยงมุม\n",
    "e = np.eye(5, dtype=int)\n",
    "# array([[0., 1., 0.],\n",
    "#        [0., 0., 1.],\n",
    "#        [0., 0., 0.],\n",
    "#        [0., 0., 0.]])\n",
    "e_1 = np.eye(4, 3, 1)\n",
    "\n",
    "# Arange คือ สร้าง array ที่เริ่มต้นที่ 1 จบที่ 10 และข้ามทีละ 2\n",
    "g = np.arange(1, 10, 2)\n",
    "\n",
    "# Linspace คือ สร้าง array ที่เริ่มต้นที่ 1 จบที่ 10 และมีจำนวน 5 ตัว\n",
    "h = np.linspace(1, 10, 5)\n",
    "\n",
    "# Reshape คือ แปลงจาก x,y ให้เป็น y,x ตามที่กำหนด\n",
    "# เช่น จาก 1,9 ให้เป็น 3,3 แต่ต้องมีจำนวนเท่ากัน\n",
    "# [1 2 3 4 5 6 7 8 9]\n",
    "# [[1 2 3]\n",
    "#  [4 5 6]\n",
    "#  [7 8 9]]\n",
    "i = np.arange(1, 10).reshape(3, 3)\n",
    "\n",
    "# Flatten คือ แปลงจาก y,x ให้เป็น x,y ตามที่กำหนด\n",
    "# เช่น จาก 3,3 ให้เป็น 1,9\n",
    "# [[1 2 3]\n",
    "#  [4 5 6]\n",
    "#  [7 8 9]]\n",
    "# [1 2 3 4 5 6 7 8 9]\n",
    "j = np.arange(1, 10).reshape(3, 3).flatten()\n",
    "\n",
    "display(a, b, c, d, e, e_1, g, h, i, j)"
   ]
  },
  {
   "cell_type": "code",
   "execution_count": 142,
   "metadata": {},
   "outputs": [],
   "source": [
    "from numpy import random\n",
    "\n",
    "# Random คือ สร้าง array ขนาด 5x5 ที่เต็มด้วย จำนวนสุ่ม\n",
    "# Parameter 1 คือ จำนวนต่ำสุด 2 คือ จำนวนสูงสุด 3 คือ ขนาดของ array\n",
    "a = random.randint(1, 10, size=(5, 5)).flatten()\n",
    "\n",
    "# สร้าง array ขนาด 5x5 ที่เต็มด้วย จำนวนสุ่ม จาก list ที่กำหนด\n",
    "b = random.choice([1, 2, 3, 4, 5], size=(5, 5))\n",
    "\n",
    "# สร้าง array ขนาด 5x5 ที่เต็มด้วย จำนวนสุ่ม จาก list ที่กำหนด โดยไม่ซ้ำกัน\n",
    "rds = [1, 2, 3, 4, 5, 6, 7, 8, 9, 10, 11, 12, 13, 14, 15]\n",
    "c = random.choice(rds, size=(3, 3), replace=False)\n",
    "\n",
    "last = [ 1, 2, 3, 4, 5, 6, 7, 8, 9, 10 ]\n",
    "a = np.random.choice(last , p=[0.1, 0.1, 0.1, 0.1, 0.1, 0.1, 0.1, 0.05,0.05, 0.2], size=(4, 5))\n",
    "print(a)\n"
   ]
  },
  {
   "cell_type": "code",
   "execution_count": 210,
   "metadata": {},
   "outputs": [
    {
     "data": {
      "text/plain": [
       "array([2, 4, 6, 8, 1, 9, 5, 7, 3])"
      ]
     },
     "metadata": {},
     "output_type": "display_data"
    },
    {
     "data": {
      "text/plain": [
       "array([1, 2, 3, 4, 5, 6, 7, 8, 9])"
      ]
     },
     "metadata": {},
     "output_type": "display_data"
    },
    {
     "data": {
      "text/plain": [
       "array([2, 1, 3, 6, 7, 5, 4, 9, 8])"
      ]
     },
     "metadata": {},
     "output_type": "display_data"
    },
    {
     "data": {
      "text/plain": [
       "array([3, 8, 6, 9, 1, 5, 2, 7, 4])"
      ]
     },
     "metadata": {},
     "output_type": "display_data"
    }
   ],
   "source": [
    "# Shuffle คือ สลับตำแหน่งของ array ที่กำหนด\n",
    "# จะเปลี่ยนค่าตัวแปรเดิม\n",
    "# [1....10] to [ random number in array ]\n",
    "d = np.arange(1, 10)\n",
    "random.shuffle(d)\n",
    "# d array([9, 6, 7, 8, 3, 4, 2, 5, 1])\n",
    "\n",
    "# Permutation คือ สลับตำแหน่งของ array ที่กำหนด\n",
    "# จะไม่เปลี่ยนค่าตัวแปรเดิม\n",
    "e = np.arange(1, 10)\n",
    "f = random.permutation(e)\n",
    "g = random.permutation(e)\n",
    "# e array([1, 2, 3, 4, 5, 6, 7, 8, 9])\n",
    "# f array([9, 4, 5, 8, 7, 6, 2, 1, 3])\n",
    "# g array([1, 5, 9, 3, 4, 6, 8, 2, 7])"
   ]
  },
  {
   "cell_type": "code",
   "execution_count": 235,
   "metadata": {},
   "outputs": [
    {
     "data": {
      "text/plain": [
       "array([[False,  True,  True,  True,  True],\n",
       "       [False, False,  True,  True,  True],\n",
       "       [ True, False, False,  True,  True],\n",
       "       [ True,  True, False, False,  True],\n",
       "       [ True,  True,  True, False, False]])"
      ]
     },
     "execution_count": 235,
     "metadata": {},
     "output_type": "execute_result"
    }
   ],
   "source": [
    "a1 = np.eye(5, 5, k=0, dtype=int)\n",
    "a2 = np.eye(5, 5, k=-1, dtype=int)\n",
    "# array([[False,  True,  True,  True,  True],\n",
    "#        [False, False,  True,  True,  True],\n",
    "#        [ True, False, False,  True,  True],\n",
    "#        [ True,  True, False, False,  True],\n",
    "#        [ True,  True,  True, False, False]])\n",
    "a1 == a2"
   ]
  },
  {
   "attachments": {},
   "cell_type": "markdown",
   "metadata": {},
   "source": [
    "$Pandas$"
   ]
  },
  {
   "cell_type": "code",
   "execution_count": 237,
   "metadata": {},
   "outputs": [],
   "source": [
    "import pandas as pd\n",
    "import numpy as np"
   ]
  },
  {
   "attachments": {},
   "cell_type": "markdown",
   "metadata": {},
   "source": [
    "Series and DataFrames"
   ]
  },
  {
   "cell_type": "code",
   "execution_count": 261,
   "metadata": {},
   "outputs": [
    {
     "data": {
      "text/html": [
       "<div>\n",
       "<style scoped>\n",
       "    .dataframe tbody tr th:only-of-type {\n",
       "        vertical-align: middle;\n",
       "    }\n",
       "\n",
       "    .dataframe tbody tr th {\n",
       "        vertical-align: top;\n",
       "    }\n",
       "\n",
       "    .dataframe thead th {\n",
       "        text-align: right;\n",
       "    }\n",
       "</style>\n",
       "<table border=\"1\" class=\"dataframe\">\n",
       "  <thead>\n",
       "    <tr style=\"text-align: right;\">\n",
       "      <th></th>\n",
       "      <th>a</th>\n",
       "      <th>b</th>\n",
       "      <th>c</th>\n",
       "      <th>d</th>\n",
       "    </tr>\n",
       "  </thead>\n",
       "  <tbody>\n",
       "    <tr>\n",
       "      <th>e</th>\n",
       "      <td>46</td>\n",
       "      <td>13</td>\n",
       "      <td>43</td>\n",
       "      <td>39</td>\n",
       "    </tr>\n",
       "    <tr>\n",
       "      <th>f</th>\n",
       "      <td>11</td>\n",
       "      <td>35</td>\n",
       "      <td>15</td>\n",
       "      <td>46</td>\n",
       "    </tr>\n",
       "    <tr>\n",
       "      <th>g</th>\n",
       "      <td>33</td>\n",
       "      <td>13</td>\n",
       "      <td>36</td>\n",
       "      <td>41</td>\n",
       "    </tr>\n",
       "    <tr>\n",
       "      <th>h</th>\n",
       "      <td>17</td>\n",
       "      <td>16</td>\n",
       "      <td>37</td>\n",
       "      <td>37</td>\n",
       "    </tr>\n",
       "    <tr>\n",
       "      <th>i</th>\n",
       "      <td>35</td>\n",
       "      <td>31</td>\n",
       "      <td>20</td>\n",
       "      <td>24</td>\n",
       "    </tr>\n",
       "  </tbody>\n",
       "</table>\n",
       "</div>"
      ],
      "text/plain": [
       "    a   b   c   d\n",
       "e  46  13  43  39\n",
       "f  11  35  15  46\n",
       "g  33  13  36  41\n",
       "h  17  16  37  37\n",
       "i  35  31  20  24"
      ]
     },
     "metadata": {},
     "output_type": "display_data"
    }
   ],
   "source": [
    "# สร้าง DataFrame จาก list\n",
    "# index คือ ชื่อ index ของแต่ละ row\n",
    "# columns คือ ชื่อ column ของแต่ละ column\n",
    "# Series คือ แปลง list ให้เป็น DataFrame\n",
    "s = pd.Series([5,20,30,35,60], index=['a','b','c','d','e'])\n",
    "\n",
    "# สร้าง DataFrame จาก array\n",
    "df = pd.DataFrame([5,20,30,35,60], columns=['data'])\n",
    "\n",
    "# DataFrame แบบกำหนด index และ column\n",
    "sf2 = pd.DataFrame(np.random.randint(10, 50, [5,4]), \n",
    "                            columns=list('abcd'), \n",
    "                            index=list('efghi'))"
   ]
  },
  {
   "attachments": {},
   "cell_type": "markdown",
   "metadata": {},
   "source": [
    "Accessing data"
   ]
  },
  {
   "cell_type": "code",
   "execution_count": 292,
   "metadata": {},
   "outputs": [
    {
     "data": {
      "text/html": [
       "<div>\n",
       "<style scoped>\n",
       "    .dataframe tbody tr th:only-of-type {\n",
       "        vertical-align: middle;\n",
       "    }\n",
       "\n",
       "    .dataframe tbody tr th {\n",
       "        vertical-align: top;\n",
       "    }\n",
       "\n",
       "    .dataframe thead th {\n",
       "        text-align: right;\n",
       "    }\n",
       "</style>\n",
       "<table border=\"1\" class=\"dataframe\">\n",
       "  <thead>\n",
       "    <tr style=\"text-align: right;\">\n",
       "      <th></th>\n",
       "      <th>a</th>\n",
       "      <th>b</th>\n",
       "      <th>c</th>\n",
       "      <th>d</th>\n",
       "    </tr>\n",
       "  </thead>\n",
       "  <tbody>\n",
       "    <tr>\n",
       "      <th>e</th>\n",
       "      <td>29</td>\n",
       "      <td>36</td>\n",
       "      <td>45</td>\n",
       "      <td>47</td>\n",
       "    </tr>\n",
       "    <tr>\n",
       "      <th>f</th>\n",
       "      <td>11</td>\n",
       "      <td>34</td>\n",
       "      <td>28</td>\n",
       "      <td>13</td>\n",
       "    </tr>\n",
       "    <tr>\n",
       "      <th>g</th>\n",
       "      <td>37</td>\n",
       "      <td>32</td>\n",
       "      <td>31</td>\n",
       "      <td>31</td>\n",
       "    </tr>\n",
       "    <tr>\n",
       "      <th>h</th>\n",
       "      <td>32</td>\n",
       "      <td>44</td>\n",
       "      <td>17</td>\n",
       "      <td>18</td>\n",
       "    </tr>\n",
       "    <tr>\n",
       "      <th>i</th>\n",
       "      <td>17</td>\n",
       "      <td>30</td>\n",
       "      <td>39</td>\n",
       "      <td>14</td>\n",
       "    </tr>\n",
       "  </tbody>\n",
       "</table>\n",
       "</div>"
      ],
      "text/plain": [
       "    a   b   c   d\n",
       "e  29  36  45  47\n",
       "f  11  34  28  13\n",
       "g  37  32  31  31\n",
       "h  32  44  17  18\n",
       "i  17  30  39  14"
      ]
     },
     "metadata": {},
     "output_type": "display_data"
    },
    {
     "data": {
      "text/html": [
       "<div>\n",
       "<style scoped>\n",
       "    .dataframe tbody tr th:only-of-type {\n",
       "        vertical-align: middle;\n",
       "    }\n",
       "\n",
       "    .dataframe tbody tr th {\n",
       "        vertical-align: top;\n",
       "    }\n",
       "\n",
       "    .dataframe thead th {\n",
       "        text-align: right;\n",
       "    }\n",
       "</style>\n",
       "<table border=\"1\" class=\"dataframe\">\n",
       "  <thead>\n",
       "    <tr style=\"text-align: right;\">\n",
       "      <th></th>\n",
       "      <th>a</th>\n",
       "      <th>b</th>\n",
       "      <th>c</th>\n",
       "      <th>d</th>\n",
       "    </tr>\n",
       "  </thead>\n",
       "  <tbody>\n",
       "    <tr>\n",
       "      <th>e</th>\n",
       "      <td>29</td>\n",
       "      <td>36</td>\n",
       "      <td>45</td>\n",
       "      <td>47</td>\n",
       "    </tr>\n",
       "    <tr>\n",
       "      <th>f</th>\n",
       "      <td>11</td>\n",
       "      <td>34</td>\n",
       "      <td>28</td>\n",
       "      <td>13</td>\n",
       "    </tr>\n",
       "  </tbody>\n",
       "</table>\n",
       "</div>"
      ],
      "text/plain": [
       "    a   b   c   d\n",
       "e  29  36  45  47\n",
       "f  11  34  28  13"
      ]
     },
     "metadata": {},
     "output_type": "display_data"
    },
    {
     "data": {
      "text/plain": [
       "29"
      ]
     },
     "metadata": {},
     "output_type": "display_data"
    },
    {
     "data": {
      "text/html": [
       "<div>\n",
       "<style scoped>\n",
       "    .dataframe tbody tr th:only-of-type {\n",
       "        vertical-align: middle;\n",
       "    }\n",
       "\n",
       "    .dataframe tbody tr th {\n",
       "        vertical-align: top;\n",
       "    }\n",
       "\n",
       "    .dataframe thead th {\n",
       "        text-align: right;\n",
       "    }\n",
       "</style>\n",
       "<table border=\"1\" class=\"dataframe\">\n",
       "  <thead>\n",
       "    <tr style=\"text-align: right;\">\n",
       "      <th></th>\n",
       "      <th>a</th>\n",
       "      <th>b</th>\n",
       "      <th>c</th>\n",
       "      <th>d</th>\n",
       "    </tr>\n",
       "  </thead>\n",
       "  <tbody>\n",
       "    <tr>\n",
       "      <th>e</th>\n",
       "      <td>29</td>\n",
       "      <td>36</td>\n",
       "      <td>45</td>\n",
       "      <td>47</td>\n",
       "    </tr>\n",
       "    <tr>\n",
       "      <th>f</th>\n",
       "      <td>11</td>\n",
       "      <td>34</td>\n",
       "      <td>28</td>\n",
       "      <td>13</td>\n",
       "    </tr>\n",
       "  </tbody>\n",
       "</table>\n",
       "</div>"
      ],
      "text/plain": [
       "    a   b   c   d\n",
       "e  29  36  45  47\n",
       "f  11  34  28  13"
      ]
     },
     "metadata": {},
     "output_type": "display_data"
    },
    {
     "data": {
      "text/plain": [
       "29"
      ]
     },
     "metadata": {},
     "output_type": "display_data"
    }
   ],
   "source": [
    "acc_data = pd.DataFrame(np.random.randint(10, 50, [5,4]), \n",
    "                            columns=list('abcd'), \n",
    "                            index=list('efghi'))\n",
    "\n",
    "# loc คือ ดึงข้อมูลจาก name row ที่กำหนด\n",
    "# iloc คือ ดึงข้อมูลจาก index ที่กำหนด\n",
    "\n",
    "display(acc_data)\n",
    "#   a\tb\tc\td\n",
    "# e\t26\t38\t29\t48\n",
    "# f\t26\t46\t40\t29\n",
    "# g\t28\t19\t18\t33\n",
    "# h\t28\t29\t31\t32\n",
    "# i\t36\t17\t17\t20\n",
    "\n",
    "# log ดึงข้อมูลจาก row ที่กำหนด สามารถทำแบบ [start, stop, step] ได้\n",
    "display(acc_data.loc['e': 'f'])\n",
    "#    a\tb\tc\td\n",
    "# e\t26\t38\t29\t48\n",
    "# f\t26\t46\t40\t29\n",
    "\n",
    "# log ดึงข้อมูลจาก row ที่กำหนด และ column ที่กำหนด\n",
    "display(acc_data.loc['e', 'a'])\n",
    "# 31\n",
    "\n",
    "# iloc ดึงข้อมูลจาก index ที่กำหนด สามารถทำแบบ [start, stop, step] ได้\n",
    "display(acc_data.iloc[0:2])\n",
    "\n",
    "#   a\tb\tc\td\n",
    "# e\t29\t36\t45\t47\n",
    "# f\t11\t34\t28\t13\n",
    "# iloc ดึงข้อมูลจาก index ที่กำหนด และ column ที่กำหนด\n",
    "display(acc_data.iloc[0, 0])\n",
    "# 29\n"
   ]
  },
  {
   "attachments": {},
   "cell_type": "markdown",
   "metadata": {},
   "source": [
    "Comparing data"
   ]
  },
  {
   "cell_type": "code",
   "execution_count": 358,
   "metadata": {},
   "outputs": [
    {
     "data": {
      "text/html": [
       "<div>\n",
       "<style scoped>\n",
       "    .dataframe tbody tr th:only-of-type {\n",
       "        vertical-align: middle;\n",
       "    }\n",
       "\n",
       "    .dataframe tbody tr th {\n",
       "        vertical-align: top;\n",
       "    }\n",
       "\n",
       "    .dataframe thead th {\n",
       "        text-align: right;\n",
       "    }\n",
       "</style>\n",
       "<table border=\"1\" class=\"dataframe\">\n",
       "  <thead>\n",
       "    <tr style=\"text-align: right;\">\n",
       "      <th></th>\n",
       "      <th>a</th>\n",
       "      <th>b</th>\n",
       "      <th>c</th>\n",
       "      <th>d</th>\n",
       "    </tr>\n",
       "  </thead>\n",
       "  <tbody>\n",
       "    <tr>\n",
       "      <th>e</th>\n",
       "      <td>NaN</td>\n",
       "      <td>37.0</td>\n",
       "      <td>36.0</td>\n",
       "      <td>NaN</td>\n",
       "    </tr>\n",
       "    <tr>\n",
       "      <th>f</th>\n",
       "      <td>NaN</td>\n",
       "      <td>NaN</td>\n",
       "      <td>37.0</td>\n",
       "      <td>NaN</td>\n",
       "    </tr>\n",
       "    <tr>\n",
       "      <th>g</th>\n",
       "      <td>NaN</td>\n",
       "      <td>NaN</td>\n",
       "      <td>NaN</td>\n",
       "      <td>NaN</td>\n",
       "    </tr>\n",
       "    <tr>\n",
       "      <th>h</th>\n",
       "      <td>NaN</td>\n",
       "      <td>NaN</td>\n",
       "      <td>39.0</td>\n",
       "      <td>36.0</td>\n",
       "    </tr>\n",
       "    <tr>\n",
       "      <th>i</th>\n",
       "      <td>NaN</td>\n",
       "      <td>NaN</td>\n",
       "      <td>NaN</td>\n",
       "      <td>NaN</td>\n",
       "    </tr>\n",
       "  </tbody>\n",
       "</table>\n",
       "</div>"
      ],
      "text/plain": [
       "    a     b     c     d\n",
       "e NaN  37.0  36.0   NaN\n",
       "f NaN   NaN  37.0   NaN\n",
       "g NaN   NaN   NaN   NaN\n",
       "h NaN   NaN  39.0  36.0\n",
       "i NaN   NaN   NaN   NaN"
      ]
     },
     "metadata": {},
     "output_type": "display_data"
    },
    {
     "data": {
      "text/plain": [
       "array([[37, 36],\n",
       "       [46, 37],\n",
       "       [15, 40],\n",
       "       [46, 39],\n",
       "       [19, 44]])"
      ]
     },
     "metadata": {},
     "output_type": "display_data"
    },
    {
     "data": {
      "text/html": [
       "<div>\n",
       "<style scoped>\n",
       "    .dataframe tbody tr th:only-of-type {\n",
       "        vertical-align: middle;\n",
       "    }\n",
       "\n",
       "    .dataframe tbody tr th {\n",
       "        vertical-align: top;\n",
       "    }\n",
       "\n",
       "    .dataframe thead th {\n",
       "        text-align: right;\n",
       "    }\n",
       "</style>\n",
       "<table border=\"1\" class=\"dataframe\">\n",
       "  <thead>\n",
       "    <tr style=\"text-align: right;\">\n",
       "      <th></th>\n",
       "      <th>b</th>\n",
       "      <th>c</th>\n",
       "    </tr>\n",
       "  </thead>\n",
       "  <tbody>\n",
       "    <tr>\n",
       "      <th>e</th>\n",
       "      <td>37</td>\n",
       "      <td>36</td>\n",
       "    </tr>\n",
       "    <tr>\n",
       "      <th>f</th>\n",
       "      <td>46</td>\n",
       "      <td>37</td>\n",
       "    </tr>\n",
       "    <tr>\n",
       "      <th>g</th>\n",
       "      <td>15</td>\n",
       "      <td>40</td>\n",
       "    </tr>\n",
       "    <tr>\n",
       "      <th>h</th>\n",
       "      <td>46</td>\n",
       "      <td>39</td>\n",
       "    </tr>\n",
       "    <tr>\n",
       "      <th>i</th>\n",
       "      <td>19</td>\n",
       "      <td>44</td>\n",
       "    </tr>\n",
       "  </tbody>\n",
       "</table>\n",
       "</div>"
      ],
      "text/plain": [
       "    b   c\n",
       "e  37  36\n",
       "f  46  37\n",
       "g  15  40\n",
       "h  46  39\n",
       "i  19  44"
      ]
     },
     "metadata": {},
     "output_type": "display_data"
    }
   ],
   "source": [
    "# Comparing data\n",
    "# สร้าง DataFrame จาก array\n",
    "\n",
    "se = np.array( [35,37,36,40,\n",
    "                31,46,37,45,\n",
    "                34,15,40,47,\n",
    "                13,46,39,36,\n",
    "                45,19,44,13]).reshape(5,4)\n",
    "df = pd.DataFrame(se, columns=list('abcd'), index=list('efghi'))\n",
    "\n",
    "# df[row_condition][column_condition]\n",
    "display(df[df > 35][df < 40])\n",
    "#       a     b   c     d\n",
    "# e   NaN  37.0  36  40.0\n",
    "# f   NaN  46.0  37  45.0\n",
    "# g   NaN   NaN  40  47.0\n",
    "# h   NaN  46.0  39  36.0\n",
    "# i  45.0   NaN  44   NaN\n",
    "\n",
    "# [start, stop, step]\n",
    "# ndarray\n",
    "display(se[:, 1:3])\n",
    "# [37, 46, 15, 46, 19], [36, 37, 40, 39, 44]\n",
    "\n",
    "# DataFrame\n",
    "display(df.iloc[:, 1:3])\n",
    "#   b\tc\n",
    "# e\t37\t36\n",
    "# f\t46\t37\n",
    "# g\t15\t40\n",
    "# h\t46\t39\n",
    "# i\t19\t44\n",
    "\n"
   ]
  },
  {
   "cell_type": "code",
   "execution_count": 359,
   "metadata": {},
   "outputs": [
    {
     "name": "stdout",
     "output_type": "stream",
     "text": [
      "  Company Person  Sales\n",
      "0     SCG      A    200\n",
      "1     SCG      B    300\n",
      "2     PTT      C    450\n",
      "3     PTT      D    100\n",
      "4     KTB      E    140\n",
      "5     KTB      F    350\n",
      "        Sales                                                      \n",
      "        count   mean         std    min    25%    50%    75%    max\n",
      "Company                                                            \n",
      "KTB       2.0  245.0  148.492424  140.0  192.5  245.0  297.5  350.0\n",
      "PTT       2.0  275.0  247.487373  100.0  187.5  275.0  362.5  450.0\n",
      "SCG       2.0  250.0   70.710678  200.0  225.0  250.0  275.0  300.0\n"
     ]
    }
   ],
   "source": [
    "data = {\n",
    "    'Company': ['SCG', 'SCG', 'PTT', 'PTT', 'KTB', 'KTB'],\n",
    "    'Person': list(\"ABCDEF\"),\n",
    "    'Sales': [200, 300, 450, 100, 140, 350]\n",
    "}\n",
    "df = pd.DataFrame(data)\n",
    "print(df)\n",
    "# df.sum()\n",
    "# df.groupby('Company').sum()\n",
    "# df.groupby('Company').mean()\n",
    "# print(df.groupby('Company').describe())"
   ]
  },
  {
   "cell_type": "code",
   "execution_count": 415,
   "metadata": {},
   "outputs": [
    {
     "data": {
      "text/html": [
       "<div>\n",
       "<style scoped>\n",
       "    .dataframe tbody tr th:only-of-type {\n",
       "        vertical-align: middle;\n",
       "    }\n",
       "\n",
       "    .dataframe tbody tr th {\n",
       "        vertical-align: top;\n",
       "    }\n",
       "\n",
       "    .dataframe thead th {\n",
       "        text-align: right;\n",
       "    }\n",
       "</style>\n",
       "<table border=\"1\" class=\"dataframe\">\n",
       "  <thead>\n",
       "    <tr style=\"text-align: right;\">\n",
       "      <th></th>\n",
       "      <th>Company</th>\n",
       "      <th>Sales (M)</th>\n",
       "      <th>+10</th>\n",
       "    </tr>\n",
       "  </thead>\n",
       "  <tbody>\n",
       "    <tr>\n",
       "      <th>0</th>\n",
       "      <td>PTT</td>\n",
       "      <td>100.0</td>\n",
       "      <td>110.0</td>\n",
       "    </tr>\n",
       "    <tr>\n",
       "      <th>1</th>\n",
       "      <td>SCG</td>\n",
       "      <td>200.0</td>\n",
       "      <td>210.0</td>\n",
       "    </tr>\n",
       "    <tr>\n",
       "      <th>2</th>\n",
       "      <td>SCG</td>\n",
       "      <td>300.0</td>\n",
       "      <td>310.0</td>\n",
       "    </tr>\n",
       "    <tr>\n",
       "      <th>3</th>\n",
       "      <td>KTB</td>\n",
       "      <td>350.0</td>\n",
       "      <td>360.0</td>\n",
       "    </tr>\n",
       "    <tr>\n",
       "      <th>4</th>\n",
       "      <td>PTT</td>\n",
       "      <td>380.0</td>\n",
       "      <td>380.0</td>\n",
       "    </tr>\n",
       "    <tr>\n",
       "      <th>5</th>\n",
       "      <td>SUM</td>\n",
       "      <td>950.0</td>\n",
       "      <td>990.0</td>\n",
       "    </tr>\n",
       "  </tbody>\n",
       "</table>\n",
       "</div>"
      ],
      "text/plain": [
       "  Company  Sales (M)    +10\n",
       "0     PTT      100.0  110.0\n",
       "1     SCG      200.0  210.0\n",
       "2     SCG      300.0  310.0\n",
       "3     KTB      350.0  360.0\n",
       "4     PTT      380.0  380.0\n",
       "5     SUM      950.0  990.0"
      ]
     },
     "metadata": {},
     "output_type": "display_data"
    },
    {
     "data": {
      "text/html": [
       "<div>\n",
       "<style scoped>\n",
       "    .dataframe tbody tr th:only-of-type {\n",
       "        vertical-align: middle;\n",
       "    }\n",
       "\n",
       "    .dataframe tbody tr th {\n",
       "        vertical-align: top;\n",
       "    }\n",
       "\n",
       "    .dataframe thead th {\n",
       "        text-align: right;\n",
       "    }\n",
       "</style>\n",
       "<table border=\"1\" class=\"dataframe\">\n",
       "  <thead>\n",
       "    <tr style=\"text-align: right;\">\n",
       "      <th></th>\n",
       "      <th>A</th>\n",
       "      <th>B</th>\n",
       "      <th>C</th>\n",
       "      <th>D</th>\n",
       "    </tr>\n",
       "  </thead>\n",
       "  <tbody>\n",
       "    <tr>\n",
       "      <th>0</th>\n",
       "      <td>A0</td>\n",
       "      <td>B0</td>\n",
       "      <td>C0</td>\n",
       "      <td>D0</td>\n",
       "    </tr>\n",
       "    <tr>\n",
       "      <th>1</th>\n",
       "      <td>A1</td>\n",
       "      <td>B1</td>\n",
       "      <td>C1</td>\n",
       "      <td>D1</td>\n",
       "    </tr>\n",
       "    <tr>\n",
       "      <th>2</th>\n",
       "      <td>A2</td>\n",
       "      <td>B2</td>\n",
       "      <td>C2</td>\n",
       "      <td>D2</td>\n",
       "    </tr>\n",
       "    <tr>\n",
       "      <th>3</th>\n",
       "      <td>A3</td>\n",
       "      <td>B3</td>\n",
       "      <td>C3</td>\n",
       "      <td>D3</td>\n",
       "    </tr>\n",
       "    <tr>\n",
       "      <th>4</th>\n",
       "      <td>A4</td>\n",
       "      <td>B4</td>\n",
       "      <td>C4</td>\n",
       "      <td>D4</td>\n",
       "    </tr>\n",
       "    <tr>\n",
       "      <th>5</th>\n",
       "      <td>A5</td>\n",
       "      <td>B5</td>\n",
       "      <td>C5</td>\n",
       "      <td>D5</td>\n",
       "    </tr>\n",
       "    <tr>\n",
       "      <th>6</th>\n",
       "      <td>A6</td>\n",
       "      <td>B6</td>\n",
       "      <td>C6</td>\n",
       "      <td>D6</td>\n",
       "    </tr>\n",
       "    <tr>\n",
       "      <th>7</th>\n",
       "      <td>A7</td>\n",
       "      <td>B7</td>\n",
       "      <td>C7</td>\n",
       "      <td>D7</td>\n",
       "    </tr>\n",
       "  </tbody>\n",
       "</table>\n",
       "</div>"
      ],
      "text/plain": [
       "    A   B   C   D\n",
       "0  A0  B0  C0  D0\n",
       "1  A1  B1  C1  D1\n",
       "2  A2  B2  C2  D2\n",
       "3  A3  B3  C3  D3\n",
       "4  A4  B4  C4  D4\n",
       "5  A5  B5  C5  D5\n",
       "6  A6  B6  C6  D6\n",
       "7  A7  B7  C7  D7"
      ]
     },
     "metadata": {},
     "output_type": "display_data"
    }
   ],
   "source": [
    "# drop axis=0 คือ drop row\n",
    "# drop axis=1 คือ drop column\n",
    "# inplace=True คือ ทำการเปลี่ยนแปลงตารางเดิม\n",
    "\n",
    "data = {\n",
    "    'Company': ['SCG', 'SCG', 'PTT', 'PTT', 'KTB', 'KTB'],\n",
    "    'Person': list(\"ABCDEF\"),\n",
    "    'Sales': [200, 300, np.nan, 100, 140, 350]\n",
    "}\n",
    "df = pd.DataFrame(data)\n",
    "\n",
    "# Drop Column\n",
    "df.drop('Person', axis=1, inplace=True)\n",
    "# Drop Row\n",
    "df.drop(4, axis=0, inplace=True)\n",
    "\n",
    "# Apply function\n",
    "def add_10(x):\n",
    "    return x + 10\n",
    "\n",
    "# Add new column\n",
    "df['+10'] = df['Sales'].apply(add_10)\n",
    "\n",
    "# Add new row \n",
    "df.loc[6] = ['SUM', df['Sales'].sum(), df['+10'].sum()]\n",
    "\n",
    "# Fill NaN\n",
    "df.fillna(value=df['Sales'].mean(), inplace=True)\n",
    "\n",
    "# Sort\n",
    "df.sort_values(by='Sales', ascending=True, inplace=True)\n",
    "\n",
    "# Reset index\n",
    "df.reset_index(inplace=True)\n",
    "\n",
    "# Drop index\n",
    "df.drop('index', axis=1, inplace=True)\n",
    "\n",
    "# Rename column\n",
    "df.rename(columns={'Sales': 'Sales (M)'}, inplace=True)\n",
    "\n",
    "# Save to csv\n",
    "df.to_csv('new.csv', index=False)\n",
    "\n",
    "# Concat\n",
    "df1 = pd.DataFrame({ 'A': ['A0', 'A1', 'A2', 'A3'], 'B': ['B0', 'B1', 'B2', 'B3'], 'C': ['C0', 'C1', 'C2', 'C3'], 'D': ['D0', 'D1', 'D2', 'D3']}, index=[0, 1, 2, 3])\n",
    "df2 = pd.DataFrame({ 'A': ['A4', 'A5', 'A6', 'A7'], 'B': ['B4', 'B5', 'B6', 'B7'], 'C': ['C4', 'C5', 'C6', 'C7'], 'D': ['D4', 'D5', 'D6', 'D7']}, index=[4, 5, 6, 7])\n",
    "\n",
    "display(df, pd.concat([df1, df2], axis=0))"
   ]
  },
  {
   "cell_type": "code",
   "execution_count": null,
   "metadata": {},
   "outputs": [],
   "source": []
  },
  {
   "cell_type": "code",
   "execution_count": null,
   "metadata": {},
   "outputs": [],
   "source": []
  }
 ],
 "metadata": {
  "kernelspec": {
   "display_name": "Python 3",
   "language": "python",
   "name": "python3"
  },
  "language_info": {
   "codemirror_mode": {
    "name": "ipython",
    "version": 3
   },
   "file_extension": ".py",
   "mimetype": "text/x-python",
   "name": "python",
   "nbconvert_exporter": "python",
   "pygments_lexer": "ipython3",
   "version": "3.11.1"
  },
  "orig_nbformat": 4,
  "vscode": {
   "interpreter": {
    "hash": "5238573367df39f7286bb46f9ff5f08f63a01a80960060ce41e3c79b190280fa"
   }
  }
 },
 "nbformat": 4,
 "nbformat_minor": 2
}
