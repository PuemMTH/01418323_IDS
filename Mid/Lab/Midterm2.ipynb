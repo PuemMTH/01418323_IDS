{
 "cells": [
  {
   "cell_type": "code",
   "execution_count": 2,
   "id": "b03337ca",
   "metadata": {},
   "outputs": [],
   "source": [
    "import numpy as np\n",
    "import pandas as pd"
   ]
  },
  {
   "cell_type": "code",
   "execution_count": 3,
   "id": "5a6a5904",
   "metadata": {},
   "outputs": [
    {
     "data": {
      "text/plain": [
       "[1, 2, 3, 4, 5, 6, 7]"
      ]
     },
     "metadata": {},
     "output_type": "display_data"
    },
    {
     "data": {
      "text/plain": [
       "array([1, 2, 3, 4, 5, 6, 7])"
      ]
     },
     "metadata": {},
     "output_type": "display_data"
    }
   ],
   "source": [
    "lst = [1,2,3,4,5,6,7]\n",
    "arr = np.array(lst)\n",
    "display(lst)\n",
    "display(arr)"
   ]
  },
  {
   "cell_type": "code",
   "execution_count": 4,
   "id": "269a4d0c",
   "metadata": {},
   "outputs": [
    {
     "data": {
      "text/plain": [
       "array([[1, 1, 1, 1, 1],\n",
       "       [1, 1, 1, 1, 1]])"
      ]
     },
     "metadata": {},
     "output_type": "display_data"
    }
   ],
   "source": [
    "one = np.ones((2,5), dtype=int)\n",
    "display(one)"
   ]
  },
  {
   "cell_type": "code",
   "execution_count": 5,
   "id": "6303bd1b",
   "metadata": {},
   "outputs": [
    {
     "data": {
      "text/plain": [
       "array([[1, 1, 1, 1, 1],\n",
       "       [1, 1, 1, 1, 1]])"
      ]
     },
     "metadata": {},
     "output_type": "display_data"
    }
   ],
   "source": [
    "zeros = np.zeros((2,5), dtype=int)\n",
    "display(one)"
   ]
  },
  {
   "cell_type": "code",
   "execution_count": 6,
   "id": "c96a8ab6",
   "metadata": {},
   "outputs": [
    {
     "data": {
      "text/plain": [
       "array([[1, 1, 1, 1, 1],\n",
       "       [1, 1, 1, 1, 1]])"
      ]
     },
     "metadata": {},
     "output_type": "display_data"
    }
   ],
   "source": [
    "full = np.full((2,5), 20, dtype=int)\n",
    "display(one)"
   ]
  },
  {
   "cell_type": "code",
   "execution_count": 7,
   "id": "3058faa3",
   "metadata": {},
   "outputs": [
    {
     "data": {
      "text/plain": [
       "array([[1, 1, 1, 1, 1],\n",
       "       [1, 1, 1, 1, 1]])"
      ]
     },
     "metadata": {},
     "output_type": "display_data"
    }
   ],
   "source": [
    "eye = np.eye(9,9,-3, dtype=int)\n",
    "display(one)"
   ]
  },
  {
   "cell_type": "code",
   "execution_count": 8,
   "id": "9aacc60b",
   "metadata": {},
   "outputs": [
    {
     "data": {
      "text/plain": [
       "array([1, 2, 3, 4, 5, 6, 7])"
      ]
     },
     "metadata": {},
     "output_type": "display_data"
    },
    {
     "data": {
      "text/plain": [
       "array([1, 2, 3, 4, 5, 6, 2])"
      ]
     },
     "metadata": {},
     "output_type": "display_data"
    },
    {
     "data": {
      "text/plain": [
       "array([ True,  True,  True,  True,  True,  True, False])"
      ]
     },
     "metadata": {},
     "output_type": "display_data"
    },
    {
     "data": {
      "text/plain": [
       "array([1, 2, 3, 4, 5, 6, 7], dtype=int32)"
      ]
     },
     "metadata": {},
     "output_type": "display_data"
    }
   ],
   "source": [
    "lst1 = [1,2,3,4,5,6,7]\n",
    "lst2 = [1,2,3,4,5,6,2]\n",
    "arr1 = np.array(lst1)\n",
    "arr2 = np.array(lst2)\n",
    "\n",
    "display(arr1,arr2, arr1 == arr2, arr1 & arr1)"
   ]
  },
  {
   "cell_type": "code",
   "execution_count": 9,
   "id": "a87df92a",
   "metadata": {},
   "outputs": [
    {
     "data": {
      "text/plain": [
       "array([[ 0,  1,  2,  3],\n",
       "       [ 4,  5,  6,  7],\n",
       "       [ 8,  9, 10, 11],\n",
       "       [12, 13, 14, 15],\n",
       "       [16, 17, 18, 19]])"
      ]
     },
     "metadata": {},
     "output_type": "display_data"
    }
   ],
   "source": [
    "ranges = np.arange(0,20).reshape(5,4)\n",
    "display(ranges)"
   ]
  },
  {
   "cell_type": "code",
   "execution_count": 10,
   "id": "ba068be9",
   "metadata": {},
   "outputs": [],
   "source": [
    "from numpy import random"
   ]
  },
  {
   "cell_type": "code",
   "execution_count": 11,
   "id": "6eadafcd",
   "metadata": {},
   "outputs": [
    {
     "data": {
      "text/plain": [
       "array([12, 19,  5, 10, 13,  3, 17,  1, 18,  0,  9, 14,  2, 11,  4,  7,  6,\n",
       "        8, 15, 16])"
      ]
     },
     "metadata": {},
     "output_type": "display_data"
    },
    {
     "data": {
      "text/plain": [
       "array([12, 19,  8, 13, 15,  3,  2, 10,  5,  7,  0, 16,  4, 14,  6, 18, 11,\n",
       "       17,  1,  9])"
      ]
     },
     "metadata": {},
     "output_type": "display_data"
    }
   ],
   "source": [
    "sf = np.arange(0,20)\n",
    "random.shuffle(sf)\n",
    "\n",
    "sf_per = random.permutation(sf)\n",
    "display(sf, sf_per)"
   ]
  },
  {
   "cell_type": "code",
   "execution_count": 12,
   "id": "e31c5892",
   "metadata": {},
   "outputs": [
    {
     "data": {
      "text/plain": [
       "a    1\n",
       "b    2\n",
       "c    3\n",
       "d    4\n",
       "e    5\n",
       "dtype: int64"
      ]
     },
     "metadata": {},
     "output_type": "display_data"
    }
   ],
   "source": [
    "ser = pd.Series([1,2,3,4,5], index=list('abcde'))\n",
    "display(ser)"
   ]
  },
  {
   "cell_type": "code",
   "execution_count": 13,
   "id": "d517fe62",
   "metadata": {
    "scrolled": true
   },
   "outputs": [
    {
     "data": {
      "text/html": [
       "<div>\n",
       "<style scoped>\n",
       "    .dataframe tbody tr th:only-of-type {\n",
       "        vertical-align: middle;\n",
       "    }\n",
       "\n",
       "    .dataframe tbody tr th {\n",
       "        vertical-align: top;\n",
       "    }\n",
       "\n",
       "    .dataframe thead th {\n",
       "        text-align: right;\n",
       "    }\n",
       "</style>\n",
       "<table border=\"1\" class=\"dataframe\">\n",
       "  <thead>\n",
       "    <tr style=\"text-align: right;\">\n",
       "      <th></th>\n",
       "      <th>a</th>\n",
       "      <th>b</th>\n",
       "      <th>c</th>\n",
       "      <th>d</th>\n",
       "      <th>e</th>\n",
       "    </tr>\n",
       "  </thead>\n",
       "  <tbody>\n",
       "    <tr>\n",
       "      <th>a</th>\n",
       "      <td>1</td>\n",
       "      <td>2</td>\n",
       "      <td>3</td>\n",
       "      <td>4</td>\n",
       "      <td>5</td>\n",
       "    </tr>\n",
       "    <tr>\n",
       "      <th>b</th>\n",
       "      <td>1</td>\n",
       "      <td>2</td>\n",
       "      <td>3</td>\n",
       "      <td>4</td>\n",
       "      <td>5</td>\n",
       "    </tr>\n",
       "  </tbody>\n",
       "</table>\n",
       "</div>"
      ],
      "text/plain": [
       "   a  b  c  d  e\n",
       "a  1  2  3  4  5\n",
       "b  1  2  3  4  5"
      ]
     },
     "execution_count": 13,
     "metadata": {},
     "output_type": "execute_result"
    }
   ],
   "source": [
    "pd.DataFrame([[1,2,3,4,5],[1,2,3,4,5]], index=list('ab'), columns=list('abcde'))"
   ]
  },
  {
   "cell_type": "code",
   "execution_count": null,
   "id": "ebc6f336",
   "metadata": {},
   "outputs": [],
   "source": [
    "food = pd.read_csv(\"./amazonFood.csv\")\n",
    "display(food.tail(5))"
   ]
  },
  {
   "cell_type": "code",
   "execution_count": null,
   "id": "106ec26c",
   "metadata": {},
   "outputs": [],
   "source": [
    "def find_userid(user_id):\n",
    "    return 'A3' in user_id\n",
    "    \n",
    "def find_review(comment):\n",
    "    return 'GOOD'.lower() in str(comment).lower()\n",
    "\n",
    "good_comment = food[food['Summary'].apply(find_review)]\n",
    "display(good_comment.tail(2))\n",
    "\n",
    "#food[food['UserId'].apply(find_userid)]\n",
    "#food[food['Summary'].apply(find_review)]"
   ]
  },
  {
   "cell_type": "code",
   "execution_count": null,
   "id": "e2d579a8",
   "metadata": {},
   "outputs": [],
   "source": [
    "# good_comment['UserId'].value_counts()\n",
    "\n",
    "all_comment = food[food['UserId'] == \"AY12DBB0U420B\"][\"UserId\"].count()\n",
    "goods = good_comment[good_comment['UserId'] == \"AY12DBB0U420B\"][\"UserId\"].count()\n",
    "\n",
    "display(all_comment, goods)"
   ]
  },
  {
   "cell_type": "markdown",
   "id": "7a9197d8",
   "metadata": {},
   "source": [
    "## Answer"
   ]
  },
  {
   "cell_type": "markdown",
   "id": "ce34cf39",
   "metadata": {},
   "source": [
    "นำเข้าข้อมูล csv ชื่อไฟล์ว่า amazonFood.csv\n",
    "และลอง นำออกมาแสดง 5 ตัวอย่าง"
   ]
  },
  {
   "cell_type": "code",
   "execution_count": 56,
   "id": "b2254a6d",
   "metadata": {
    "scrolled": false
   },
   "outputs": [
    {
     "data": {
      "text/html": [
       "<div>\n",
       "<style scoped>\n",
       "    .dataframe tbody tr th:only-of-type {\n",
       "        vertical-align: middle;\n",
       "    }\n",
       "\n",
       "    .dataframe tbody tr th {\n",
       "        vertical-align: top;\n",
       "    }\n",
       "\n",
       "    .dataframe thead th {\n",
       "        text-align: right;\n",
       "    }\n",
       "</style>\n",
       "<table border=\"1\" class=\"dataframe\">\n",
       "  <thead>\n",
       "    <tr style=\"text-align: right;\">\n",
       "      <th></th>\n",
       "      <th>ProductId</th>\n",
       "      <th>UserId</th>\n",
       "      <th>productName</th>\n",
       "      <th>Score</th>\n",
       "      <th>Summary</th>\n",
       "      <th>Text</th>\n",
       "    </tr>\n",
       "  </thead>\n",
       "  <tbody>\n",
       "    <tr>\n",
       "      <th>41705</th>\n",
       "      <td>B007IVE938</td>\n",
       "      <td>A3MDETK0D5UAIN</td>\n",
       "      <td>Ajika Organic Rose Buds, 1.6-Ounce</td>\n",
       "      <td>1</td>\n",
       "      <td>Not what I expected.</td>\n",
       "      <td>I certainly could do better by these if I just...</td>\n",
       "    </tr>\n",
       "    <tr>\n",
       "      <th>41706</th>\n",
       "      <td>B00125NESM</td>\n",
       "      <td>AGGS9IPJDU6ML</td>\n",
       "      <td>JOHN BOOS FBLG7224 Table,Stainless,Shelf,72\"x24\"</td>\n",
       "      <td>5</td>\n",
       "      <td>Great!!</td>\n",
       "      <td>Table is 35 inches in height.  It is heavy dut...</td>\n",
       "    </tr>\n",
       "    <tr>\n",
       "      <th>41707</th>\n",
       "      <td>B003M5W8ZK</td>\n",
       "      <td>A373MY0PQL9R41</td>\n",
       "      <td>Green Mountain Coffee - Unsweetened Black Iced...</td>\n",
       "      <td>5</td>\n",
       "      <td>Black tea v Coca Cola</td>\n",
       "      <td>I have been one of those people that always fe...</td>\n",
       "    </tr>\n",
       "    <tr>\n",
       "      <th>41708</th>\n",
       "      <td>B003M5W8ZK</td>\n",
       "      <td>A3U2QUKGA7CJOP</td>\n",
       "      <td>Green Mountain Coffee - Unsweetened Black Iced...</td>\n",
       "      <td>1</td>\n",
       "      <td>Never Received the product</td>\n",
       "      <td>I was charged for this product by Liquid Natio...</td>\n",
       "    </tr>\n",
       "    <tr>\n",
       "      <th>41709</th>\n",
       "      <td>B005GXGAGY</td>\n",
       "      <td>A33AYVATA17JUR</td>\n",
       "      <td>LATE JULY CHIP MLTIGRN GRNMOJO ORG, 5.5 OZ, PK...</td>\n",
       "      <td>5</td>\n",
       "      <td>Great taste - and gluten free</td>\n",
       "      <td>Everyone in my family loves this chip - from t...</td>\n",
       "    </tr>\n",
       "  </tbody>\n",
       "</table>\n",
       "</div>"
      ],
      "text/plain": [
       "        ProductId          UserId  \\\n",
       "41705  B007IVE938  A3MDETK0D5UAIN   \n",
       "41706  B00125NESM   AGGS9IPJDU6ML   \n",
       "41707  B003M5W8ZK  A373MY0PQL9R41   \n",
       "41708  B003M5W8ZK  A3U2QUKGA7CJOP   \n",
       "41709  B005GXGAGY  A33AYVATA17JUR   \n",
       "\n",
       "                                             productName  Score  \\\n",
       "41705                 Ajika Organic Rose Buds, 1.6-Ounce      1   \n",
       "41706   JOHN BOOS FBLG7224 Table,Stainless,Shelf,72\"x24\"      5   \n",
       "41707  Green Mountain Coffee - Unsweetened Black Iced...      5   \n",
       "41708  Green Mountain Coffee - Unsweetened Black Iced...      1   \n",
       "41709  LATE JULY CHIP MLTIGRN GRNMOJO ORG, 5.5 OZ, PK...      5   \n",
       "\n",
       "                             Summary  \\\n",
       "41705           Not what I expected.   \n",
       "41706                        Great!!   \n",
       "41707          Black tea v Coca Cola   \n",
       "41708     Never Received the product   \n",
       "41709  Great taste - and gluten free   \n",
       "\n",
       "                                                    Text  \n",
       "41705  I certainly could do better by these if I just...  \n",
       "41706  Table is 35 inches in height.  It is heavy dut...  \n",
       "41707  I have been one of those people that always fe...  \n",
       "41708  I was charged for this product by Liquid Natio...  \n",
       "41709  Everyone in my family loves this chip - from t...  "
      ]
     },
     "execution_count": 56,
     "metadata": {},
     "output_type": "execute_result"
    }
   ],
   "source": [
    "food = pd.read_csv(\"./amazonFood.csv\")\n",
    "food.tail(5)"
   ]
  },
  {
   "cell_type": "markdown",
   "id": "37933876",
   "metadata": {},
   "source": [
    "นำข้อมูลที่ได้จาการ นำเข้า มา"
   ]
  },
  {
   "cell_type": "markdown",
   "id": "4004b4ae",
   "metadata": {},
   "source": [
    " - หาความยาวของข้อความ Summary ถ้าน้อยกว่า 5 คำ (แสดง 2 ตัวอย่าง)"
   ]
  },
  {
   "cell_type": "code",
   "execution_count": 57,
   "id": "94958e11",
   "metadata": {},
   "outputs": [
    {
     "data": {
      "text/html": [
       "<div>\n",
       "<style scoped>\n",
       "    .dataframe tbody tr th:only-of-type {\n",
       "        vertical-align: middle;\n",
       "    }\n",
       "\n",
       "    .dataframe tbody tr th {\n",
       "        vertical-align: top;\n",
       "    }\n",
       "\n",
       "    .dataframe thead th {\n",
       "        text-align: right;\n",
       "    }\n",
       "</style>\n",
       "<table border=\"1\" class=\"dataframe\">\n",
       "  <thead>\n",
       "    <tr style=\"text-align: right;\">\n",
       "      <th></th>\n",
       "      <th>ProductId</th>\n",
       "      <th>UserId</th>\n",
       "      <th>productName</th>\n",
       "      <th>Score</th>\n",
       "      <th>Summary</th>\n",
       "      <th>Text</th>\n",
       "    </tr>\n",
       "  </thead>\n",
       "  <tbody>\n",
       "    <tr>\n",
       "      <th>41707</th>\n",
       "      <td>B003M5W8ZK</td>\n",
       "      <td>A373MY0PQL9R41</td>\n",
       "      <td>Green Mountain Coffee - Unsweetened Black Iced...</td>\n",
       "      <td>5</td>\n",
       "      <td>Black tea v Coca Cola</td>\n",
       "      <td>I have been one of those people that always fe...</td>\n",
       "    </tr>\n",
       "    <tr>\n",
       "      <th>41709</th>\n",
       "      <td>B005GXGAGY</td>\n",
       "      <td>A33AYVATA17JUR</td>\n",
       "      <td>LATE JULY CHIP MLTIGRN GRNMOJO ORG, 5.5 OZ, PK...</td>\n",
       "      <td>5</td>\n",
       "      <td>Great taste - and gluten free</td>\n",
       "      <td>Everyone in my family loves this chip - from t...</td>\n",
       "    </tr>\n",
       "  </tbody>\n",
       "</table>\n",
       "</div>"
      ],
      "text/plain": [
       "        ProductId          UserId  \\\n",
       "41707  B003M5W8ZK  A373MY0PQL9R41   \n",
       "41709  B005GXGAGY  A33AYVATA17JUR   \n",
       "\n",
       "                                             productName  Score  \\\n",
       "41707  Green Mountain Coffee - Unsweetened Black Iced...      5   \n",
       "41709  LATE JULY CHIP MLTIGRN GRNMOJO ORG, 5.5 OZ, PK...      5   \n",
       "\n",
       "                             Summary  \\\n",
       "41707          Black tea v Coca Cola   \n",
       "41709  Great taste - and gluten free   \n",
       "\n",
       "                                                    Text  \n",
       "41707  I have been one of those people that always fe...  \n",
       "41709  Everyone in my family loves this chip - from t...  "
      ]
     },
     "execution_count": 57,
     "metadata": {},
     "output_type": "execute_result"
    }
   ],
   "source": [
    "def find_word(word):\n",
    "    word = str(word)\n",
    "    if len(word.split(\" \")) < 5:\n",
    "        return False\n",
    "    else:\n",
    "        return True\n",
    "    \n",
    "food[food['Summary'].apply(find_word)].tail(2)"
   ]
  },
  {
   "cell_type": "markdown",
   "id": "23641f04",
   "metadata": {},
   "source": [
    " - จากข้อก่อนหน้ามีกี่คนที่ให้ 5 คะแนนที่คน"
   ]
  },
  {
   "cell_type": "code",
   "execution_count": 58,
   "id": "aa600f2a",
   "metadata": {},
   "outputs": [
    {
     "data": {
      "text/plain": [
       "7241"
      ]
     },
     "metadata": {},
     "output_type": "display_data"
    }
   ],
   "source": [
    "a = food[food['Summary'].apply(find_word)]\n",
    "b = a[a['Score'] == 5]['UserId']\n",
    "display(b.value_counts().count())"
   ]
  },
  {
   "cell_type": "markdown",
   "id": "6d6e9299",
   "metadata": {},
   "source": [
    " - แสดง top 5 product Name ทั้งหมด ที่ในชื่อมีคำว่า Coffee"
   ]
  },
  {
   "cell_type": "code",
   "execution_count": 59,
   "id": "bd60ad30",
   "metadata": {},
   "outputs": [
    {
     "data": {
      "text/plain": [
       "Wolfgang Puck Coffee, Chef's Reserve Colombian Decaf (Medium Roast), 24-Count K-Cups for Keurig Brewers (Pack of 2)    455\n",
       "Puroast Low Acid Coffee French Roast, 2-Ounce Bag (Pack of 10)                                                         330\n",
       "Green Mountain Coffee Roasters Breakfast Blend, Single-Serve Keurig K-Cup Pods, Light Roast Coffee Pods, 96 Count      242\n",
       "Green Mountain Coffee Roasters Nantucket Blend, Single-Serve Keurig K-Cup Pods, Medium Roast Coffee, 96 Count          172\n",
       "Emeril's Big Easy Bold Coffee, 108-Count K-Cup for Keurig Brewers                                                      150\n",
       "Name: productName, dtype: int64"
      ]
     },
     "execution_count": 59,
     "metadata": {},
     "output_type": "execute_result"
    }
   ],
   "source": [
    "food[food['productName'].apply(lambda x: 'coffee' in x.lower())]['productName'].value_counts().head()"
   ]
  },
  {
   "cell_type": "markdown",
   "id": "a093e275",
   "metadata": {},
   "source": [
    " - แสดงค่าเฉลี่ยคะแนนของคนที่ทานกาแฟ"
   ]
  },
  {
   "cell_type": "code",
   "execution_count": 60,
   "id": "dec54a59",
   "metadata": {},
   "outputs": [
    {
     "data": {
      "text/plain": [
       "4.131608548931384"
      ]
     },
     "execution_count": 60,
     "metadata": {},
     "output_type": "execute_result"
    }
   ],
   "source": [
    "food[food['productName'].apply(lambda x: 'coffee' in x.lower())]['Score'].mean()"
   ]
  },
  {
   "cell_type": "markdown",
   "id": "8be58764",
   "metadata": {},
   "source": [
    " - แสดงจำนวนเมนูทั้งหมด ไม่นับชื่อเมนูที่ซ้ำกัน"
   ]
  },
  {
   "cell_type": "code",
   "execution_count": 61,
   "id": "6b10484d",
   "metadata": {},
   "outputs": [
    {
     "data": {
      "text/plain": [
       "4939"
      ]
     },
     "execution_count": 61,
     "metadata": {},
     "output_type": "execute_result"
    }
   ],
   "source": [
    "len(food['productName'].unique())"
   ]
  },
  {
   "cell_type": "code",
   "execution_count": 62,
   "id": "bdd20933",
   "metadata": {},
   "outputs": [
    {
     "name": "stdout",
     "output_type": "stream",
     "text": [
      "<class 'pandas.core.frame.DataFrame'>\n",
      "RangeIndex: 41710 entries, 0 to 41709\n",
      "Data columns (total 6 columns):\n",
      " #   Column       Non-Null Count  Dtype \n",
      "---  ------       --------------  ----- \n",
      " 0   ProductId    41710 non-null  object\n",
      " 1   UserId       41710 non-null  object\n",
      " 2   productName  41710 non-null  object\n",
      " 3   Score        41710 non-null  int64 \n",
      " 4   Summary      41708 non-null  object\n",
      " 5   Text         41710 non-null  object\n",
      "dtypes: int64(1), object(5)\n",
      "memory usage: 1.9+ MB\n"
     ]
    }
   ],
   "source": [
    "food.info()"
   ]
  },
  {
   "cell_type": "code",
   "execution_count": 72,
   "id": "a38a2519",
   "metadata": {},
   "outputs": [
    {
     "data": {
      "text/html": [
       "<div>\n",
       "<style scoped>\n",
       "    .dataframe tbody tr th:only-of-type {\n",
       "        vertical-align: middle;\n",
       "    }\n",
       "\n",
       "    .dataframe tbody tr th {\n",
       "        vertical-align: top;\n",
       "    }\n",
       "\n",
       "    .dataframe thead th {\n",
       "        text-align: right;\n",
       "    }\n",
       "</style>\n",
       "<table border=\"1\" class=\"dataframe\">\n",
       "  <thead>\n",
       "    <tr style=\"text-align: right;\">\n",
       "      <th></th>\n",
       "      <th>ProductId</th>\n",
       "      <th>UserId</th>\n",
       "      <th>productName</th>\n",
       "      <th>Score</th>\n",
       "      <th>Summary</th>\n",
       "    </tr>\n",
       "  </thead>\n",
       "  <tbody>\n",
       "    <tr>\n",
       "      <th>0</th>\n",
       "      <td>B001E4KFG0</td>\n",
       "      <td>A3SGXH7AUHU8GW</td>\n",
       "      <td>Dogswell Vitality Canned Dog Food Case Duck</td>\n",
       "      <td>5</td>\n",
       "      <td>Good Quality Dog Food</td>\n",
       "    </tr>\n",
       "    <tr>\n",
       "      <th>1</th>\n",
       "      <td>B00813GRG4</td>\n",
       "      <td>A1D87F6ZCVE5NK</td>\n",
       "      <td>Southern Grove Premium Quality Roasted and Sal...</td>\n",
       "      <td>1</td>\n",
       "      <td>Not as Advertised</td>\n",
       "    </tr>\n",
       "    <tr>\n",
       "      <th>2</th>\n",
       "      <td>B000LQOCH0</td>\n",
       "      <td>ABXLMWJIXXAIN</td>\n",
       "      <td>Turkish Delight Filbert (Hazelnuts) (Sultan) 1...</td>\n",
       "      <td>4</td>\n",
       "      <td>\"Delight\" says it all</td>\n",
       "    </tr>\n",
       "    <tr>\n",
       "      <th>3</th>\n",
       "      <td>B000UA0QIQ</td>\n",
       "      <td>A395BORC6FGVXV</td>\n",
       "      <td>Faeries Finest Flavor Extract, Cherry, 2.04 Ounce</td>\n",
       "      <td>2</td>\n",
       "      <td>Cough Medicine</td>\n",
       "    </tr>\n",
       "    <tr>\n",
       "      <th>4</th>\n",
       "      <td>B006K2ZZ7K</td>\n",
       "      <td>A1UQRSCLF8GW1T</td>\n",
       "      <td>Salt Water Taffy - Assorted, 5 lbs</td>\n",
       "      <td>5</td>\n",
       "      <td>Great taffy</td>\n",
       "    </tr>\n",
       "    <tr>\n",
       "      <th>...</th>\n",
       "      <td>...</td>\n",
       "      <td>...</td>\n",
       "      <td>...</td>\n",
       "      <td>...</td>\n",
       "      <td>...</td>\n",
       "    </tr>\n",
       "    <tr>\n",
       "      <th>41705</th>\n",
       "      <td>B007IVE938</td>\n",
       "      <td>A3MDETK0D5UAIN</td>\n",
       "      <td>Ajika Organic Rose Buds, 1.6-Ounce</td>\n",
       "      <td>1</td>\n",
       "      <td>Not what I expected.</td>\n",
       "    </tr>\n",
       "    <tr>\n",
       "      <th>41706</th>\n",
       "      <td>B00125NESM</td>\n",
       "      <td>AGGS9IPJDU6ML</td>\n",
       "      <td>JOHN BOOS FBLG7224 Table,Stainless,Shelf,72\"x24\"</td>\n",
       "      <td>5</td>\n",
       "      <td>Great!!</td>\n",
       "    </tr>\n",
       "    <tr>\n",
       "      <th>41707</th>\n",
       "      <td>B003M5W8ZK</td>\n",
       "      <td>A373MY0PQL9R41</td>\n",
       "      <td>Green Mountain Coffee - Unsweetened Black Iced...</td>\n",
       "      <td>5</td>\n",
       "      <td>Black tea v Coca Cola</td>\n",
       "    </tr>\n",
       "    <tr>\n",
       "      <th>41708</th>\n",
       "      <td>B003M5W8ZK</td>\n",
       "      <td>A3U2QUKGA7CJOP</td>\n",
       "      <td>Green Mountain Coffee - Unsweetened Black Iced...</td>\n",
       "      <td>1</td>\n",
       "      <td>Never Received the product</td>\n",
       "    </tr>\n",
       "    <tr>\n",
       "      <th>41709</th>\n",
       "      <td>B005GXGAGY</td>\n",
       "      <td>A33AYVATA17JUR</td>\n",
       "      <td>LATE JULY CHIP MLTIGRN GRNMOJO ORG, 5.5 OZ, PK...</td>\n",
       "      <td>5</td>\n",
       "      <td>Great taste - and gluten free</td>\n",
       "    </tr>\n",
       "  </tbody>\n",
       "</table>\n",
       "<p>41710 rows × 5 columns</p>\n",
       "</div>"
      ],
      "text/plain": [
       "        ProductId          UserId  \\\n",
       "0      B001E4KFG0  A3SGXH7AUHU8GW   \n",
       "1      B00813GRG4  A1D87F6ZCVE5NK   \n",
       "2      B000LQOCH0   ABXLMWJIXXAIN   \n",
       "3      B000UA0QIQ  A395BORC6FGVXV   \n",
       "4      B006K2ZZ7K  A1UQRSCLF8GW1T   \n",
       "...           ...             ...   \n",
       "41705  B007IVE938  A3MDETK0D5UAIN   \n",
       "41706  B00125NESM   AGGS9IPJDU6ML   \n",
       "41707  B003M5W8ZK  A373MY0PQL9R41   \n",
       "41708  B003M5W8ZK  A3U2QUKGA7CJOP   \n",
       "41709  B005GXGAGY  A33AYVATA17JUR   \n",
       "\n",
       "                                             productName  Score  \\\n",
       "0            Dogswell Vitality Canned Dog Food Case Duck      5   \n",
       "1      Southern Grove Premium Quality Roasted and Sal...      1   \n",
       "2      Turkish Delight Filbert (Hazelnuts) (Sultan) 1...      4   \n",
       "3      Faeries Finest Flavor Extract, Cherry, 2.04 Ounce      2   \n",
       "4                     Salt Water Taffy - Assorted, 5 lbs      5   \n",
       "...                                                  ...    ...   \n",
       "41705                 Ajika Organic Rose Buds, 1.6-Ounce      1   \n",
       "41706   JOHN BOOS FBLG7224 Table,Stainless,Shelf,72\"x24\"      5   \n",
       "41707  Green Mountain Coffee - Unsweetened Black Iced...      5   \n",
       "41708  Green Mountain Coffee - Unsweetened Black Iced...      1   \n",
       "41709  LATE JULY CHIP MLTIGRN GRNMOJO ORG, 5.5 OZ, PK...      5   \n",
       "\n",
       "                             Summary  \n",
       "0              Good Quality Dog Food  \n",
       "1                  Not as Advertised  \n",
       "2              \"Delight\" says it all  \n",
       "3                     Cough Medicine  \n",
       "4                        Great taffy  \n",
       "...                              ...  \n",
       "41705           Not what I expected.  \n",
       "41706                        Great!!  \n",
       "41707          Black tea v Coca Cola  \n",
       "41708     Never Received the product  \n",
       "41709  Great taste - and gluten free  \n",
       "\n",
       "[41710 rows x 5 columns]"
      ]
     },
     "execution_count": 72,
     "metadata": {},
     "output_type": "execute_result"
    }
   ],
   "source": [
    "food.drop('Text', axis=1)"
   ]
  },
  {
   "cell_type": "code",
   "execution_count": null,
   "id": "64bf2ba2",
   "metadata": {},
   "outputs": [],
   "source": []
  },
  {
   "cell_type": "code",
   "execution_count": null,
   "id": "8b4d11e1",
   "metadata": {},
   "outputs": [],
   "source": []
  },
  {
   "cell_type": "code",
   "execution_count": null,
   "id": "e301e0c9",
   "metadata": {},
   "outputs": [],
   "source": []
  },
  {
   "cell_type": "code",
   "execution_count": null,
   "id": "6d81467e",
   "metadata": {},
   "outputs": [],
   "source": []
  },
  {
   "cell_type": "code",
   "execution_count": null,
   "id": "47d049b3",
   "metadata": {},
   "outputs": [],
   "source": []
  }
 ],
 "metadata": {
  "kernelspec": {
   "display_name": "Python 3 (ipykernel)",
   "language": "python",
   "name": "python3"
  },
  "language_info": {
   "codemirror_mode": {
    "name": "ipython",
    "version": 3
   },
   "file_extension": ".py",
   "mimetype": "text/x-python",
   "name": "python",
   "nbconvert_exporter": "python",
   "pygments_lexer": "ipython3",
   "version": "3.9.13"
  }
 },
 "nbformat": 4,
 "nbformat_minor": 5
}
